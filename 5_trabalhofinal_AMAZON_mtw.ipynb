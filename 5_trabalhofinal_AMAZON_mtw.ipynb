{
  "nbformat": 4,
  "nbformat_minor": 0,
  "metadata": {
    "colab": {
      "provenance": [],
      "authorship_tag": "ABX9TyMRZSdqL4I5TPwNN9D75uwQ",
      "include_colab_link": true
    },
    "kernelspec": {
      "name": "python3",
      "display_name": "Python 3"
    },
    "language_info": {
      "name": "python"
    }
  },
  "cells": [
    {
      "cell_type": "markdown",
      "metadata": {
        "id": "view-in-github",
        "colab_type": "text"
      },
      "source": [
        "<a href=\"https://colab.research.google.com/github/valeriafigueredo-data/Mineracao_de_Texto_e_na_Web/blob/main/5_trabalhofinal_AMAZON_mtw.ipynb\" target=\"_parent\"><img src=\"https://colab.research.google.com/assets/colab-badge.svg\" alt=\"Open In Colab\"/></a>"
      ]
    },
    {
      "cell_type": "markdown",
      "source": [
        "# **Trabalho Final da Disciplina Mineração de Texto e na Web**\n",
        "\n",
        "**Discente:**\n",
        "\n",
        "Valéria Cristina A. R. de Figueredo"
      ],
      "metadata": {
        "id": "gtKPwVTVOz8q"
      }
    },
    {
      "cell_type": "markdown",
      "source": [
        "**DICIONÁRIO**\n",
        "\n",
        "1. Index            ---------- Index\n",
        "\n",
        "2. ReviewerName     ---------- Nome da pessoa que fez a revisão\n",
        "\n",
        "3. Overall          ---------- Avaliação/Classificação do produto\n",
        "\n",
        "4. ReviewText       ---------- Texto da Avaliação\n",
        "\n",
        "5. ReviewTime       ---------- Data da Avaliação\n",
        "\n",
        "6. Day Diff         ---------- Número de Dias desde a avaliação\n",
        "\n",
        "7. Helpful_yes      ---------- Número de vezes que a avaliação foi considerada útil\n",
        "\n",
        "8. Helpful_no      ----------  Número de pessoas que não apoiaram o comentário e não acharam a avaliação útil\n",
        "\n",
        "9. Total_vote      ----------  Número total de votos dados a avaliação\n",
        "\n",
        "10. Score_pos_neg_diff  ---------- Diferença entre o número de avaliações positivas e negativas\n",
        "\n",
        "11. Score_average_rating ----------  Média das classificações de um produto ou serviço\n",
        "\n",
        "12. Wilson_lower_bound   ---------- Estatística usada para estimar a probabilidade de sucesso em um cenário binomial, levando em conta a incerteza nas avaliações.\n",
        "\n",
        "\n",
        "\n",
        "FONTE DO DATASET: [AMAZON](https://https://www.kaggle.com/datasets/tarkkaanko/amazon/data )"
      ],
      "metadata": {
        "id": "BV2huY6PPgLc"
      }
    },
    {
      "cell_type": "code",
      "source": [],
      "metadata": {
        "id": "trKAL1MYE7N4"
      },
      "execution_count": null,
      "outputs": []
    },
    {
      "cell_type": "markdown",
      "source": [
        "# **1. BIBLIOTECA E IMPORTAÇÃO DOS DADOS**"
      ],
      "metadata": {
        "id": "-ad6eNFkVRz2"
      }
    },
    {
      "cell_type": "code",
      "execution_count": null,
      "metadata": {
        "colab": {
          "base_uri": "https://localhost:8080/"
        },
        "id": "U5Fbf90zJTx2",
        "outputId": "dedbb1a0-fca6-4049-8dc6-4d9d187ae157"
      },
      "outputs": [
        {
          "output_type": "stream",
          "name": "stderr",
          "text": [
            "[nltk_data] Downloading package punkt to /root/nltk_data...\n",
            "[nltk_data]   Package punkt is already up-to-date!\n",
            "[nltk_data] Downloading package stopwords to /root/nltk_data...\n",
            "[nltk_data]   Package stopwords is already up-to-date!\n",
            "[nltk_data] Downloading package wordnet to /root/nltk_data...\n",
            "[nltk_data]   Package wordnet is already up-to-date!\n"
          ]
        },
        {
          "output_type": "execute_result",
          "data": {
            "text/plain": [
              "True"
            ]
          },
          "metadata": {},
          "execution_count": 341
        }
      ],
      "source": [
        "\n",
        "\n",
        "from nltk.corpus import stopwords\n",
        "from nltk.tokenize import word_tokenize\n",
        "from nltk.stem import WordNetLemmatizer\n",
        "import pandas as pd\n",
        "import numpy as np\n",
        "import seaborn as sns\n",
        "import matplotlib.pyplot as plt\n",
        "import pandas as pd\n",
        "import spacy\n",
        "import nltk\n",
        "import re\n",
        "\n",
        "nltk.download('punkt')\n",
        "nltk.download('stopwords')\n",
        "nltk.download('wordnet')\n"
      ]
    },
    {
      "cell_type": "code",
      "source": [
        "pip install matplotlib"
      ],
      "metadata": {
        "colab": {
          "base_uri": "https://localhost:8080/"
        },
        "id": "QdrLst-hPN80",
        "outputId": "0391f32a-2108-4e14-c469-e1104c4def23"
      },
      "execution_count": null,
      "outputs": [
        {
          "output_type": "stream",
          "name": "stdout",
          "text": [
            "Requirement already satisfied: matplotlib in /usr/local/lib/python3.10/dist-packages (3.7.1)\n",
            "Requirement already satisfied: contourpy>=1.0.1 in /usr/local/lib/python3.10/dist-packages (from matplotlib) (1.3.0)\n",
            "Requirement already satisfied: cycler>=0.10 in /usr/local/lib/python3.10/dist-packages (from matplotlib) (0.12.1)\n",
            "Requirement already satisfied: fonttools>=4.22.0 in /usr/local/lib/python3.10/dist-packages (from matplotlib) (4.54.1)\n",
            "Requirement already satisfied: kiwisolver>=1.0.1 in /usr/local/lib/python3.10/dist-packages (from matplotlib) (1.4.7)\n",
            "Requirement already satisfied: numpy>=1.20 in /usr/local/lib/python3.10/dist-packages (from matplotlib) (1.26.4)\n",
            "Requirement already satisfied: packaging>=20.0 in /usr/local/lib/python3.10/dist-packages (from matplotlib) (24.1)\n",
            "Requirement already satisfied: pillow>=6.2.0 in /usr/local/lib/python3.10/dist-packages (from matplotlib) (10.4.0)\n",
            "Requirement already satisfied: pyparsing>=2.3.1 in /usr/local/lib/python3.10/dist-packages (from matplotlib) (3.2.0)\n",
            "Requirement already satisfied: python-dateutil>=2.7 in /usr/local/lib/python3.10/dist-packages (from matplotlib) (2.8.2)\n",
            "Requirement already satisfied: six>=1.5 in /usr/local/lib/python3.10/dist-packages (from python-dateutil>=2.7->matplotlib) (1.16.0)\n"
          ]
        }
      ]
    },
    {
      "cell_type": "code",
      "source": [
        "df = pd.read_csv(\"https://raw.githubusercontent.com/valeriafigueredo-data/datasets/refs/heads/main/amazon_reviews.csv\",sep=',')"
      ],
      "metadata": {
        "id": "a_eRdPnMJbQ9"
      },
      "execution_count": null,
      "outputs": []
    },
    {
      "cell_type": "markdown",
      "source": [
        "# **2. ANÁLISE EXPLORATÓRIA**"
      ],
      "metadata": {
        "id": "ssTBrlN9NnEA"
      }
    },
    {
      "cell_type": "code",
      "source": [
        "df.head()"
      ],
      "metadata": {
        "colab": {
          "base_uri": "https://localhost:8080/",
          "height": 379
        },
        "id": "v8Sqw3cLKS93",
        "outputId": "aef34af8-aed7-431c-950e-0a27519ce0fe"
      },
      "execution_count": null,
      "outputs": [
        {
          "output_type": "execute_result",
          "data": {
            "text/plain": [
              "   Unnamed: 0  reviewerName  overall  \\\n",
              "0           0           NaN      4.0   \n",
              "1           1          0mie      5.0   \n",
              "2           2           1K3      4.0   \n",
              "3           3           1m2      5.0   \n",
              "4           4  2&amp;1/2Men      5.0   \n",
              "\n",
              "                                          reviewText  reviewTime  day_diff  \\\n",
              "0                                         No issues.  2014-07-23       138   \n",
              "1  Purchased this for my device, it worked as adv...  2013-10-25       409   \n",
              "2  it works as expected. I should have sprung for...  2012-12-23       715   \n",
              "3  This think has worked out great.Had a diff. br...  2013-11-21       382   \n",
              "4  Bought it with Retail Packaging, arrived legit...  2013-07-13       513   \n",
              "\n",
              "   helpful_yes  helpful_no  total_vote  score_pos_neg_diff  \\\n",
              "0            0           0           0                   0   \n",
              "1            0           0           0                   0   \n",
              "2            0           0           0                   0   \n",
              "3            0           0           0                   0   \n",
              "4            0           0           0                   0   \n",
              "\n",
              "   score_average_rating  wilson_lower_bound  \n",
              "0                   0.0                 0.0  \n",
              "1                   0.0                 0.0  \n",
              "2                   0.0                 0.0  \n",
              "3                   0.0                 0.0  \n",
              "4                   0.0                 0.0  "
            ],
            "text/html": [
              "\n",
              "  <div id=\"df-0837cc68-47dd-4466-b066-5346273094ae\" class=\"colab-df-container\">\n",
              "    <div>\n",
              "<style scoped>\n",
              "    .dataframe tbody tr th:only-of-type {\n",
              "        vertical-align: middle;\n",
              "    }\n",
              "\n",
              "    .dataframe tbody tr th {\n",
              "        vertical-align: top;\n",
              "    }\n",
              "\n",
              "    .dataframe thead th {\n",
              "        text-align: right;\n",
              "    }\n",
              "</style>\n",
              "<table border=\"1\" class=\"dataframe\">\n",
              "  <thead>\n",
              "    <tr style=\"text-align: right;\">\n",
              "      <th></th>\n",
              "      <th>Unnamed: 0</th>\n",
              "      <th>reviewerName</th>\n",
              "      <th>overall</th>\n",
              "      <th>reviewText</th>\n",
              "      <th>reviewTime</th>\n",
              "      <th>day_diff</th>\n",
              "      <th>helpful_yes</th>\n",
              "      <th>helpful_no</th>\n",
              "      <th>total_vote</th>\n",
              "      <th>score_pos_neg_diff</th>\n",
              "      <th>score_average_rating</th>\n",
              "      <th>wilson_lower_bound</th>\n",
              "    </tr>\n",
              "  </thead>\n",
              "  <tbody>\n",
              "    <tr>\n",
              "      <th>0</th>\n",
              "      <td>0</td>\n",
              "      <td>NaN</td>\n",
              "      <td>4.0</td>\n",
              "      <td>No issues.</td>\n",
              "      <td>2014-07-23</td>\n",
              "      <td>138</td>\n",
              "      <td>0</td>\n",
              "      <td>0</td>\n",
              "      <td>0</td>\n",
              "      <td>0</td>\n",
              "      <td>0.0</td>\n",
              "      <td>0.0</td>\n",
              "    </tr>\n",
              "    <tr>\n",
              "      <th>1</th>\n",
              "      <td>1</td>\n",
              "      <td>0mie</td>\n",
              "      <td>5.0</td>\n",
              "      <td>Purchased this for my device, it worked as adv...</td>\n",
              "      <td>2013-10-25</td>\n",
              "      <td>409</td>\n",
              "      <td>0</td>\n",
              "      <td>0</td>\n",
              "      <td>0</td>\n",
              "      <td>0</td>\n",
              "      <td>0.0</td>\n",
              "      <td>0.0</td>\n",
              "    </tr>\n",
              "    <tr>\n",
              "      <th>2</th>\n",
              "      <td>2</td>\n",
              "      <td>1K3</td>\n",
              "      <td>4.0</td>\n",
              "      <td>it works as expected. I should have sprung for...</td>\n",
              "      <td>2012-12-23</td>\n",
              "      <td>715</td>\n",
              "      <td>0</td>\n",
              "      <td>0</td>\n",
              "      <td>0</td>\n",
              "      <td>0</td>\n",
              "      <td>0.0</td>\n",
              "      <td>0.0</td>\n",
              "    </tr>\n",
              "    <tr>\n",
              "      <th>3</th>\n",
              "      <td>3</td>\n",
              "      <td>1m2</td>\n",
              "      <td>5.0</td>\n",
              "      <td>This think has worked out great.Had a diff. br...</td>\n",
              "      <td>2013-11-21</td>\n",
              "      <td>382</td>\n",
              "      <td>0</td>\n",
              "      <td>0</td>\n",
              "      <td>0</td>\n",
              "      <td>0</td>\n",
              "      <td>0.0</td>\n",
              "      <td>0.0</td>\n",
              "    </tr>\n",
              "    <tr>\n",
              "      <th>4</th>\n",
              "      <td>4</td>\n",
              "      <td>2&amp;amp;1/2Men</td>\n",
              "      <td>5.0</td>\n",
              "      <td>Bought it with Retail Packaging, arrived legit...</td>\n",
              "      <td>2013-07-13</td>\n",
              "      <td>513</td>\n",
              "      <td>0</td>\n",
              "      <td>0</td>\n",
              "      <td>0</td>\n",
              "      <td>0</td>\n",
              "      <td>0.0</td>\n",
              "      <td>0.0</td>\n",
              "    </tr>\n",
              "  </tbody>\n",
              "</table>\n",
              "</div>\n",
              "    <div class=\"colab-df-buttons\">\n",
              "\n",
              "  <div class=\"colab-df-container\">\n",
              "    <button class=\"colab-df-convert\" onclick=\"convertToInteractive('df-0837cc68-47dd-4466-b066-5346273094ae')\"\n",
              "            title=\"Convert this dataframe to an interactive table.\"\n",
              "            style=\"display:none;\">\n",
              "\n",
              "  <svg xmlns=\"http://www.w3.org/2000/svg\" height=\"24px\" viewBox=\"0 -960 960 960\">\n",
              "    <path d=\"M120-120v-720h720v720H120Zm60-500h600v-160H180v160Zm220 220h160v-160H400v160Zm0 220h160v-160H400v160ZM180-400h160v-160H180v160Zm440 0h160v-160H620v160ZM180-180h160v-160H180v160Zm440 0h160v-160H620v160Z\"/>\n",
              "  </svg>\n",
              "    </button>\n",
              "\n",
              "  <style>\n",
              "    .colab-df-container {\n",
              "      display:flex;\n",
              "      gap: 12px;\n",
              "    }\n",
              "\n",
              "    .colab-df-convert {\n",
              "      background-color: #E8F0FE;\n",
              "      border: none;\n",
              "      border-radius: 50%;\n",
              "      cursor: pointer;\n",
              "      display: none;\n",
              "      fill: #1967D2;\n",
              "      height: 32px;\n",
              "      padding: 0 0 0 0;\n",
              "      width: 32px;\n",
              "    }\n",
              "\n",
              "    .colab-df-convert:hover {\n",
              "      background-color: #E2EBFA;\n",
              "      box-shadow: 0px 1px 2px rgba(60, 64, 67, 0.3), 0px 1px 3px 1px rgba(60, 64, 67, 0.15);\n",
              "      fill: #174EA6;\n",
              "    }\n",
              "\n",
              "    .colab-df-buttons div {\n",
              "      margin-bottom: 4px;\n",
              "    }\n",
              "\n",
              "    [theme=dark] .colab-df-convert {\n",
              "      background-color: #3B4455;\n",
              "      fill: #D2E3FC;\n",
              "    }\n",
              "\n",
              "    [theme=dark] .colab-df-convert:hover {\n",
              "      background-color: #434B5C;\n",
              "      box-shadow: 0px 1px 3px 1px rgba(0, 0, 0, 0.15);\n",
              "      filter: drop-shadow(0px 1px 2px rgba(0, 0, 0, 0.3));\n",
              "      fill: #FFFFFF;\n",
              "    }\n",
              "  </style>\n",
              "\n",
              "    <script>\n",
              "      const buttonEl =\n",
              "        document.querySelector('#df-0837cc68-47dd-4466-b066-5346273094ae button.colab-df-convert');\n",
              "      buttonEl.style.display =\n",
              "        google.colab.kernel.accessAllowed ? 'block' : 'none';\n",
              "\n",
              "      async function convertToInteractive(key) {\n",
              "        const element = document.querySelector('#df-0837cc68-47dd-4466-b066-5346273094ae');\n",
              "        const dataTable =\n",
              "          await google.colab.kernel.invokeFunction('convertToInteractive',\n",
              "                                                    [key], {});\n",
              "        if (!dataTable) return;\n",
              "\n",
              "        const docLinkHtml = 'Like what you see? Visit the ' +\n",
              "          '<a target=\"_blank\" href=https://colab.research.google.com/notebooks/data_table.ipynb>data table notebook</a>'\n",
              "          + ' to learn more about interactive tables.';\n",
              "        element.innerHTML = '';\n",
              "        dataTable['output_type'] = 'display_data';\n",
              "        await google.colab.output.renderOutput(dataTable, element);\n",
              "        const docLink = document.createElement('div');\n",
              "        docLink.innerHTML = docLinkHtml;\n",
              "        element.appendChild(docLink);\n",
              "      }\n",
              "    </script>\n",
              "  </div>\n",
              "\n",
              "\n",
              "<div id=\"df-a8272711-f82c-43bd-9af5-0621e05cd17d\">\n",
              "  <button class=\"colab-df-quickchart\" onclick=\"quickchart('df-a8272711-f82c-43bd-9af5-0621e05cd17d')\"\n",
              "            title=\"Suggest charts\"\n",
              "            style=\"display:none;\">\n",
              "\n",
              "<svg xmlns=\"http://www.w3.org/2000/svg\" height=\"24px\"viewBox=\"0 0 24 24\"\n",
              "     width=\"24px\">\n",
              "    <g>\n",
              "        <path d=\"M19 3H5c-1.1 0-2 .9-2 2v14c0 1.1.9 2 2 2h14c1.1 0 2-.9 2-2V5c0-1.1-.9-2-2-2zM9 17H7v-7h2v7zm4 0h-2V7h2v10zm4 0h-2v-4h2v4z\"/>\n",
              "    </g>\n",
              "</svg>\n",
              "  </button>\n",
              "\n",
              "<style>\n",
              "  .colab-df-quickchart {\n",
              "      --bg-color: #E8F0FE;\n",
              "      --fill-color: #1967D2;\n",
              "      --hover-bg-color: #E2EBFA;\n",
              "      --hover-fill-color: #174EA6;\n",
              "      --disabled-fill-color: #AAA;\n",
              "      --disabled-bg-color: #DDD;\n",
              "  }\n",
              "\n",
              "  [theme=dark] .colab-df-quickchart {\n",
              "      --bg-color: #3B4455;\n",
              "      --fill-color: #D2E3FC;\n",
              "      --hover-bg-color: #434B5C;\n",
              "      --hover-fill-color: #FFFFFF;\n",
              "      --disabled-bg-color: #3B4455;\n",
              "      --disabled-fill-color: #666;\n",
              "  }\n",
              "\n",
              "  .colab-df-quickchart {\n",
              "    background-color: var(--bg-color);\n",
              "    border: none;\n",
              "    border-radius: 50%;\n",
              "    cursor: pointer;\n",
              "    display: none;\n",
              "    fill: var(--fill-color);\n",
              "    height: 32px;\n",
              "    padding: 0;\n",
              "    width: 32px;\n",
              "  }\n",
              "\n",
              "  .colab-df-quickchart:hover {\n",
              "    background-color: var(--hover-bg-color);\n",
              "    box-shadow: 0 1px 2px rgba(60, 64, 67, 0.3), 0 1px 3px 1px rgba(60, 64, 67, 0.15);\n",
              "    fill: var(--button-hover-fill-color);\n",
              "  }\n",
              "\n",
              "  .colab-df-quickchart-complete:disabled,\n",
              "  .colab-df-quickchart-complete:disabled:hover {\n",
              "    background-color: var(--disabled-bg-color);\n",
              "    fill: var(--disabled-fill-color);\n",
              "    box-shadow: none;\n",
              "  }\n",
              "\n",
              "  .colab-df-spinner {\n",
              "    border: 2px solid var(--fill-color);\n",
              "    border-color: transparent;\n",
              "    border-bottom-color: var(--fill-color);\n",
              "    animation:\n",
              "      spin 1s steps(1) infinite;\n",
              "  }\n",
              "\n",
              "  @keyframes spin {\n",
              "    0% {\n",
              "      border-color: transparent;\n",
              "      border-bottom-color: var(--fill-color);\n",
              "      border-left-color: var(--fill-color);\n",
              "    }\n",
              "    20% {\n",
              "      border-color: transparent;\n",
              "      border-left-color: var(--fill-color);\n",
              "      border-top-color: var(--fill-color);\n",
              "    }\n",
              "    30% {\n",
              "      border-color: transparent;\n",
              "      border-left-color: var(--fill-color);\n",
              "      border-top-color: var(--fill-color);\n",
              "      border-right-color: var(--fill-color);\n",
              "    }\n",
              "    40% {\n",
              "      border-color: transparent;\n",
              "      border-right-color: var(--fill-color);\n",
              "      border-top-color: var(--fill-color);\n",
              "    }\n",
              "    60% {\n",
              "      border-color: transparent;\n",
              "      border-right-color: var(--fill-color);\n",
              "    }\n",
              "    80% {\n",
              "      border-color: transparent;\n",
              "      border-right-color: var(--fill-color);\n",
              "      border-bottom-color: var(--fill-color);\n",
              "    }\n",
              "    90% {\n",
              "      border-color: transparent;\n",
              "      border-bottom-color: var(--fill-color);\n",
              "    }\n",
              "  }\n",
              "</style>\n",
              "\n",
              "  <script>\n",
              "    async function quickchart(key) {\n",
              "      const quickchartButtonEl =\n",
              "        document.querySelector('#' + key + ' button');\n",
              "      quickchartButtonEl.disabled = true;  // To prevent multiple clicks.\n",
              "      quickchartButtonEl.classList.add('colab-df-spinner');\n",
              "      try {\n",
              "        const charts = await google.colab.kernel.invokeFunction(\n",
              "            'suggestCharts', [key], {});\n",
              "      } catch (error) {\n",
              "        console.error('Error during call to suggestCharts:', error);\n",
              "      }\n",
              "      quickchartButtonEl.classList.remove('colab-df-spinner');\n",
              "      quickchartButtonEl.classList.add('colab-df-quickchart-complete');\n",
              "    }\n",
              "    (() => {\n",
              "      let quickchartButtonEl =\n",
              "        document.querySelector('#df-a8272711-f82c-43bd-9af5-0621e05cd17d button');\n",
              "      quickchartButtonEl.style.display =\n",
              "        google.colab.kernel.accessAllowed ? 'block' : 'none';\n",
              "    })();\n",
              "  </script>\n",
              "</div>\n",
              "\n",
              "    </div>\n",
              "  </div>\n"
            ],
            "application/vnd.google.colaboratory.intrinsic+json": {
              "type": "dataframe",
              "variable_name": "df",
              "summary": "{\n  \"name\": \"df\",\n  \"rows\": 4915,\n  \"fields\": [\n    {\n      \"column\": \"Unnamed: 0\",\n      \"properties\": {\n        \"dtype\": \"number\",\n        \"std\": 1418,\n        \"min\": 0,\n        \"max\": 4914,\n        \"num_unique_values\": 4915,\n        \"samples\": [\n          2346,\n          4344,\n          691\n        ],\n        \"semantic_type\": \"\",\n        \"description\": \"\"\n      }\n    },\n    {\n      \"column\": \"reviewerName\",\n      \"properties\": {\n        \"dtype\": \"string\",\n        \"num_unique_values\": 4594,\n        \"samples\": [\n          \"nta699\",\n          \"Maximus\",\n          \"G. Jackson\"\n        ],\n        \"semantic_type\": \"\",\n        \"description\": \"\"\n      }\n    },\n    {\n      \"column\": \"overall\",\n      \"properties\": {\n        \"dtype\": \"number\",\n        \"std\": 0.9968451383820023,\n        \"min\": 1.0,\n        \"max\": 5.0,\n        \"num_unique_values\": 5,\n        \"samples\": [\n          5.0,\n          2.0,\n          3.0\n        ],\n        \"semantic_type\": \"\",\n        \"description\": \"\"\n      }\n    },\n    {\n      \"column\": \"reviewText\",\n      \"properties\": {\n        \"dtype\": \"string\",\n        \"num_unique_values\": 4912,\n        \"samples\": [\n          \"Bought this for extended memory in a Galaxy S III.  Great price. Easy to install and the phone recognized it instantly. Does what its supposed to do.\",\n          \"I bought this after I found out that you can add a memory card to the Samsung galaxy s4! I never even knew that you could, and so once I found out I bought this and installed it. It's worked perfectly since and holds all of my songs and videos.  Great buy!\",\n          \"Using it on a Canon 6D. No camplains at all. Really fast access. The adapter itself is not at same level, even though. Bad connection, had to use a previous adapter that I already had.\"\n        ],\n        \"semantic_type\": \"\",\n        \"description\": \"\"\n      }\n    },\n    {\n      \"column\": \"reviewTime\",\n      \"properties\": {\n        \"dtype\": \"object\",\n        \"num_unique_values\": 690,\n        \"samples\": [\n          \"2013-03-12\",\n          \"2013-09-10\",\n          \"2012-12-09\"\n        ],\n        \"semantic_type\": \"\",\n        \"description\": \"\"\n      }\n    },\n    {\n      \"column\": \"day_diff\",\n      \"properties\": {\n        \"dtype\": \"number\",\n        \"std\": 209,\n        \"min\": 1,\n        \"max\": 1064,\n        \"num_unique_values\": 690,\n        \"samples\": [\n          636,\n          454,\n          729\n        ],\n        \"semantic_type\": \"\",\n        \"description\": \"\"\n      }\n    },\n    {\n      \"column\": \"helpful_yes\",\n      \"properties\": {\n        \"dtype\": \"number\",\n        \"std\": 41,\n        \"min\": 0,\n        \"max\": 1952,\n        \"num_unique_values\": 23,\n        \"samples\": [\n          1428,\n          6,\n          0\n        ],\n        \"semantic_type\": \"\",\n        \"description\": \"\"\n      }\n    },\n    {\n      \"column\": \"helpful_no\",\n      \"properties\": {\n        \"dtype\": \"number\",\n        \"std\": 4,\n        \"min\": 0,\n        \"max\": 183,\n        \"num_unique_values\": 17,\n        \"samples\": [\n          0,\n          1,\n          10\n        ],\n        \"semantic_type\": \"\",\n        \"description\": \"\"\n      }\n    },\n    {\n      \"column\": \"total_vote\",\n      \"properties\": {\n        \"dtype\": \"number\",\n        \"std\": 44,\n        \"min\": 0,\n        \"max\": 2020,\n        \"num_unique_values\": 26,\n        \"samples\": [\n          495,\n          1505,\n          0\n        ],\n        \"semantic_type\": \"\",\n        \"description\": \"\"\n      }\n    },\n    {\n      \"column\": \"score_pos_neg_diff\",\n      \"properties\": {\n        \"dtype\": \"number\",\n        \"std\": 39,\n        \"min\": -130,\n        \"max\": 1884,\n        \"num_unique_values\": 27,\n        \"samples\": [\n          -2,\n          52,\n          -3\n        ],\n        \"semantic_type\": \"\",\n        \"description\": \"\"\n      }\n    },\n    {\n      \"column\": \"score_average_rating\",\n      \"properties\": {\n        \"dtype\": \"number\",\n        \"std\": 0.2560623780287919,\n        \"min\": 0.0,\n        \"max\": 1.0,\n        \"num_unique_values\": 28,\n        \"samples\": [\n          0.3333333333333333,\n          0.3076923076923077,\n          0.8571428571428571\n        ],\n        \"semantic_type\": \"\",\n        \"description\": \"\"\n      }\n    },\n    {\n      \"column\": \"wilson_lower_bound\",\n      \"properties\": {\n        \"dtype\": \"number\",\n        \"std\": 0.07718744112047721,\n        \"min\": 0.0,\n        \"max\": 0.9575439475520824,\n        \"num_unique_values\": 40,\n        \"samples\": [\n          0.6456695649333126,\n          0.4364971778135299,\n          0.3755346297625253\n        ],\n        \"semantic_type\": \"\",\n        \"description\": \"\"\n      }\n    }\n  ]\n}"
            }
          },
          "metadata": {},
          "execution_count": 344
        }
      ]
    },
    {
      "cell_type": "code",
      "source": [
        "df.describe()"
      ],
      "metadata": {
        "colab": {
          "base_uri": "https://localhost:8080/",
          "height": 300
        },
        "id": "pVkIdRzVKAD3",
        "outputId": "b471bc12-7434-4abf-9ef5-f5f61c05d22a"
      },
      "execution_count": null,
      "outputs": [
        {
          "output_type": "execute_result",
          "data": {
            "text/plain": [
              "        Unnamed: 0      overall     day_diff  helpful_yes   helpful_no  \\\n",
              "count  4915.000000  4915.000000  4915.000000  4915.000000  4915.000000   \n",
              "mean   2457.000000     4.587589   437.367040     1.311089     0.210376   \n",
              "std    1418.982617     0.996845   209.439871    41.619161     4.023296   \n",
              "min       0.000000     1.000000     1.000000     0.000000     0.000000   \n",
              "25%    1228.500000     5.000000   281.000000     0.000000     0.000000   \n",
              "50%    2457.000000     5.000000   431.000000     0.000000     0.000000   \n",
              "75%    3685.500000     5.000000   601.000000     0.000000     0.000000   \n",
              "max    4914.000000     5.000000  1064.000000  1952.000000   183.000000   \n",
              "\n",
              "        total_vote  score_pos_neg_diff  score_average_rating  \\\n",
              "count  4915.000000         4915.000000           4915.000000   \n",
              "mean      1.521465            1.100712              0.075468   \n",
              "std      44.123095           39.367949              0.256062   \n",
              "min       0.000000         -130.000000              0.000000   \n",
              "25%       0.000000            0.000000              0.000000   \n",
              "50%       0.000000            0.000000              0.000000   \n",
              "75%       0.000000            0.000000              0.000000   \n",
              "max    2020.000000         1884.000000              1.000000   \n",
              "\n",
              "       wilson_lower_bound  \n",
              "count         4915.000000  \n",
              "mean             0.020053  \n",
              "std              0.077187  \n",
              "min              0.000000  \n",
              "25%              0.000000  \n",
              "50%              0.000000  \n",
              "75%              0.000000  \n",
              "max              0.957544  "
            ],
            "text/html": [
              "\n",
              "  <div id=\"df-0c82cc9d-3807-4120-95d3-1967b8460e33\" class=\"colab-df-container\">\n",
              "    <div>\n",
              "<style scoped>\n",
              "    .dataframe tbody tr th:only-of-type {\n",
              "        vertical-align: middle;\n",
              "    }\n",
              "\n",
              "    .dataframe tbody tr th {\n",
              "        vertical-align: top;\n",
              "    }\n",
              "\n",
              "    .dataframe thead th {\n",
              "        text-align: right;\n",
              "    }\n",
              "</style>\n",
              "<table border=\"1\" class=\"dataframe\">\n",
              "  <thead>\n",
              "    <tr style=\"text-align: right;\">\n",
              "      <th></th>\n",
              "      <th>Unnamed: 0</th>\n",
              "      <th>overall</th>\n",
              "      <th>day_diff</th>\n",
              "      <th>helpful_yes</th>\n",
              "      <th>helpful_no</th>\n",
              "      <th>total_vote</th>\n",
              "      <th>score_pos_neg_diff</th>\n",
              "      <th>score_average_rating</th>\n",
              "      <th>wilson_lower_bound</th>\n",
              "    </tr>\n",
              "  </thead>\n",
              "  <tbody>\n",
              "    <tr>\n",
              "      <th>count</th>\n",
              "      <td>4915.000000</td>\n",
              "      <td>4915.000000</td>\n",
              "      <td>4915.000000</td>\n",
              "      <td>4915.000000</td>\n",
              "      <td>4915.000000</td>\n",
              "      <td>4915.000000</td>\n",
              "      <td>4915.000000</td>\n",
              "      <td>4915.000000</td>\n",
              "      <td>4915.000000</td>\n",
              "    </tr>\n",
              "    <tr>\n",
              "      <th>mean</th>\n",
              "      <td>2457.000000</td>\n",
              "      <td>4.587589</td>\n",
              "      <td>437.367040</td>\n",
              "      <td>1.311089</td>\n",
              "      <td>0.210376</td>\n",
              "      <td>1.521465</td>\n",
              "      <td>1.100712</td>\n",
              "      <td>0.075468</td>\n",
              "      <td>0.020053</td>\n",
              "    </tr>\n",
              "    <tr>\n",
              "      <th>std</th>\n",
              "      <td>1418.982617</td>\n",
              "      <td>0.996845</td>\n",
              "      <td>209.439871</td>\n",
              "      <td>41.619161</td>\n",
              "      <td>4.023296</td>\n",
              "      <td>44.123095</td>\n",
              "      <td>39.367949</td>\n",
              "      <td>0.256062</td>\n",
              "      <td>0.077187</td>\n",
              "    </tr>\n",
              "    <tr>\n",
              "      <th>min</th>\n",
              "      <td>0.000000</td>\n",
              "      <td>1.000000</td>\n",
              "      <td>1.000000</td>\n",
              "      <td>0.000000</td>\n",
              "      <td>0.000000</td>\n",
              "      <td>0.000000</td>\n",
              "      <td>-130.000000</td>\n",
              "      <td>0.000000</td>\n",
              "      <td>0.000000</td>\n",
              "    </tr>\n",
              "    <tr>\n",
              "      <th>25%</th>\n",
              "      <td>1228.500000</td>\n",
              "      <td>5.000000</td>\n",
              "      <td>281.000000</td>\n",
              "      <td>0.000000</td>\n",
              "      <td>0.000000</td>\n",
              "      <td>0.000000</td>\n",
              "      <td>0.000000</td>\n",
              "      <td>0.000000</td>\n",
              "      <td>0.000000</td>\n",
              "    </tr>\n",
              "    <tr>\n",
              "      <th>50%</th>\n",
              "      <td>2457.000000</td>\n",
              "      <td>5.000000</td>\n",
              "      <td>431.000000</td>\n",
              "      <td>0.000000</td>\n",
              "      <td>0.000000</td>\n",
              "      <td>0.000000</td>\n",
              "      <td>0.000000</td>\n",
              "      <td>0.000000</td>\n",
              "      <td>0.000000</td>\n",
              "    </tr>\n",
              "    <tr>\n",
              "      <th>75%</th>\n",
              "      <td>3685.500000</td>\n",
              "      <td>5.000000</td>\n",
              "      <td>601.000000</td>\n",
              "      <td>0.000000</td>\n",
              "      <td>0.000000</td>\n",
              "      <td>0.000000</td>\n",
              "      <td>0.000000</td>\n",
              "      <td>0.000000</td>\n",
              "      <td>0.000000</td>\n",
              "    </tr>\n",
              "    <tr>\n",
              "      <th>max</th>\n",
              "      <td>4914.000000</td>\n",
              "      <td>5.000000</td>\n",
              "      <td>1064.000000</td>\n",
              "      <td>1952.000000</td>\n",
              "      <td>183.000000</td>\n",
              "      <td>2020.000000</td>\n",
              "      <td>1884.000000</td>\n",
              "      <td>1.000000</td>\n",
              "      <td>0.957544</td>\n",
              "    </tr>\n",
              "  </tbody>\n",
              "</table>\n",
              "</div>\n",
              "    <div class=\"colab-df-buttons\">\n",
              "\n",
              "  <div class=\"colab-df-container\">\n",
              "    <button class=\"colab-df-convert\" onclick=\"convertToInteractive('df-0c82cc9d-3807-4120-95d3-1967b8460e33')\"\n",
              "            title=\"Convert this dataframe to an interactive table.\"\n",
              "            style=\"display:none;\">\n",
              "\n",
              "  <svg xmlns=\"http://www.w3.org/2000/svg\" height=\"24px\" viewBox=\"0 -960 960 960\">\n",
              "    <path d=\"M120-120v-720h720v720H120Zm60-500h600v-160H180v160Zm220 220h160v-160H400v160Zm0 220h160v-160H400v160ZM180-400h160v-160H180v160Zm440 0h160v-160H620v160ZM180-180h160v-160H180v160Zm440 0h160v-160H620v160Z\"/>\n",
              "  </svg>\n",
              "    </button>\n",
              "\n",
              "  <style>\n",
              "    .colab-df-container {\n",
              "      display:flex;\n",
              "      gap: 12px;\n",
              "    }\n",
              "\n",
              "    .colab-df-convert {\n",
              "      background-color: #E8F0FE;\n",
              "      border: none;\n",
              "      border-radius: 50%;\n",
              "      cursor: pointer;\n",
              "      display: none;\n",
              "      fill: #1967D2;\n",
              "      height: 32px;\n",
              "      padding: 0 0 0 0;\n",
              "      width: 32px;\n",
              "    }\n",
              "\n",
              "    .colab-df-convert:hover {\n",
              "      background-color: #E2EBFA;\n",
              "      box-shadow: 0px 1px 2px rgba(60, 64, 67, 0.3), 0px 1px 3px 1px rgba(60, 64, 67, 0.15);\n",
              "      fill: #174EA6;\n",
              "    }\n",
              "\n",
              "    .colab-df-buttons div {\n",
              "      margin-bottom: 4px;\n",
              "    }\n",
              "\n",
              "    [theme=dark] .colab-df-convert {\n",
              "      background-color: #3B4455;\n",
              "      fill: #D2E3FC;\n",
              "    }\n",
              "\n",
              "    [theme=dark] .colab-df-convert:hover {\n",
              "      background-color: #434B5C;\n",
              "      box-shadow: 0px 1px 3px 1px rgba(0, 0, 0, 0.15);\n",
              "      filter: drop-shadow(0px 1px 2px rgba(0, 0, 0, 0.3));\n",
              "      fill: #FFFFFF;\n",
              "    }\n",
              "  </style>\n",
              "\n",
              "    <script>\n",
              "      const buttonEl =\n",
              "        document.querySelector('#df-0c82cc9d-3807-4120-95d3-1967b8460e33 button.colab-df-convert');\n",
              "      buttonEl.style.display =\n",
              "        google.colab.kernel.accessAllowed ? 'block' : 'none';\n",
              "\n",
              "      async function convertToInteractive(key) {\n",
              "        const element = document.querySelector('#df-0c82cc9d-3807-4120-95d3-1967b8460e33');\n",
              "        const dataTable =\n",
              "          await google.colab.kernel.invokeFunction('convertToInteractive',\n",
              "                                                    [key], {});\n",
              "        if (!dataTable) return;\n",
              "\n",
              "        const docLinkHtml = 'Like what you see? Visit the ' +\n",
              "          '<a target=\"_blank\" href=https://colab.research.google.com/notebooks/data_table.ipynb>data table notebook</a>'\n",
              "          + ' to learn more about interactive tables.';\n",
              "        element.innerHTML = '';\n",
              "        dataTable['output_type'] = 'display_data';\n",
              "        await google.colab.output.renderOutput(dataTable, element);\n",
              "        const docLink = document.createElement('div');\n",
              "        docLink.innerHTML = docLinkHtml;\n",
              "        element.appendChild(docLink);\n",
              "      }\n",
              "    </script>\n",
              "  </div>\n",
              "\n",
              "\n",
              "<div id=\"df-f0717dd4-d0b6-4293-b4b4-816e17015109\">\n",
              "  <button class=\"colab-df-quickchart\" onclick=\"quickchart('df-f0717dd4-d0b6-4293-b4b4-816e17015109')\"\n",
              "            title=\"Suggest charts\"\n",
              "            style=\"display:none;\">\n",
              "\n",
              "<svg xmlns=\"http://www.w3.org/2000/svg\" height=\"24px\"viewBox=\"0 0 24 24\"\n",
              "     width=\"24px\">\n",
              "    <g>\n",
              "        <path d=\"M19 3H5c-1.1 0-2 .9-2 2v14c0 1.1.9 2 2 2h14c1.1 0 2-.9 2-2V5c0-1.1-.9-2-2-2zM9 17H7v-7h2v7zm4 0h-2V7h2v10zm4 0h-2v-4h2v4z\"/>\n",
              "    </g>\n",
              "</svg>\n",
              "  </button>\n",
              "\n",
              "<style>\n",
              "  .colab-df-quickchart {\n",
              "      --bg-color: #E8F0FE;\n",
              "      --fill-color: #1967D2;\n",
              "      --hover-bg-color: #E2EBFA;\n",
              "      --hover-fill-color: #174EA6;\n",
              "      --disabled-fill-color: #AAA;\n",
              "      --disabled-bg-color: #DDD;\n",
              "  }\n",
              "\n",
              "  [theme=dark] .colab-df-quickchart {\n",
              "      --bg-color: #3B4455;\n",
              "      --fill-color: #D2E3FC;\n",
              "      --hover-bg-color: #434B5C;\n",
              "      --hover-fill-color: #FFFFFF;\n",
              "      --disabled-bg-color: #3B4455;\n",
              "      --disabled-fill-color: #666;\n",
              "  }\n",
              "\n",
              "  .colab-df-quickchart {\n",
              "    background-color: var(--bg-color);\n",
              "    border: none;\n",
              "    border-radius: 50%;\n",
              "    cursor: pointer;\n",
              "    display: none;\n",
              "    fill: var(--fill-color);\n",
              "    height: 32px;\n",
              "    padding: 0;\n",
              "    width: 32px;\n",
              "  }\n",
              "\n",
              "  .colab-df-quickchart:hover {\n",
              "    background-color: var(--hover-bg-color);\n",
              "    box-shadow: 0 1px 2px rgba(60, 64, 67, 0.3), 0 1px 3px 1px rgba(60, 64, 67, 0.15);\n",
              "    fill: var(--button-hover-fill-color);\n",
              "  }\n",
              "\n",
              "  .colab-df-quickchart-complete:disabled,\n",
              "  .colab-df-quickchart-complete:disabled:hover {\n",
              "    background-color: var(--disabled-bg-color);\n",
              "    fill: var(--disabled-fill-color);\n",
              "    box-shadow: none;\n",
              "  }\n",
              "\n",
              "  .colab-df-spinner {\n",
              "    border: 2px solid var(--fill-color);\n",
              "    border-color: transparent;\n",
              "    border-bottom-color: var(--fill-color);\n",
              "    animation:\n",
              "      spin 1s steps(1) infinite;\n",
              "  }\n",
              "\n",
              "  @keyframes spin {\n",
              "    0% {\n",
              "      border-color: transparent;\n",
              "      border-bottom-color: var(--fill-color);\n",
              "      border-left-color: var(--fill-color);\n",
              "    }\n",
              "    20% {\n",
              "      border-color: transparent;\n",
              "      border-left-color: var(--fill-color);\n",
              "      border-top-color: var(--fill-color);\n",
              "    }\n",
              "    30% {\n",
              "      border-color: transparent;\n",
              "      border-left-color: var(--fill-color);\n",
              "      border-top-color: var(--fill-color);\n",
              "      border-right-color: var(--fill-color);\n",
              "    }\n",
              "    40% {\n",
              "      border-color: transparent;\n",
              "      border-right-color: var(--fill-color);\n",
              "      border-top-color: var(--fill-color);\n",
              "    }\n",
              "    60% {\n",
              "      border-color: transparent;\n",
              "      border-right-color: var(--fill-color);\n",
              "    }\n",
              "    80% {\n",
              "      border-color: transparent;\n",
              "      border-right-color: var(--fill-color);\n",
              "      border-bottom-color: var(--fill-color);\n",
              "    }\n",
              "    90% {\n",
              "      border-color: transparent;\n",
              "      border-bottom-color: var(--fill-color);\n",
              "    }\n",
              "  }\n",
              "</style>\n",
              "\n",
              "  <script>\n",
              "    async function quickchart(key) {\n",
              "      const quickchartButtonEl =\n",
              "        document.querySelector('#' + key + ' button');\n",
              "      quickchartButtonEl.disabled = true;  // To prevent multiple clicks.\n",
              "      quickchartButtonEl.classList.add('colab-df-spinner');\n",
              "      try {\n",
              "        const charts = await google.colab.kernel.invokeFunction(\n",
              "            'suggestCharts', [key], {});\n",
              "      } catch (error) {\n",
              "        console.error('Error during call to suggestCharts:', error);\n",
              "      }\n",
              "      quickchartButtonEl.classList.remove('colab-df-spinner');\n",
              "      quickchartButtonEl.classList.add('colab-df-quickchart-complete');\n",
              "    }\n",
              "    (() => {\n",
              "      let quickchartButtonEl =\n",
              "        document.querySelector('#df-f0717dd4-d0b6-4293-b4b4-816e17015109 button');\n",
              "      quickchartButtonEl.style.display =\n",
              "        google.colab.kernel.accessAllowed ? 'block' : 'none';\n",
              "    })();\n",
              "  </script>\n",
              "</div>\n",
              "\n",
              "    </div>\n",
              "  </div>\n"
            ],
            "application/vnd.google.colaboratory.intrinsic+json": {
              "type": "dataframe",
              "summary": "{\n  \"name\": \"df\",\n  \"rows\": 8,\n  \"fields\": [\n    {\n      \"column\": \"Unnamed: 0\",\n      \"properties\": {\n        \"dtype\": \"number\",\n        \"std\": 1771.1708298234,\n        \"min\": 0.0,\n        \"max\": 4915.0,\n        \"num_unique_values\": 7,\n        \"samples\": [\n          4915.0,\n          2457.0,\n          3685.5\n        ],\n        \"semantic_type\": \"\",\n        \"description\": \"\"\n      }\n    },\n    {\n      \"column\": \"overall\",\n      \"properties\": {\n        \"dtype\": \"number\",\n        \"std\": 1736.3731062884249,\n        \"min\": 0.9968451383820023,\n        \"max\": 4915.0,\n        \"num_unique_values\": 5,\n        \"samples\": [\n          4.587589013224822,\n          5.0,\n          0.9968451383820023\n        ],\n        \"semantic_type\": \"\",\n        \"description\": \"\"\n      }\n    },\n    {\n      \"column\": \"day_diff\",\n      \"properties\": {\n        \"dtype\": \"number\",\n        \"std\": 1615.5641767881223,\n        \"min\": 1.0,\n        \"max\": 4915.0,\n        \"num_unique_values\": 8,\n        \"samples\": [\n          437.3670396744659,\n          431.0,\n          4915.0\n        ],\n        \"semantic_type\": \"\",\n        \"description\": \"\"\n      }\n    },\n    {\n      \"column\": \"helpful_yes\",\n      \"properties\": {\n        \"dtype\": \"number\",\n        \"std\": 1772.845608763585,\n        \"min\": 0.0,\n        \"max\": 4915.0,\n        \"num_unique_values\": 5,\n        \"samples\": [\n          1.3110885045778229,\n          1952.0,\n          41.61916057538585\n        ],\n        \"semantic_type\": \"\",\n        \"description\": \"\"\n      }\n    },\n    {\n      \"column\": \"helpful_no\",\n      \"properties\": {\n        \"dtype\": \"number\",\n        \"std\": 1729.4355675218767,\n        \"min\": 0.0,\n        \"max\": 4915.0,\n        \"num_unique_values\": 5,\n        \"samples\": [\n          0.21037639877924721,\n          183.0,\n          4.023295787716096\n        ],\n        \"semantic_type\": \"\",\n        \"description\": \"\"\n      }\n    },\n    {\n      \"column\": \"total_vote\",\n      \"properties\": {\n        \"dtype\": \"number\",\n        \"std\": 1778.7796520621223,\n        \"min\": 0.0,\n        \"max\": 4915.0,\n        \"num_unique_values\": 5,\n        \"samples\": [\n          1.5214649033570702,\n          2020.0,\n          44.123094560977925\n        ],\n        \"semantic_type\": \"\",\n        \"description\": \"\"\n      }\n    },\n    {\n      \"column\": \"score_pos_neg_diff\",\n      \"properties\": {\n        \"dtype\": \"number\",\n        \"std\": 1776.7551014172611,\n        \"min\": -130.0,\n        \"max\": 4915.0,\n        \"num_unique_values\": 6,\n        \"samples\": [\n          4915.0,\n          1.1007121057985758,\n          1884.0\n        ],\n        \"semantic_type\": \"\",\n        \"description\": \"\"\n      }\n    },\n    {\n      \"column\": \"score_average_rating\",\n      \"properties\": {\n        \"dtype\": \"number\",\n        \"std\": 1737.6476959392767,\n        \"min\": 0.0,\n        \"max\": 4915.0,\n        \"num_unique_values\": 5,\n        \"samples\": [\n          0.07546821822485646,\n          1.0,\n          0.2560623780287919\n        ],\n        \"semantic_type\": \"\",\n        \"description\": \"\"\n      }\n    },\n    {\n      \"column\": \"wilson_lower_bound\",\n      \"properties\": {\n        \"dtype\": \"number\",\n        \"std\": 1737.6616715305775,\n        \"min\": 0.0,\n        \"max\": 4915.0,\n        \"num_unique_values\": 5,\n        \"samples\": [\n          0.020052932059445305,\n          0.9575439475520824,\n          0.07718744112047721\n        ],\n        \"semantic_type\": \"\",\n        \"description\": \"\"\n      }\n    }\n  ]\n}"
            }
          },
          "metadata": {},
          "execution_count": 345
        }
      ]
    },
    {
      "cell_type": "code",
      "source": [
        "df.info()"
      ],
      "metadata": {
        "colab": {
          "base_uri": "https://localhost:8080/"
        },
        "id": "nDyvZIicYeF_",
        "outputId": "44dcae63-71d1-4646-d644-296356e0287a"
      },
      "execution_count": null,
      "outputs": [
        {
          "output_type": "stream",
          "name": "stdout",
          "text": [
            "<class 'pandas.core.frame.DataFrame'>\n",
            "RangeIndex: 4915 entries, 0 to 4914\n",
            "Data columns (total 12 columns):\n",
            " #   Column                Non-Null Count  Dtype  \n",
            "---  ------                --------------  -----  \n",
            " 0   Unnamed: 0            4915 non-null   int64  \n",
            " 1   reviewerName          4914 non-null   object \n",
            " 2   overall               4915 non-null   float64\n",
            " 3   reviewText            4914 non-null   object \n",
            " 4   reviewTime            4915 non-null   object \n",
            " 5   day_diff              4915 non-null   int64  \n",
            " 6   helpful_yes           4915 non-null   int64  \n",
            " 7   helpful_no            4915 non-null   int64  \n",
            " 8   total_vote            4915 non-null   int64  \n",
            " 9   score_pos_neg_diff    4915 non-null   int64  \n",
            " 10  score_average_rating  4915 non-null   float64\n",
            " 11  wilson_lower_bound    4915 non-null   float64\n",
            "dtypes: float64(3), int64(6), object(3)\n",
            "memory usage: 460.9+ KB\n"
          ]
        }
      ]
    },
    {
      "cell_type": "markdown",
      "source": [
        "Os dados possuem 12 colunas, com 4.915 linhas, exceto reviewText e reviewrName. Dessa forma, será removida a NaN da coluna'reviewText'. Também será eliminada a coluna \"reviewername\".\n",
        "\n",
        "Ademais, os tipos de dados são números inteiros e float, assim como object (caracteres)."
      ],
      "metadata": {
        "id": "9Y7xWCL9Ox-W"
      }
    },
    {
      "cell_type": "code",
      "source": [
        "# Total de NaNs em cada coluna\n",
        "nan_count = df.isnull().sum()\n",
        "print(nan_count)"
      ],
      "metadata": {
        "colab": {
          "base_uri": "https://localhost:8080/"
        },
        "id": "Tm-3KmWEA5J9",
        "outputId": "5791eb52-0747-4a71-f26a-0b321ab183e2"
      },
      "execution_count": null,
      "outputs": [
        {
          "output_type": "stream",
          "name": "stdout",
          "text": [
            "Unnamed: 0              0\n",
            "reviewerName            1\n",
            "overall                 0\n",
            "reviewText              1\n",
            "reviewTime              0\n",
            "day_diff                0\n",
            "helpful_yes             0\n",
            "helpful_no              0\n",
            "total_vote              0\n",
            "score_pos_neg_diff      0\n",
            "score_average_rating    0\n",
            "wilson_lower_bound      0\n",
            "dtype: int64\n"
          ]
        }
      ]
    },
    {
      "cell_type": "code",
      "source": [
        "# Remover linhas onde 'reviewText' é NaN\n",
        "df = df.dropna(subset=['reviewText'])"
      ],
      "metadata": {
        "id": "NpP90APMBTlu"
      },
      "execution_count": null,
      "outputs": []
    },
    {
      "cell_type": "code",
      "source": [
        "df.info()"
      ],
      "metadata": {
        "colab": {
          "base_uri": "https://localhost:8080/"
        },
        "id": "M7zK66gWBq1w",
        "outputId": "6b4cca3c-33dc-4476-f3bc-1cdcafcc3153"
      },
      "execution_count": null,
      "outputs": [
        {
          "output_type": "stream",
          "name": "stdout",
          "text": [
            "<class 'pandas.core.frame.DataFrame'>\n",
            "Index: 4914 entries, 0 to 4914\n",
            "Data columns (total 12 columns):\n",
            " #   Column                Non-Null Count  Dtype  \n",
            "---  ------                --------------  -----  \n",
            " 0   Unnamed: 0            4914 non-null   int64  \n",
            " 1   reviewerName          4913 non-null   object \n",
            " 2   overall               4914 non-null   float64\n",
            " 3   reviewText            4914 non-null   object \n",
            " 4   reviewTime            4914 non-null   object \n",
            " 5   day_diff              4914 non-null   int64  \n",
            " 6   helpful_yes           4914 non-null   int64  \n",
            " 7   helpful_no            4914 non-null   int64  \n",
            " 8   total_vote            4914 non-null   int64  \n",
            " 9   score_pos_neg_diff    4914 non-null   int64  \n",
            " 10  score_average_rating  4914 non-null   float64\n",
            " 11  wilson_lower_bound    4914 non-null   float64\n",
            "dtypes: float64(3), int64(6), object(3)\n",
            "memory usage: 499.1+ KB\n"
          ]
        }
      ]
    },
    {
      "cell_type": "code",
      "source": [
        "df.drop(columns=['reviewerName'], inplace=True)"
      ],
      "metadata": {
        "id": "zRuokUzeMSgM"
      },
      "execution_count": null,
      "outputs": []
    },
    {
      "cell_type": "markdown",
      "source": [
        " A coluna 'reviewerName' foi apagada afim de seguir a legislação em vigor, como a Lei Geral de Proteção de Dados que salvaguarda dados sensíveis dos indivíduos.\n"
      ],
      "metadata": {
        "id": "-LzTbocqYPR_"
      }
    },
    {
      "cell_type": "code",
      "source": [
        "# Renomear a coluna \"Unnamed: 0\" para \"index\"\n",
        "df.rename(columns={'Unnamed: 0': 'index'}, inplace=True)"
      ],
      "metadata": {
        "id": "4MfQaINnmzPD"
      },
      "execution_count": null,
      "outputs": []
    },
    {
      "cell_type": "code",
      "source": [
        "df.head()"
      ],
      "metadata": {
        "colab": {
          "base_uri": "https://localhost:8080/",
          "height": 275
        },
        "id": "QHA3s7b2nAjm",
        "outputId": "10a20055-5b34-4b5c-c008-9cc2bc95afd9"
      },
      "execution_count": null,
      "outputs": [
        {
          "output_type": "execute_result",
          "data": {
            "text/plain": [
              "   index  overall                                         reviewText  \\\n",
              "0      0      4.0                                         No issues.   \n",
              "1      1      5.0  Purchased this for my device, it worked as adv...   \n",
              "2      2      4.0  it works as expected. I should have sprung for...   \n",
              "3      3      5.0  This think has worked out great.Had a diff. br...   \n",
              "4      4      5.0  Bought it with Retail Packaging, arrived legit...   \n",
              "\n",
              "   reviewTime  day_diff  helpful_yes  helpful_no  total_vote  \\\n",
              "0  2014-07-23       138            0           0           0   \n",
              "1  2013-10-25       409            0           0           0   \n",
              "2  2012-12-23       715            0           0           0   \n",
              "3  2013-11-21       382            0           0           0   \n",
              "4  2013-07-13       513            0           0           0   \n",
              "\n",
              "   score_pos_neg_diff  score_average_rating  wilson_lower_bound  \n",
              "0                   0                   0.0                 0.0  \n",
              "1                   0                   0.0                 0.0  \n",
              "2                   0                   0.0                 0.0  \n",
              "3                   0                   0.0                 0.0  \n",
              "4                   0                   0.0                 0.0  "
            ],
            "text/html": [
              "\n",
              "  <div id=\"df-ae3b83ae-fbc0-48c4-b0b7-6c7e5a0fe8e4\" class=\"colab-df-container\">\n",
              "    <div>\n",
              "<style scoped>\n",
              "    .dataframe tbody tr th:only-of-type {\n",
              "        vertical-align: middle;\n",
              "    }\n",
              "\n",
              "    .dataframe tbody tr th {\n",
              "        vertical-align: top;\n",
              "    }\n",
              "\n",
              "    .dataframe thead th {\n",
              "        text-align: right;\n",
              "    }\n",
              "</style>\n",
              "<table border=\"1\" class=\"dataframe\">\n",
              "  <thead>\n",
              "    <tr style=\"text-align: right;\">\n",
              "      <th></th>\n",
              "      <th>index</th>\n",
              "      <th>overall</th>\n",
              "      <th>reviewText</th>\n",
              "      <th>reviewTime</th>\n",
              "      <th>day_diff</th>\n",
              "      <th>helpful_yes</th>\n",
              "      <th>helpful_no</th>\n",
              "      <th>total_vote</th>\n",
              "      <th>score_pos_neg_diff</th>\n",
              "      <th>score_average_rating</th>\n",
              "      <th>wilson_lower_bound</th>\n",
              "    </tr>\n",
              "  </thead>\n",
              "  <tbody>\n",
              "    <tr>\n",
              "      <th>0</th>\n",
              "      <td>0</td>\n",
              "      <td>4.0</td>\n",
              "      <td>No issues.</td>\n",
              "      <td>2014-07-23</td>\n",
              "      <td>138</td>\n",
              "      <td>0</td>\n",
              "      <td>0</td>\n",
              "      <td>0</td>\n",
              "      <td>0</td>\n",
              "      <td>0.0</td>\n",
              "      <td>0.0</td>\n",
              "    </tr>\n",
              "    <tr>\n",
              "      <th>1</th>\n",
              "      <td>1</td>\n",
              "      <td>5.0</td>\n",
              "      <td>Purchased this for my device, it worked as adv...</td>\n",
              "      <td>2013-10-25</td>\n",
              "      <td>409</td>\n",
              "      <td>0</td>\n",
              "      <td>0</td>\n",
              "      <td>0</td>\n",
              "      <td>0</td>\n",
              "      <td>0.0</td>\n",
              "      <td>0.0</td>\n",
              "    </tr>\n",
              "    <tr>\n",
              "      <th>2</th>\n",
              "      <td>2</td>\n",
              "      <td>4.0</td>\n",
              "      <td>it works as expected. I should have sprung for...</td>\n",
              "      <td>2012-12-23</td>\n",
              "      <td>715</td>\n",
              "      <td>0</td>\n",
              "      <td>0</td>\n",
              "      <td>0</td>\n",
              "      <td>0</td>\n",
              "      <td>0.0</td>\n",
              "      <td>0.0</td>\n",
              "    </tr>\n",
              "    <tr>\n",
              "      <th>3</th>\n",
              "      <td>3</td>\n",
              "      <td>5.0</td>\n",
              "      <td>This think has worked out great.Had a diff. br...</td>\n",
              "      <td>2013-11-21</td>\n",
              "      <td>382</td>\n",
              "      <td>0</td>\n",
              "      <td>0</td>\n",
              "      <td>0</td>\n",
              "      <td>0</td>\n",
              "      <td>0.0</td>\n",
              "      <td>0.0</td>\n",
              "    </tr>\n",
              "    <tr>\n",
              "      <th>4</th>\n",
              "      <td>4</td>\n",
              "      <td>5.0</td>\n",
              "      <td>Bought it with Retail Packaging, arrived legit...</td>\n",
              "      <td>2013-07-13</td>\n",
              "      <td>513</td>\n",
              "      <td>0</td>\n",
              "      <td>0</td>\n",
              "      <td>0</td>\n",
              "      <td>0</td>\n",
              "      <td>0.0</td>\n",
              "      <td>0.0</td>\n",
              "    </tr>\n",
              "  </tbody>\n",
              "</table>\n",
              "</div>\n",
              "    <div class=\"colab-df-buttons\">\n",
              "\n",
              "  <div class=\"colab-df-container\">\n",
              "    <button class=\"colab-df-convert\" onclick=\"convertToInteractive('df-ae3b83ae-fbc0-48c4-b0b7-6c7e5a0fe8e4')\"\n",
              "            title=\"Convert this dataframe to an interactive table.\"\n",
              "            style=\"display:none;\">\n",
              "\n",
              "  <svg xmlns=\"http://www.w3.org/2000/svg\" height=\"24px\" viewBox=\"0 -960 960 960\">\n",
              "    <path d=\"M120-120v-720h720v720H120Zm60-500h600v-160H180v160Zm220 220h160v-160H400v160Zm0 220h160v-160H400v160ZM180-400h160v-160H180v160Zm440 0h160v-160H620v160ZM180-180h160v-160H180v160Zm440 0h160v-160H620v160Z\"/>\n",
              "  </svg>\n",
              "    </button>\n",
              "\n",
              "  <style>\n",
              "    .colab-df-container {\n",
              "      display:flex;\n",
              "      gap: 12px;\n",
              "    }\n",
              "\n",
              "    .colab-df-convert {\n",
              "      background-color: #E8F0FE;\n",
              "      border: none;\n",
              "      border-radius: 50%;\n",
              "      cursor: pointer;\n",
              "      display: none;\n",
              "      fill: #1967D2;\n",
              "      height: 32px;\n",
              "      padding: 0 0 0 0;\n",
              "      width: 32px;\n",
              "    }\n",
              "\n",
              "    .colab-df-convert:hover {\n",
              "      background-color: #E2EBFA;\n",
              "      box-shadow: 0px 1px 2px rgba(60, 64, 67, 0.3), 0px 1px 3px 1px rgba(60, 64, 67, 0.15);\n",
              "      fill: #174EA6;\n",
              "    }\n",
              "\n",
              "    .colab-df-buttons div {\n",
              "      margin-bottom: 4px;\n",
              "    }\n",
              "\n",
              "    [theme=dark] .colab-df-convert {\n",
              "      background-color: #3B4455;\n",
              "      fill: #D2E3FC;\n",
              "    }\n",
              "\n",
              "    [theme=dark] .colab-df-convert:hover {\n",
              "      background-color: #434B5C;\n",
              "      box-shadow: 0px 1px 3px 1px rgba(0, 0, 0, 0.15);\n",
              "      filter: drop-shadow(0px 1px 2px rgba(0, 0, 0, 0.3));\n",
              "      fill: #FFFFFF;\n",
              "    }\n",
              "  </style>\n",
              "\n",
              "    <script>\n",
              "      const buttonEl =\n",
              "        document.querySelector('#df-ae3b83ae-fbc0-48c4-b0b7-6c7e5a0fe8e4 button.colab-df-convert');\n",
              "      buttonEl.style.display =\n",
              "        google.colab.kernel.accessAllowed ? 'block' : 'none';\n",
              "\n",
              "      async function convertToInteractive(key) {\n",
              "        const element = document.querySelector('#df-ae3b83ae-fbc0-48c4-b0b7-6c7e5a0fe8e4');\n",
              "        const dataTable =\n",
              "          await google.colab.kernel.invokeFunction('convertToInteractive',\n",
              "                                                    [key], {});\n",
              "        if (!dataTable) return;\n",
              "\n",
              "        const docLinkHtml = 'Like what you see? Visit the ' +\n",
              "          '<a target=\"_blank\" href=https://colab.research.google.com/notebooks/data_table.ipynb>data table notebook</a>'\n",
              "          + ' to learn more about interactive tables.';\n",
              "        element.innerHTML = '';\n",
              "        dataTable['output_type'] = 'display_data';\n",
              "        await google.colab.output.renderOutput(dataTable, element);\n",
              "        const docLink = document.createElement('div');\n",
              "        docLink.innerHTML = docLinkHtml;\n",
              "        element.appendChild(docLink);\n",
              "      }\n",
              "    </script>\n",
              "  </div>\n",
              "\n",
              "\n",
              "<div id=\"df-cd669649-b9e0-4f84-af51-5d5d2201b606\">\n",
              "  <button class=\"colab-df-quickchart\" onclick=\"quickchart('df-cd669649-b9e0-4f84-af51-5d5d2201b606')\"\n",
              "            title=\"Suggest charts\"\n",
              "            style=\"display:none;\">\n",
              "\n",
              "<svg xmlns=\"http://www.w3.org/2000/svg\" height=\"24px\"viewBox=\"0 0 24 24\"\n",
              "     width=\"24px\">\n",
              "    <g>\n",
              "        <path d=\"M19 3H5c-1.1 0-2 .9-2 2v14c0 1.1.9 2 2 2h14c1.1 0 2-.9 2-2V5c0-1.1-.9-2-2-2zM9 17H7v-7h2v7zm4 0h-2V7h2v10zm4 0h-2v-4h2v4z\"/>\n",
              "    </g>\n",
              "</svg>\n",
              "  </button>\n",
              "\n",
              "<style>\n",
              "  .colab-df-quickchart {\n",
              "      --bg-color: #E8F0FE;\n",
              "      --fill-color: #1967D2;\n",
              "      --hover-bg-color: #E2EBFA;\n",
              "      --hover-fill-color: #174EA6;\n",
              "      --disabled-fill-color: #AAA;\n",
              "      --disabled-bg-color: #DDD;\n",
              "  }\n",
              "\n",
              "  [theme=dark] .colab-df-quickchart {\n",
              "      --bg-color: #3B4455;\n",
              "      --fill-color: #D2E3FC;\n",
              "      --hover-bg-color: #434B5C;\n",
              "      --hover-fill-color: #FFFFFF;\n",
              "      --disabled-bg-color: #3B4455;\n",
              "      --disabled-fill-color: #666;\n",
              "  }\n",
              "\n",
              "  .colab-df-quickchart {\n",
              "    background-color: var(--bg-color);\n",
              "    border: none;\n",
              "    border-radius: 50%;\n",
              "    cursor: pointer;\n",
              "    display: none;\n",
              "    fill: var(--fill-color);\n",
              "    height: 32px;\n",
              "    padding: 0;\n",
              "    width: 32px;\n",
              "  }\n",
              "\n",
              "  .colab-df-quickchart:hover {\n",
              "    background-color: var(--hover-bg-color);\n",
              "    box-shadow: 0 1px 2px rgba(60, 64, 67, 0.3), 0 1px 3px 1px rgba(60, 64, 67, 0.15);\n",
              "    fill: var(--button-hover-fill-color);\n",
              "  }\n",
              "\n",
              "  .colab-df-quickchart-complete:disabled,\n",
              "  .colab-df-quickchart-complete:disabled:hover {\n",
              "    background-color: var(--disabled-bg-color);\n",
              "    fill: var(--disabled-fill-color);\n",
              "    box-shadow: none;\n",
              "  }\n",
              "\n",
              "  .colab-df-spinner {\n",
              "    border: 2px solid var(--fill-color);\n",
              "    border-color: transparent;\n",
              "    border-bottom-color: var(--fill-color);\n",
              "    animation:\n",
              "      spin 1s steps(1) infinite;\n",
              "  }\n",
              "\n",
              "  @keyframes spin {\n",
              "    0% {\n",
              "      border-color: transparent;\n",
              "      border-bottom-color: var(--fill-color);\n",
              "      border-left-color: var(--fill-color);\n",
              "    }\n",
              "    20% {\n",
              "      border-color: transparent;\n",
              "      border-left-color: var(--fill-color);\n",
              "      border-top-color: var(--fill-color);\n",
              "    }\n",
              "    30% {\n",
              "      border-color: transparent;\n",
              "      border-left-color: var(--fill-color);\n",
              "      border-top-color: var(--fill-color);\n",
              "      border-right-color: var(--fill-color);\n",
              "    }\n",
              "    40% {\n",
              "      border-color: transparent;\n",
              "      border-right-color: var(--fill-color);\n",
              "      border-top-color: var(--fill-color);\n",
              "    }\n",
              "    60% {\n",
              "      border-color: transparent;\n",
              "      border-right-color: var(--fill-color);\n",
              "    }\n",
              "    80% {\n",
              "      border-color: transparent;\n",
              "      border-right-color: var(--fill-color);\n",
              "      border-bottom-color: var(--fill-color);\n",
              "    }\n",
              "    90% {\n",
              "      border-color: transparent;\n",
              "      border-bottom-color: var(--fill-color);\n",
              "    }\n",
              "  }\n",
              "</style>\n",
              "\n",
              "  <script>\n",
              "    async function quickchart(key) {\n",
              "      const quickchartButtonEl =\n",
              "        document.querySelector('#' + key + ' button');\n",
              "      quickchartButtonEl.disabled = true;  // To prevent multiple clicks.\n",
              "      quickchartButtonEl.classList.add('colab-df-spinner');\n",
              "      try {\n",
              "        const charts = await google.colab.kernel.invokeFunction(\n",
              "            'suggestCharts', [key], {});\n",
              "      } catch (error) {\n",
              "        console.error('Error during call to suggestCharts:', error);\n",
              "      }\n",
              "      quickchartButtonEl.classList.remove('colab-df-spinner');\n",
              "      quickchartButtonEl.classList.add('colab-df-quickchart-complete');\n",
              "    }\n",
              "    (() => {\n",
              "      let quickchartButtonEl =\n",
              "        document.querySelector('#df-cd669649-b9e0-4f84-af51-5d5d2201b606 button');\n",
              "      quickchartButtonEl.style.display =\n",
              "        google.colab.kernel.accessAllowed ? 'block' : 'none';\n",
              "    })();\n",
              "  </script>\n",
              "</div>\n",
              "\n",
              "    </div>\n",
              "  </div>\n"
            ],
            "application/vnd.google.colaboratory.intrinsic+json": {
              "type": "dataframe",
              "variable_name": "df",
              "summary": "{\n  \"name\": \"df\",\n  \"rows\": 4914,\n  \"fields\": [\n    {\n      \"column\": \"index\",\n      \"properties\": {\n        \"dtype\": \"number\",\n        \"std\": 1418,\n        \"min\": 0,\n        \"max\": 4914,\n        \"num_unique_values\": 4914,\n        \"samples\": [\n          2347,\n          4344,\n          692\n        ],\n        \"semantic_type\": \"\",\n        \"description\": \"\"\n      }\n    },\n    {\n      \"column\": \"overall\",\n      \"properties\": {\n        \"dtype\": \"number\",\n        \"std\": 0.9969292167931844,\n        \"min\": 1.0,\n        \"max\": 5.0,\n        \"num_unique_values\": 5,\n        \"samples\": [\n          5.0,\n          2.0,\n          3.0\n        ],\n        \"semantic_type\": \"\",\n        \"description\": \"\"\n      }\n    },\n    {\n      \"column\": \"reviewText\",\n      \"properties\": {\n        \"dtype\": \"string\",\n        \"num_unique_values\": 4912,\n        \"samples\": [\n          \"Bought this for extended memory in a Galaxy S III.  Great price. Easy to install and the phone recognized it instantly. Does what its supposed to do.\",\n          \"I bought this after I found out that you can add a memory card to the Samsung galaxy s4! I never even knew that you could, and so once I found out I bought this and installed it. It's worked perfectly since and holds all of my songs and videos.  Great buy!\",\n          \"Using it on a Canon 6D. No camplains at all. Really fast access. The adapter itself is not at same level, even though. Bad connection, had to use a previous adapter that I already had.\"\n        ],\n        \"semantic_type\": \"\",\n        \"description\": \"\"\n      }\n    },\n    {\n      \"column\": \"reviewTime\",\n      \"properties\": {\n        \"dtype\": \"object\",\n        \"num_unique_values\": 690,\n        \"samples\": [\n          \"2014-01-05\",\n          \"2013-09-10\",\n          \"2013-02-20\"\n        ],\n        \"semantic_type\": \"\",\n        \"description\": \"\"\n      }\n    },\n    {\n      \"column\": \"day_diff\",\n      \"properties\": {\n        \"dtype\": \"number\",\n        \"std\": 209,\n        \"min\": 1,\n        \"max\": 1064,\n        \"num_unique_values\": 690,\n        \"samples\": [\n          337,\n          454,\n          656\n        ],\n        \"semantic_type\": \"\",\n        \"description\": \"\"\n      }\n    },\n    {\n      \"column\": \"helpful_yes\",\n      \"properties\": {\n        \"dtype\": \"number\",\n        \"std\": 41,\n        \"min\": 0,\n        \"max\": 1952,\n        \"num_unique_values\": 23,\n        \"samples\": [\n          1428,\n          6,\n          0\n        ],\n        \"semantic_type\": \"\",\n        \"description\": \"\"\n      }\n    },\n    {\n      \"column\": \"helpful_no\",\n      \"properties\": {\n        \"dtype\": \"number\",\n        \"std\": 4,\n        \"min\": 0,\n        \"max\": 183,\n        \"num_unique_values\": 17,\n        \"samples\": [\n          0,\n          1,\n          10\n        ],\n        \"semantic_type\": \"\",\n        \"description\": \"\"\n      }\n    },\n    {\n      \"column\": \"total_vote\",\n      \"properties\": {\n        \"dtype\": \"number\",\n        \"std\": 44,\n        \"min\": 0,\n        \"max\": 2020,\n        \"num_unique_values\": 26,\n        \"samples\": [\n          495,\n          1505,\n          0\n        ],\n        \"semantic_type\": \"\",\n        \"description\": \"\"\n      }\n    },\n    {\n      \"column\": \"score_pos_neg_diff\",\n      \"properties\": {\n        \"dtype\": \"number\",\n        \"std\": 39,\n        \"min\": -130,\n        \"max\": 1884,\n        \"num_unique_values\": 27,\n        \"samples\": [\n          -2,\n          52,\n          -3\n        ],\n        \"semantic_type\": \"\",\n        \"description\": \"\"\n      }\n    },\n    {\n      \"column\": \"score_average_rating\",\n      \"properties\": {\n        \"dtype\": \"number\",\n        \"std\": 0.25594947117707323,\n        \"min\": 0.0,\n        \"max\": 1.0,\n        \"num_unique_values\": 28,\n        \"samples\": [\n          0.8,\n          0.3076923076923077,\n          0.3333333333333333\n        ],\n        \"semantic_type\": \"\",\n        \"description\": \"\"\n      }\n    },\n    {\n      \"column\": \"wilson_lower_bound\",\n      \"properties\": {\n        \"dtype\": \"number\",\n        \"std\": 0.07714887157543938,\n        \"min\": 0.0,\n        \"max\": 0.9575439475520824,\n        \"num_unique_values\": 40,\n        \"samples\": [\n          0.784650962802083,\n          0.2307242812760128,\n          0.4364971778135299\n        ],\n        \"semantic_type\": \"\",\n        \"description\": \"\"\n      }\n    }\n  ]\n}"
            }
          },
          "metadata": {},
          "execution_count": 352
        }
      ]
    },
    {
      "cell_type": "markdown",
      "source": [
        "**Gráfico de Dispersão dos Dados**"
      ],
      "metadata": {
        "id": "XlwuMXRiGmfu"
      }
    },
    {
      "cell_type": "code",
      "source": [
        "fig = plt.figure(figsize = (14,10))\n",
        "ax = fig.gca()\n",
        "df.hist(ax = ax, grid=False)\n",
        "plt.title(\"Dispersão dos dados\")\n",
        "plt.show()"
      ],
      "metadata": {
        "colab": {
          "base_uri": "https://localhost:8080/",
          "height": 889
        },
        "id": "UbAQ3tgHD3HO",
        "outputId": "0f829791-0e6c-4a3b-b40d-fdfddb2b3401"
      },
      "execution_count": null,
      "outputs": [
        {
          "output_type": "stream",
          "name": "stderr",
          "text": [
            "<ipython-input-353-f9e533ec2085>:3: UserWarning: To output multiple subplots, the figure containing the passed axes is being cleared.\n",
            "  df.hist(ax = ax, grid=False)\n"
          ]
        },
        {
          "output_type": "display_data",
          "data": {
            "text/plain": [
              "<Figure size 1400x1000 with 9 Axes>"
            ],
            "image/png": "[encoded data removed]"
          },
          "metadata": {}
        }
      ]
    },
    {
      "cell_type": "markdown",
      "source": [
        "Os dados apresentam elementos únicos em helpful_yes, helpful_no, total_vote e score_pos_neg_diff. O overall, score_average_rating e dispersão dos dados apresentam predominância de um elemento. Portanto, os dados numéricos que percorreram todo o conjunto foi day_diff e index."
      ],
      "metadata": {
        "id": "D5ZzXiVdG18M"
      }
    },
    {
      "cell_type": "markdown",
      "source": [
        "# **3. Análise de Sentimento**"
      ],
      "metadata": {
        "id": "pVk5sUCMT1WJ"
      }
    },
    {
      "cell_type": "markdown",
      "source": [
        "# **3.1 Coleta e Análise dos dados da Coluna \"reviewText e Overall\"**"
      ],
      "metadata": {
        "id": "9nB7klHVbkSB"
      }
    },
    {
      "cell_type": "markdown",
      "source": [
        "Nesse tópico serão coletados e analisados os dados, bem como apresentadas nuvens de palavras e a frequência de palavras. A análise de sentimento será feita com base nas seguintes colunas: Overall e ReviewTex. Desse modo, o novo dataframe terá apenas essas colunas para facilitar o trabalho."
      ],
      "metadata": {
        "id": "8s6BuLwqidVr"
      }
    },
    {
      "cell_type": "markdown",
      "source": [
        "**The sentiment labels are:**\n",
        "\n",
        "1 - negative\n",
        "2 - somewhat negative\n",
        "3 - neutral\n",
        "4 - somewhat positive\n",
        "5 - positive"
      ],
      "metadata": {
        "id": "MmXl6WW6sl9C"
      }
    },
    {
      "cell_type": "code",
      "source": [
        "# colunas que serão mantidas\n",
        "colunas_desejadas = ['overall', 'reviewText']\n",
        "\n",
        "# Criar um novo DataFrame com apenas as colunas desejadas\n",
        "df_sentimento= df[colunas_desejadas].copy()\n",
        "\n",
        "# Exibir o novo DataFrame\n",
        "print(df_sentimento.head())"
      ],
      "metadata": {
        "colab": {
          "base_uri": "https://localhost:8080/"
        },
        "id": "3-uM2NB6ekkf",
        "outputId": "e106c520-a967-48c2-e716-7791f84e4a42"
      },
      "execution_count": null,
      "outputs": [
        {
          "output_type": "stream",
          "name": "stdout",
          "text": [
            "   overall                                         reviewText\n",
            "0      4.0                                         No issues.\n",
            "1      5.0  Purchased this for my device, it worked as adv...\n",
            "2      4.0  it works as expected. I should have sprung for...\n",
            "3      5.0  This think has worked out great.Had a diff. br...\n",
            "4      5.0  Bought it with Retail Packaging, arrived legit...\n"
          ]
        }
      ]
    },
    {
      "cell_type": "code",
      "source": [
        "train= df_sentimento\n",
        "train_Y = train['overall']\n",
        "train_X = train.drop(['overall'], axis=1)"
      ],
      "metadata": {
        "id": "7wQIdY-2plPa"
      },
      "execution_count": null,
      "outputs": []
    },
    {
      "cell_type": "code",
      "source": [
        "train_Y"
      ],
      "metadata": {
        "colab": {
          "base_uri": "https://localhost:8080/",
          "height": 458
        },
        "id": "Y_UGNMV3qBgE",
        "outputId": "606ac1f9-a0a1-484d-8705-fd80986559a8"
      },
      "execution_count": null,
      "outputs": [
        {
          "output_type": "execute_result",
          "data": {
            "text/plain": [
              "0       4.0\n",
              "1       5.0\n",
              "2       4.0\n",
              "3       5.0\n",
              "4       5.0\n",
              "       ... \n",
              "4910    1.0\n",
              "4911    5.0\n",
              "4912    5.0\n",
              "4913    5.0\n",
              "4914    5.0\n",
              "Name: overall, Length: 4914, dtype: float64"
            ],
            "text/html": [
              "<div>\n",
              "<style scoped>\n",
              "    .dataframe tbody tr th:only-of-type {\n",
              "        vertical-align: middle;\n",
              "    }\n",
              "\n",
              "    .dataframe tbody tr th {\n",
              "        vertical-align: top;\n",
              "    }\n",
              "\n",
              "    .dataframe thead th {\n",
              "        text-align: right;\n",
              "    }\n",
              "</style>\n",
              "<table border=\"1\" class=\"dataframe\">\n",
              "  <thead>\n",
              "    <tr style=\"text-align: right;\">\n",
              "      <th></th>\n",
              "      <th>overall</th>\n",
              "    </tr>\n",
              "  </thead>\n",
              "  <tbody>\n",
              "    <tr>\n",
              "      <th>0</th>\n",
              "      <td>4.0</td>\n",
              "    </tr>\n",
              "    <tr>\n",
              "      <th>1</th>\n",
              "      <td>5.0</td>\n",
              "    </tr>\n",
              "    <tr>\n",
              "      <th>2</th>\n",
              "      <td>4.0</td>\n",
              "    </tr>\n",
              "    <tr>\n",
              "      <th>3</th>\n",
              "      <td>5.0</td>\n",
              "    </tr>\n",
              "    <tr>\n",
              "      <th>4</th>\n",
              "      <td>5.0</td>\n",
              "    </tr>\n",
              "    <tr>\n",
              "      <th>...</th>\n",
              "      <td>...</td>\n",
              "    </tr>\n",
              "    <tr>\n",
              "      <th>4910</th>\n",
              "      <td>1.0</td>\n",
              "    </tr>\n",
              "    <tr>\n",
              "      <th>4911</th>\n",
              "      <td>5.0</td>\n",
              "    </tr>\n",
              "    <tr>\n",
              "      <th>4912</th>\n",
              "      <td>5.0</td>\n",
              "    </tr>\n",
              "    <tr>\n",
              "      <th>4913</th>\n",
              "      <td>5.0</td>\n",
              "    </tr>\n",
              "    <tr>\n",
              "      <th>4914</th>\n",
              "      <td>5.0</td>\n",
              "    </tr>\n",
              "  </tbody>\n",
              "</table>\n",
              "<p>4914 rows × 1 columns</p>\n",
              "</div><br><label><b>dtype:</b> float64</label>"
            ]
          },
          "metadata": {},
          "execution_count": 356
        }
      ]
    },
    {
      "cell_type": "code",
      "source": [
        "train_X"
      ],
      "metadata": {
        "colab": {
          "base_uri": "https://localhost:8080/",
          "height": 423
        },
        "id": "v-GGsR2GrXsv",
        "outputId": "3af206ea-8090-45cd-a52c-552c80fc305d"
      },
      "execution_count": null,
      "outputs": [
        {
          "output_type": "execute_result",
          "data": {
            "text/plain": [
              "                                             reviewText\n",
              "0                                            No issues.\n",
              "1     Purchased this for my device, it worked as adv...\n",
              "2     it works as expected. I should have sprung for...\n",
              "3     This think has worked out great.Had a diff. br...\n",
              "4     Bought it with Retail Packaging, arrived legit...\n",
              "...                                                 ...\n",
              "4910  I bought this Sandisk 16GB Class 10 to use wit...\n",
              "4911  Used this for extending the capabilities of my...\n",
              "4912  Great card that is very fast and reliable. It ...\n",
              "4913  Good amount of space for the stuff I want to d...\n",
              "4914  I've heard bad things about this 64gb Micro SD...\n",
              "\n",
              "[4914 rows x 1 columns]"
            ],
            "text/html": [
              "\n",
              "  <div id=\"df-f0738f02-7942-4e8b-9695-03c1e9ebd86d\" class=\"colab-df-container\">\n",
              "    <div>\n",
              "<style scoped>\n",
              "    .dataframe tbody tr th:only-of-type {\n",
              "        vertical-align: middle;\n",
              "    }\n",
              "\n",
              "    .dataframe tbody tr th {\n",
              "        vertical-align: top;\n",
              "    }\n",
              "\n",
              "    .dataframe thead th {\n",
              "        text-align: right;\n",
              "    }\n",
              "</style>\n",
              "<table border=\"1\" class=\"dataframe\">\n",
              "  <thead>\n",
              "    <tr style=\"text-align: right;\">\n",
              "      <th></th>\n",
              "      <th>reviewText</th>\n",
              "    </tr>\n",
              "  </thead>\n",
              "  <tbody>\n",
              "    <tr>\n",
              "      <th>0</th>\n",
              "      <td>No issues.</td>\n",
              "    </tr>\n",
              "    <tr>\n",
              "      <th>1</th>\n",
              "      <td>Purchased this for my device, it worked as adv...</td>\n",
              "    </tr>\n",
              "    <tr>\n",
              "      <th>2</th>\n",
              "      <td>it works as expected. I should have sprung for...</td>\n",
              "    </tr>\n",
              "    <tr>\n",
              "      <th>3</th>\n",
              "      <td>This think has worked out great.Had a diff. br...</td>\n",
              "    </tr>\n",
              "    <tr>\n",
              "      <th>4</th>\n",
              "      <td>Bought it with Retail Packaging, arrived legit...</td>\n",
              "    </tr>\n",
              "    <tr>\n",
              "      <th>...</th>\n",
              "      <td>...</td>\n",
              "    </tr>\n",
              "    <tr>\n",
              "      <th>4910</th>\n",
              "      <td>I bought this Sandisk 16GB Class 10 to use wit...</td>\n",
              "    </tr>\n",
              "    <tr>\n",
              "      <th>4911</th>\n",
              "      <td>Used this for extending the capabilities of my...</td>\n",
              "    </tr>\n",
              "    <tr>\n",
              "      <th>4912</th>\n",
              "      <td>Great card that is very fast and reliable. It ...</td>\n",
              "    </tr>\n",
              "    <tr>\n",
              "      <th>4913</th>\n",
              "      <td>Good amount of space for the stuff I want to d...</td>\n",
              "    </tr>\n",
              "    <tr>\n",
              "      <th>4914</th>\n",
              "      <td>I've heard bad things about this 64gb Micro SD...</td>\n",
              "    </tr>\n",
              "  </tbody>\n",
              "</table>\n",
              "<p>4914 rows × 1 columns</p>\n",
              "</div>\n",
              "    <div class=\"colab-df-buttons\">\n",
              "\n",
              "  <div class=\"colab-df-container\">\n",
              "    <button class=\"colab-df-convert\" onclick=\"convertToInteractive('df-f0738f02-7942-4e8b-9695-03c1e9ebd86d')\"\n",
              "            title=\"Convert this dataframe to an interactive table.\"\n",
              "            style=\"display:none;\">\n",
              "\n",
              "  <svg xmlns=\"http://www.w3.org/2000/svg\" height=\"24px\" viewBox=\"0 -960 960 960\">\n",
              "    <path d=\"M120-120v-720h720v720H120Zm60-500h600v-160H180v160Zm220 220h160v-160H400v160Zm0 220h160v-160H400v160ZM180-400h160v-160H180v160Zm440 0h160v-160H620v160ZM180-180h160v-160H180v160Zm440 0h160v-160H620v160Z\"/>\n",
              "  </svg>\n",
              "    </button>\n",
              "\n",
              "  <style>\n",
              "    .colab-df-container {\n",
              "      display:flex;\n",
              "      gap: 12px;\n",
              "    }\n",
              "\n",
              "    .colab-df-convert {\n",
              "      background-color: #E8F0FE;\n",
              "      border: none;\n",
              "      border-radius: 50%;\n",
              "      cursor: pointer;\n",
              "      display: none;\n",
              "      fill: #1967D2;\n",
              "      height: 32px;\n",
              "      padding: 0 0 0 0;\n",
              "      width: 32px;\n",
              "    }\n",
              "\n",
              "    .colab-df-convert:hover {\n",
              "      background-color: #E2EBFA;\n",
              "      box-shadow: 0px 1px 2px rgba(60, 64, 67, 0.3), 0px 1px 3px 1px rgba(60, 64, 67, 0.15);\n",
              "      fill: #174EA6;\n",
              "    }\n",
              "\n",
              "    .colab-df-buttons div {\n",
              "      margin-bottom: 4px;\n",
              "    }\n",
              "\n",
              "    [theme=dark] .colab-df-convert {\n",
              "      background-color: #3B4455;\n",
              "      fill: #D2E3FC;\n",
              "    }\n",
              "\n",
              "    [theme=dark] .colab-df-convert:hover {\n",
              "      background-color: #434B5C;\n",
              "      box-shadow: 0px 1px 3px 1px rgba(0, 0, 0, 0.15);\n",
              "      filter: drop-shadow(0px 1px 2px rgba(0, 0, 0, 0.3));\n",
              "      fill: #FFFFFF;\n",
              "    }\n",
              "  </style>\n",
              "\n",
              "    <script>\n",
              "      const buttonEl =\n",
              "        document.querySelector('#df-f0738f02-7942-4e8b-9695-03c1e9ebd86d button.colab-df-convert');\n",
              "      buttonEl.style.display =\n",
              "        google.colab.kernel.accessAllowed ? 'block' : 'none';\n",
              "\n",
              "      async function convertToInteractive(key) {\n",
              "        const element = document.querySelector('#df-f0738f02-7942-4e8b-9695-03c1e9ebd86d');\n",
              "        const dataTable =\n",
              "          await google.colab.kernel.invokeFunction('convertToInteractive',\n",
              "                                                    [key], {});\n",
              "        if (!dataTable) return;\n",
              "\n",
              "        const docLinkHtml = 'Like what you see? Visit the ' +\n",
              "          '<a target=\"_blank\" href=https://colab.research.google.com/notebooks/data_table.ipynb>data table notebook</a>'\n",
              "          + ' to learn more about interactive tables.';\n",
              "        element.innerHTML = '';\n",
              "        dataTable['output_type'] = 'display_data';\n",
              "        await google.colab.output.renderOutput(dataTable, element);\n",
              "        const docLink = document.createElement('div');\n",
              "        docLink.innerHTML = docLinkHtml;\n",
              "        element.appendChild(docLink);\n",
              "      }\n",
              "    </script>\n",
              "  </div>\n",
              "\n",
              "\n",
              "<div id=\"df-741d2373-046b-4fce-9b10-3ab6a92774ca\">\n",
              "  <button class=\"colab-df-quickchart\" onclick=\"quickchart('df-741d2373-046b-4fce-9b10-3ab6a92774ca')\"\n",
              "            title=\"Suggest charts\"\n",
              "            style=\"display:none;\">\n",
              "\n",
              "<svg xmlns=\"http://www.w3.org/2000/svg\" height=\"24px\"viewBox=\"0 0 24 24\"\n",
              "     width=\"24px\">\n",
              "    <g>\n",
              "        <path d=\"M19 3H5c-1.1 0-2 .9-2 2v14c0 1.1.9 2 2 2h14c1.1 0 2-.9 2-2V5c0-1.1-.9-2-2-2zM9 17H7v-7h2v7zm4 0h-2V7h2v10zm4 0h-2v-4h2v4z\"/>\n",
              "    </g>\n",
              "</svg>\n",
              "  </button>\n",
              "\n",
              "<style>\n",
              "  .colab-df-quickchart {\n",
              "      --bg-color: #E8F0FE;\n",
              "      --fill-color: #1967D2;\n",
              "      --hover-bg-color: #E2EBFA;\n",
              "      --hover-fill-color: #174EA6;\n",
              "      --disabled-fill-color: #AAA;\n",
              "      --disabled-bg-color: #DDD;\n",
              "  }\n",
              "\n",
              "  [theme=dark] .colab-df-quickchart {\n",
              "      --bg-color: #3B4455;\n",
              "      --fill-color: #D2E3FC;\n",
              "      --hover-bg-color: #434B5C;\n",
              "      --hover-fill-color: #FFFFFF;\n",
              "      --disabled-bg-color: #3B4455;\n",
              "      --disabled-fill-color: #666;\n",
              "  }\n",
              "\n",
              "  .colab-df-quickchart {\n",
              "    background-color: var(--bg-color);\n",
              "    border: none;\n",
              "    border-radius: 50%;\n",
              "    cursor: pointer;\n",
              "    display: none;\n",
              "    fill: var(--fill-color);\n",
              "    height: 32px;\n",
              "    padding: 0;\n",
              "    width: 32px;\n",
              "  }\n",
              "\n",
              "  .colab-df-quickchart:hover {\n",
              "    background-color: var(--hover-bg-color);\n",
              "    box-shadow: 0 1px 2px rgba(60, 64, 67, 0.3), 0 1px 3px 1px rgba(60, 64, 67, 0.15);\n",
              "    fill: var(--button-hover-fill-color);\n",
              "  }\n",
              "\n",
              "  .colab-df-quickchart-complete:disabled,\n",
              "  .colab-df-quickchart-complete:disabled:hover {\n",
              "    background-color: var(--disabled-bg-color);\n",
              "    fill: var(--disabled-fill-color);\n",
              "    box-shadow: none;\n",
              "  }\n",
              "\n",
              "  .colab-df-spinner {\n",
              "    border: 2px solid var(--fill-color);\n",
              "    border-color: transparent;\n",
              "    border-bottom-color: var(--fill-color);\n",
              "    animation:\n",
              "      spin 1s steps(1) infinite;\n",
              "  }\n",
              "\n",
              "  @keyframes spin {\n",
              "    0% {\n",
              "      border-color: transparent;\n",
              "      border-bottom-color: var(--fill-color);\n",
              "      border-left-color: var(--fill-color);\n",
              "    }\n",
              "    20% {\n",
              "      border-color: transparent;\n",
              "      border-left-color: var(--fill-color);\n",
              "      border-top-color: var(--fill-color);\n",
              "    }\n",
              "    30% {\n",
              "      border-color: transparent;\n",
              "      border-left-color: var(--fill-color);\n",
              "      border-top-color: var(--fill-color);\n",
              "      border-right-color: var(--fill-color);\n",
              "    }\n",
              "    40% {\n",
              "      border-color: transparent;\n",
              "      border-right-color: var(--fill-color);\n",
              "      border-top-color: var(--fill-color);\n",
              "    }\n",
              "    60% {\n",
              "      border-color: transparent;\n",
              "      border-right-color: var(--fill-color);\n",
              "    }\n",
              "    80% {\n",
              "      border-color: transparent;\n",
              "      border-right-color: var(--fill-color);\n",
              "      border-bottom-color: var(--fill-color);\n",
              "    }\n",
              "    90% {\n",
              "      border-color: transparent;\n",
              "      border-bottom-color: var(--fill-color);\n",
              "    }\n",
              "  }\n",
              "</style>\n",
              "\n",
              "  <script>\n",
              "    async function quickchart(key) {\n",
              "      const quickchartButtonEl =\n",
              "        document.querySelector('#' + key + ' button');\n",
              "      quickchartButtonEl.disabled = true;  // To prevent multiple clicks.\n",
              "      quickchartButtonEl.classList.add('colab-df-spinner');\n",
              "      try {\n",
              "        const charts = await google.colab.kernel.invokeFunction(\n",
              "            'suggestCharts', [key], {});\n",
              "      } catch (error) {\n",
              "        console.error('Error during call to suggestCharts:', error);\n",
              "      }\n",
              "      quickchartButtonEl.classList.remove('colab-df-spinner');\n",
              "      quickchartButtonEl.classList.add('colab-df-quickchart-complete');\n",
              "    }\n",
              "    (() => {\n",
              "      let quickchartButtonEl =\n",
              "        document.querySelector('#df-741d2373-046b-4fce-9b10-3ab6a92774ca button');\n",
              "      quickchartButtonEl.style.display =\n",
              "        google.colab.kernel.accessAllowed ? 'block' : 'none';\n",
              "    })();\n",
              "  </script>\n",
              "</div>\n",
              "\n",
              "  <div id=\"id_74f00d38-6505-4d20-a010-32d4483e4986\">\n",
              "    <style>\n",
              "      .colab-df-generate {\n",
              "        background-color: #E8F0FE;\n",
              "        border: none;\n",
              "        border-radius: 50%;\n",
              "        cursor: pointer;\n",
              "        display: none;\n",
              "        fill: #1967D2;\n",
              "        height: 32px;\n",
              "        padding: 0 0 0 0;\n",
              "        width: 32px;\n",
              "      }\n",
              "\n",
              "      .colab-df-generate:hover {\n",
              "        background-color: #E2EBFA;\n",
              "        box-shadow: 0px 1px 2px rgba(60, 64, 67, 0.3), 0px 1px 3px 1px rgba(60, 64, 67, 0.15);\n",
              "        fill: #174EA6;\n",
              "      }\n",
              "\n",
              "      [theme=dark] .colab-df-generate {\n",
              "        background-color: #3B4455;\n",
              "        fill: #D2E3FC;\n",
              "      }\n",
              "\n",
              "      [theme=dark] .colab-df-generate:hover {\n",
              "        background-color: #434B5C;\n",
              "        box-shadow: 0px 1px 3px 1px rgba(0, 0, 0, 0.15);\n",
              "        filter: drop-shadow(0px 1px 2px rgba(0, 0, 0, 0.3));\n",
              "        fill: #FFFFFF;\n",
              "      }\n",
              "    </style>\n",
              "    <button class=\"colab-df-generate\" onclick=\"generateWithVariable('train_X')\"\n",
              "            title=\"Generate code using this dataframe.\"\n",
              "            style=\"display:none;\">\n",
              "\n",
              "  <svg xmlns=\"http://www.w3.org/2000/svg\" height=\"24px\"viewBox=\"0 0 24 24\"\n",
              "       width=\"24px\">\n",
              "    <path d=\"M7,19H8.4L18.45,9,17,7.55,7,17.6ZM5,21V16.75L18.45,3.32a2,2,0,0,1,2.83,0l1.4,1.43a1.91,1.91,0,0,1,.58,1.4,1.91,1.91,0,0,1-.58,1.4L9.25,21ZM18.45,9,17,7.55Zm-12,3A5.31,5.31,0,0,0,4.9,8.1,5.31,5.31,0,0,0,1,6.5,5.31,5.31,0,0,0,4.9,4.9,5.31,5.31,0,0,0,6.5,1,5.31,5.31,0,0,0,8.1,4.9,5.31,5.31,0,0,0,12,6.5,5.46,5.46,0,0,0,6.5,12Z\"/>\n",
              "  </svg>\n",
              "    </button>\n",
              "    <script>\n",
              "      (() => {\n",
              "      const buttonEl =\n",
              "        document.querySelector('#id_74f00d38-6505-4d20-a010-32d4483e4986 button.colab-df-generate');\n",
              "      buttonEl.style.display =\n",
              "        google.colab.kernel.accessAllowed ? 'block' : 'none';\n",
              "\n",
              "      buttonEl.onclick = () => {\n",
              "        google.colab.notebook.generateWithVariable('train_X');\n",
              "      }\n",
              "      })();\n",
              "    </script>\n",
              "  </div>\n",
              "\n",
              "    </div>\n",
              "  </div>\n"
            ],
            "application/vnd.google.colaboratory.intrinsic+json": {
              "type": "dataframe",
              "variable_name": "train_X",
              "summary": "{\n  \"name\": \"train_X\",\n  \"rows\": 4914,\n  \"fields\": [\n    {\n      \"column\": \"reviewText\",\n      \"properties\": {\n        \"dtype\": \"string\",\n        \"num_unique_values\": 4912,\n        \"samples\": [\n          \"Bought this for extended memory in a Galaxy S III.  Great price. Easy to install and the phone recognized it instantly. Does what its supposed to do.\",\n          \"I bought this after I found out that you can add a memory card to the Samsung galaxy s4! I never even knew that you could, and so once I found out I bought this and installed it. It's worked perfectly since and holds all of my songs and videos.  Great buy!\",\n          \"Using it on a Canon 6D. No camplains at all. Really fast access. The adapter itself is not at same level, even though. Bad connection, had to use a previous adapter that I already had.\"\n        ],\n        \"semantic_type\": \"\",\n        \"description\": \"\"\n      }\n    }\n  ]\n}"
            }
          },
          "metadata": {},
          "execution_count": 357
        }
      ]
    },
    {
      "cell_type": "code",
      "source": [
        "#Frequência e TF dos dados antes da limpeza\n",
        "\n",
        "from sklearn.feature_extraction.text import CountVectorizer\n",
        "\n",
        "# Usar CountVectorizer para contar as palavras\n",
        "vectorizer = CountVectorizer()\n",
        "X = vectorizer.fit_transform(df['reviewText'])\n",
        "\n",
        "# Criação de um DataFrame para armazenar contagens e TF\n",
        "unique_tokens = vectorizer.get_feature_names_out()\n",
        "tf_df = pd.DataFrame(data=np.zeros((2, len(unique_tokens))), columns=unique_tokens, index=[\"N\", \"TF\"])\n",
        "\n",
        "# Conta a frequência de cada token\n",
        "tf_df.loc[\"N\"] = X.sum(axis=0).A1  # Somar as contagens diretamente\n",
        "\n",
        "# Calcula TF (Term Frequency)\n",
        "total_tokens = tf_df.loc[\"N\"].sum()  # Total de todas as contagens\n",
        "tf_df.loc[\"TF\"] = tf_df.loc[\"N\"] / total_tokens if total_tokens > 0 else 0\n",
        "\n",
        "# Exibe o DataFrame com as contagens e TF\n",
        "print(tf_df)"
      ],
      "metadata": {
        "colab": {
          "base_uri": "https://localhost:8080/"
        },
        "id": "MDweQ1mRCrXH",
        "outputId": "62a2af1f-a235-40ad-e096-4ffd08270a0d"
      },
      "execution_count": null,
      "outputs": [
        {
          "output_type": "stream",
          "name": "stdout",
          "text": [
            "           00        000     00128       002       00s        01       017  \\\n",
            "N   21.000000  37.000000  1.000000  1.000000  1.000000  2.000000  2.000000   \n",
            "TF   0.000089   0.000158  0.000004  0.000004  0.000004  0.000009  0.000009   \n",
            "\n",
            "         022      024b        03  ...      zips        zl     zone    zoning  \\\n",
            "N   1.000000  1.000000  4.000000  ...  1.000000  1.000000  7.00000  1.000000   \n",
            "TF  0.000004  0.000004  0.000017  ...  0.000004  0.000004  0.00003  0.000004   \n",
            "\n",
            "        zoom       zte     ztpad      zumo      zune    zunehd  \n",
            "N   2.000000  2.000000  1.000000  1.000000  2.000000  1.000000  \n",
            "TF  0.000009  0.000009  0.000004  0.000004  0.000009  0.000004  \n",
            "\n",
            "[2 rows x 8478 columns]\n"
          ]
        }
      ]
    },
    {
      "cell_type": "code",
      "source": [
        "# Determina os 10 maiores termos com base no Termo de Frequência\n",
        "top_terms = tf_df.loc[\"TF\"].nlargest(10)\n",
        "\n",
        "# Exibe os 10 maiores TF\n",
        "print(\"Os 10 maiores termos de Frequência:\")\n",
        "print(top_terms)"
      ],
      "metadata": {
        "colab": {
          "base_uri": "https://localhost:8080/"
        },
        "id": "SMhHnBTgH02R",
        "outputId": "a49eafe0-2627-4fc3-bb57-76b08f2b630c"
      },
      "execution_count": null,
      "outputs": [
        {
          "output_type": "stream",
          "name": "stdout",
          "text": [
            "Os 10 maiores termos de Frequência:\n",
            "the     0.039291\n",
            "it      0.032705\n",
            "and     0.032509\n",
            "to      0.026255\n",
            "my      0.021646\n",
            "card    0.020099\n",
            "this    0.019447\n",
            "for     0.017266\n",
            "in      0.014540\n",
            "of      0.014382\n",
            "Name: TF, dtype: float64\n"
          ]
        }
      ]
    },
    {
      "cell_type": "code",
      "source": [
        "import matplotlib.pyplot as plt\n",
        "# Criar o gráfico de barras horizontais\n",
        "plt.figure(figsize=(15, 5))\n",
        "plt.barh(y=top_terms.index, width=top_terms.values, color='blue')\n",
        "plt.title(\"Top 10 Termos de Frequência antes da Limpeza\")\n",
        "plt.xlabel(\"TF\")\n",
        "plt.ylabel(\"Termos\")\n",
        "\n",
        "# Inverter a ordem do eixo y para que os maiores fiquem no topo\n",
        "plt.gca().invert_yaxis()\n",
        "plt.show()"
      ],
      "metadata": {
        "colab": {
          "base_uri": "https://localhost:8080/",
          "height": 488
        },
        "id": "DJxsEqFuNy09",
        "outputId": "f404ae5c-d79b-4702-cb87-76ad2430c830"
      },
      "execution_count": null,
      "outputs": [
        {
          "output_type": "display_data",
          "data": {
            "text/plain": [
              "<Figure size 1500x500 with 1 Axes>"
            ],
            "image/png": "[encoded data removed]"
          },
          "metadata": {}
        }
      ]
    },
    {
      "cell_type": "code",
      "source": [
        "# Frequência dos Labels\n",
        "label = pd.DataFrame()\n",
        "label['overall'] = np.where(train_Y.values==1, 'negative', np.where(train_Y.values==2, 'somewhat negative', np.where(train_Y.values==3, 'neutral', np.where(train_Y.values==4, 'somewhat positive', 'positive'))))\n",
        "label['overall'].value_counts().plot(kind='bar', rot=20)"
      ],
      "metadata": {
        "colab": {
          "base_uri": "https://localhost:8080/",
          "height": 513
        },
        "id": "YBuzzPtVJb4L",
        "outputId": "d69fa14f-84d5-43aa-9a53-204d03cbc25c"
      },
      "execution_count": null,
      "outputs": [
        {
          "output_type": "execute_result",
          "data": {
            "text/plain": [
              "<Axes: xlabel='overall'>"
            ]
          },
          "metadata": {},
          "execution_count": 361
        },
        {
          "output_type": "display_data",
          "data": {
            "text/plain": [
              "<Figure size 640x480 with 1 Axes>"
            ],
            "image/png": "[encoded data removed]"
          },
          "metadata": {}
        }
      ]
    },
    {
      "cell_type": "markdown",
      "source": [
        "Antes da limpeza, percebe-se que os dados estão desbalanceados. Os 5 elementos com maiores TF foram: the (0.039291), it (0.032705), and (0.032509), to (0.026255), my (0.021646). Portanto, tanta sujeira dificultaria uma análise de sentimento.\n",
        "\n",
        "Ademais, os labels tendem para o aspecto positivo, o que resultaria em um treinamento tendencioso e resultados falhos na etapa do teste."
      ],
      "metadata": {
        "id": "PnBxqarnLSXO"
      }
    },
    {
      "cell_type": "markdown",
      "source": [
        "# **3.2.Limpeza e Análise de Balanceamento dos Dados**\n",
        "\n",
        "Nessa etapa será efetuada a limpeza dos dados, bem como será efetuada a análise de balanceamento após a limpeza. Ademais, serão plotados gráficos, tal qual wordCloud."
      ],
      "metadata": {
        "id": "fypGBmeYvWQR"
      }
    },
    {
      "cell_type": "markdown",
      "source": [
        "# **3.2.1 Limpeza dos Dados**"
      ],
      "metadata": {
        "id": "G6wibzCpxnyU"
      }
    },
    {
      "cell_type": "code",
      "source": [
        "# Exibir a lista de stop words\n",
        "print(stopwords)"
      ],
      "metadata": {
        "colab": {
          "base_uri": "https://localhost:8080/"
        },
        "id": "laWgLI_UgNUX",
        "outputId": "f96c1adf-4809-4240-cade-6a3774349f5a"
      },
      "execution_count": null,
      "outputs": [
        {
          "output_type": "stream",
          "name": "stdout",
          "text": [
            "<WordListCorpusReader in '/root/nltk_data/corpora/stopwords'>\n"
          ]
        }
      ]
    },
    {
      "cell_type": "code",
      "source": [
        "\n",
        "from nltk.corpus import stopwords\n",
        "from nltk.tokenize import word_tokenize\n",
        "\n",
        "# Baixar stop words e outros recursos necessários\n",
        "nltk.download('stopwords')\n",
        "nltk.download('punkt')\n",
        "\n",
        "# Definindo a função de pré-processamento\n",
        "def preprocess(text):\n",
        "    # Substitui quebras de linha por espaço\n",
        "    text = re.sub(r\"\\n\", \" \", text)\n",
        "    # Remove hyperlinks\n",
        "    text = re.sub(r'https?://[^\\s]+', ' ', text)\n",
        "    # Remove caracteres especiais\n",
        "    text = re.sub(r'[^a-zA-Z\\s]', '', text)\n",
        "    # Converte para minúsculas\n",
        "    text = text.lower()\n",
        "    # Remove espaços em branco extras\n",
        "    text = re.sub(r'\\s+', ' ', text)\n",
        "\n",
        "    return text.strip()\n",
        "\n",
        "def text_clean(data):\n",
        "    # Inicializa as stop words\n",
        "    stop_words = set(stopwords.words('english'))\n",
        "\n",
        "    # Adiciona palavras específicas para remoção\n",
        "    additional_stopwords = {'amazon'}\n",
        "\n",
        "    # Remove algumas palavras da lista de stop words\n",
        "    stop_words = stop_words - {'not', 'no'}\n",
        "    stop_words = stop_words.union(additional_stopwords)\n",
        "\n",
        "    cleaned_texts = []\n",
        "\n",
        "    for text in data:\n",
        "        # Pré-processar o texto\n",
        "        text = preprocess(text)\n",
        "\n",
        "        # Tokeniza o texto\n",
        "        tokens = word_tokenize(text)\n",
        "\n",
        "        # Remove stop words\n",
        "        tokens = [word for word in tokens if word not in stop_words]\n",
        "\n",
        "        # Remove palavras contextuais\n",
        "        con_words = ['buy', 'sell', 'bought', 'sold', 'ive', 'would', 'get', 'got', 'dont', 'one', 'using','use']\n",
        "        final_tokens = [word for word in tokens if word not in con_words]\n",
        "\n",
        "        # Junta os tokens em uma string\n",
        "        cleaned_text = ' '.join(final_tokens)\n",
        "        cleaned_texts.append(cleaned_text)\n",
        "\n",
        "    return cleaned_texts\n",
        "\n",
        "# Limpeza dos textos\n",
        "cleaned_reviews = text_clean(train_X['reviewText'])\n",
        "\n",
        "# Exibe alguns exemplos de textos limpos\n",
        "for idx, review in enumerate(cleaned_reviews[:10]):  # Exibir os primeiros 10\n",
        "    print(f\"========== Review {idx + 1} ==========\")\n",
        "    print(review)"
      ],
      "metadata": {
        "colab": {
          "base_uri": "https://localhost:8080/"
        },
        "id": "Txapgcf5lPTt",
        "outputId": "81829b29-e63a-452f-8a35-7c2b4f1bbac1"
      },
      "execution_count": null,
      "outputs": [
        {
          "output_type": "stream",
          "name": "stderr",
          "text": [
            "[nltk_data] Downloading package stopwords to /root/nltk_data...\n",
            "[nltk_data]   Package stopwords is already up-to-date!\n",
            "[nltk_data] Downloading package punkt to /root/nltk_data...\n",
            "[nltk_data]   Package punkt is already up-to-date!\n"
          ]
        },
        {
          "output_type": "stream",
          "name": "stdout",
          "text": [
            "========== Review 1 ==========\n",
            "no issues\n",
            "========== Review 2 ==========\n",
            "purchased device worked advertised never much phone memory since download lot stuff no brainer\n",
            "========== Review 3 ==========\n",
            "works expected sprung higher capacity think made bit cheesier earlier versions paint looks not clean\n",
            "========== Review 4 ==========\n",
            "think worked greathad diff bran gb card went south monthsthis held pretty well since note update months zero issues since transferred note note card reliable solidcheers\n",
            "========== Review 5 ==========\n",
            "retail packaging arrived legit orange envelope english version not asian like picture shows arrived quickly retail packaging htc sv lg optimus cards working order probably best price youll nice sd card\n",
            "========== Review 6 ==========\n",
            "mini storage doesnt anything else not supposed purchased add additional storage microsoft surface pro tablet come gb supposed sandisk long standing reputation speaks\n",
            "========== Review 7 ==========\n",
            "phone never skips beat file transfers speedy not corruption issues memory fade issues expect sandisk brand great card entrust precious files slightly cheaper piece crap lose everything forgive not spending extra couple bucks trusted product goes good qa\n",
            "========== Review 8 ==========\n",
            "hard believe affordable digital become gb device quarter sie postage stamp science fiction less generation agoi picked portable music didnt want schlep risk phone ipod works great sd card readersselect confidence\n",
            "========== Review 9 ==========\n",
            "works htc rezound running short space gb sandisk ordered came fast no issues\n",
            "========== Review 10 ==========\n",
            "galaxy super fast card totally happy not happy still type fill required words though\n"
          ]
        }
      ]
    },
    {
      "cell_type": "markdown",
      "source": [
        "# **3.2.2 Análise de balanceamento após a limpeza**"
      ],
      "metadata": {
        "id": "pzH9t3mkxttX"
      }
    },
    {
      "cell_type": "code",
      "source": [
        "\n",
        "# DataFrame\n",
        "train_Y = train['overall']\n",
        "train_X = train.drop(['overall'], axis=1)\n",
        "\n",
        "# Limpeza dos textos\n",
        "cleaned_reviews = text_clean(train_X['reviewText'])\n",
        "\n",
        "# # Criar o DataFrame 'data' com a coluna 'overall' e a coluna 'review_limpo'\n",
        "data = pd.DataFrame({\n",
        "    'overall': train_Y,\n",
        "    'review_limpo': cleaned_reviews\n",
        "})\n",
        "\n",
        "# Exibição do novo DataFrame\n",
        "print(data.head())\n",
        "\n",
        "# Usar CountVectorizer para contar as palavras nos textos limpos\n",
        "vectorizer = CountVectorizer()\n",
        "X = vectorizer.fit_transform(cleaned_reviews)\n",
        "\n",
        "# Criação de um DataFrame para armazenar contagens e TF\n",
        "unique_tokens = vectorizer.get_feature_names_out()\n",
        "tf_df = pd.DataFrame(data=np.zeros((2, len(unique_tokens))), columns=unique_tokens, index=[\"N\", \"TF\"])\n",
        "\n",
        "# Conta a frequência de cada token\n",
        "tf_df.loc[\"N\"] = X.sum(axis=0).A1\n",
        "\n",
        "# Calcula TF (Term Frequency)\n",
        "total_tokens = tf_df.loc[\"N\"].sum()  # Total de todas as contagens\n",
        "tf_df.loc[\"TF\"] = tf_df.loc[\"N\"] / total_tokens if total_tokens > 0 else 0\n",
        "\n",
        "# Calcular IDF\n",
        "total_documents = X.shape[0]  # Total de documentos\n",
        "idf_values = np.log10(total_documents / (X > 0).sum(axis=0))  # Usando a soma das ocorrências\n",
        "\n",
        "# Criação de um DataFrame para armazenar IDF\n",
        "idf_df = pd.DataFrame(idf_values.T, index=unique_tokens, columns=['IDF'])\n",
        "\n",
        "# Criação de um DataFrame para armazenar o TF-IDF\n",
        "tf_idf_df = pd.DataFrame(index=unique_tokens, columns=['TF-IDF'])\n",
        "\n",
        "# Calcular o TF-IDF\n",
        "for token in unique_tokens:\n",
        "    tf_idf_df.at[token, 'TF-IDF'] = tf_df.at[\"TF\", token] * idf_df.at[token, 'IDF']\n",
        "\n",
        "# Exibir os DataFrames com as contagens, N, TF, IDF e TF-IDF\n",
        "print(\"\\nDataFrame de Contagens (N e TF):\")\n",
        "print(tf_df)\n",
        "\n",
        "print(\"\\nDataFrame de IDF:\")\n",
        "print(idf_df)\n",
        "\n",
        "# Exibir o DataFrame com os resultados de TF-IDF\n",
        "print(tf_idf_df)\n",
        "\n",
        "\n"
      ],
      "metadata": {
        "colab": {
          "base_uri": "https://localhost:8080/"
        },
        "id": "TKpMU2I6xvP9",
        "outputId": "3635cdbc-81bb-4f08-fd0a-4b3060e0ac0e"
      },
      "execution_count": null,
      "outputs": [
        {
          "output_type": "stream",
          "name": "stdout",
          "text": [
            "   overall                                       review_limpo\n",
            "0      4.0                                          no issues\n",
            "1      5.0  purchased device worked advertised never much ...\n",
            "2      4.0  works expected sprung higher capacity think ma...\n",
            "3      5.0  think worked greathad diff bran gb card went s...\n",
            "4      5.0  retail packaging arrived legit orange envelope...\n",
            "\n",
            "DataFrame de Contagens (N e TF):\n",
            "         aac       aas       aba   abdroid  abilities    ability       able  \\\n",
            "N   1.000000  1.000000  1.000000  1.000000   1.000000  20.000000  198.00000   \n",
            "TF  0.000008  0.000008  0.000008  0.000008   0.000008   0.000167    0.00165   \n",
            "\n",
            "    aboutgood    abouti  abouttherehere  ...        zl     zone    zoning  \\\n",
            "N    1.000000  1.000000        1.000000  ...  1.000000  6.00000  1.000000   \n",
            "TF   0.000008  0.000008        0.000008  ...  0.000008  0.00005  0.000008   \n",
            "\n",
            "        zoom        zs       zte     ztpad      zumo      zune    zunehd  \n",
            "N   2.000000  1.000000  2.000000  1.000000  1.000000  2.000000  1.000000  \n",
            "TF  0.000017  0.000008  0.000017  0.000008  0.000008  0.000017  0.000008  \n",
            "\n",
            "[2 rows x 9663 columns]\n",
            "\n",
            "DataFrame de IDF:\n",
            "                IDF\n",
            "aac        3.691435\n",
            "aas        3.691435\n",
            "aba        3.691435\n",
            "abdroid    3.691435\n",
            "abilities  3.691435\n",
            "...             ...\n",
            "zte        3.390405\n",
            "ztpad      3.691435\n",
            "zumo       3.691435\n",
            "zune       3.390405\n",
            "zunehd     3.691435\n",
            "\n",
            "[9663 rows x 1 columns]\n",
            "             TF-IDF\n",
            "aac        0.000031\n",
            "aas        0.000031\n",
            "aba        0.000031\n",
            "abdroid    0.000031\n",
            "abilities  0.000031\n",
            "...             ...\n",
            "zte        0.000057\n",
            "ztpad      0.000031\n",
            "zumo       0.000031\n",
            "zune       0.000057\n",
            "zunehd     0.000031\n",
            "\n",
            "[9663 rows x 1 columns]\n"
          ]
        }
      ]
    },
    {
      "cell_type": "code",
      "source": [
        "\n",
        "# Combinar os DataFrames em um único DataFrame\n",
        "combined_df = pd.concat([tf_df.loc[\"TF\"], idf_df['IDF'], tf_idf_df['TF-IDF']], axis=1)\n",
        "combined_df.columns = ['TF', 'IDF', 'TF-IDF']\n",
        "print(combined_df)\n"
      ],
      "metadata": {
        "colab": {
          "base_uri": "https://localhost:8080/"
        },
        "id": "BcHHKqlfzrwi",
        "outputId": "f8b8af10-7e9d-4438-fbcc-57f645e65a28"
      },
      "execution_count": null,
      "outputs": [
        {
          "output_type": "stream",
          "name": "stdout",
          "text": [
            "                 TF       IDF    TF-IDF\n",
            "aac        0.000008  3.691435  0.000031\n",
            "aas        0.000008  3.691435  0.000031\n",
            "aba        0.000008  3.691435  0.000031\n",
            "abdroid    0.000008  3.691435  0.000031\n",
            "abilities  0.000008  3.691435  0.000031\n",
            "...             ...       ...       ...\n",
            "zte        0.000017  3.390405  0.000057\n",
            "ztpad      0.000008  3.691435  0.000031\n",
            "zumo       0.000008  3.691435  0.000031\n",
            "zune       0.000017  3.390405  0.000057\n",
            "zunehd     0.000008  3.691435  0.000031\n",
            "\n",
            "[9663 rows x 3 columns]\n"
          ]
        }
      ]
    },
    {
      "cell_type": "code",
      "source": [
        "# Ordenar o DataFrame pelo valor de TF-IDF do maior para o menor\n",
        "combined_df = combined_df.sort_values(by='TF-IDF', ascending=False)\n",
        "\n",
        "# Exibir o DataFrame combinado e ordenado\n",
        "print(\"DataFrame Combinado de TF, IDF e TF-IDF (ordenado pelo TF-IDF):\")\n",
        "print(combined_df)"
      ],
      "metadata": {
        "colab": {
          "base_uri": "https://localhost:8080/"
        },
        "id": "vn9hwXSU3wCp",
        "outputId": "d2172d0d-fe4a-47b6-f43d-9e87f7de41d2"
      },
      "execution_count": null,
      "outputs": [
        {
          "output_type": "stream",
          "name": "stdout",
          "text": [
            "DataFrame Combinado de TF, IDF e TF-IDF (ordenado pelo TF-IDF):\n",
            "                       TF       IDF    TF-IDF\n",
            "card             0.038369  0.337519   0.01295\n",
            "gb               0.014379  0.663678  0.009543\n",
            "phone            0.014045  0.648073  0.009102\n",
            "not              0.012595  0.650042  0.008187\n",
            "memory           0.011345  0.678598  0.007698\n",
            "...                   ...       ...       ...\n",
            "insurance        0.000008  3.691435  0.000031\n",
            "instructionsand  0.000008  3.691435  0.000031\n",
            "instructional    0.000008  3.691435  0.000031\n",
            "instruction      0.000008  3.691435  0.000031\n",
            "zunehd           0.000008  3.691435  0.000031\n",
            "\n",
            "[9663 rows x 3 columns]\n"
          ]
        }
      ]
    },
    {
      "cell_type": "code",
      "source": [
        "# Ordenamento do DataFrame pelo valor de TF-IDF do maior para o menor\n",
        "combined_df = combined_df.sort_values(by='TF-IDF', ascending=False)\n",
        "\n",
        "# Exibição dos 50 primeiros termos do DataFrame combinado e ordenado\n",
        "print(\"DataFrame Combinado de TF, IDF e TF-IDF (ordenado pelo TF-IDF):\")\n",
        "print(combined_df.head(50))"
      ],
      "metadata": {
        "colab": {
          "base_uri": "https://localhost:8080/"
        },
        "id": "iM_ha7DF4wIO",
        "outputId": "6095b994-a60b-45f4-b65b-78abc131b6dc"
      },
      "execution_count": null,
      "outputs": [
        {
          "output_type": "stream",
          "name": "stdout",
          "text": [
            "DataFrame Combinado de TF, IDF e TF-IDF (ordenado pelo TF-IDF):\n",
            "                 TF       IDF    TF-IDF\n",
            "card       0.038369  0.337519   0.01295\n",
            "gb         0.014379  0.663678  0.009543\n",
            "phone      0.014045  0.648073  0.009102\n",
            "not        0.012595  0.650042  0.008187\n",
            "memory     0.011345  0.678598  0.007698\n",
            "sandisk    0.010720  0.713255  0.007646\n",
            "sd         0.009994  0.759977  0.007595\n",
            "great      0.012045  0.595221  0.007169\n",
            "no         0.010511  0.666949   0.00701\n",
            "works      0.012995  0.533978  0.006939\n",
            "cards      0.007785  0.880531  0.006855\n",
            "galaxy     0.008527  0.728592  0.006213\n",
            "good       0.007427  0.802133  0.005957\n",
            "fast       0.007560  0.778682  0.005887\n",
            "samsung    0.006902  0.824557  0.005691\n",
            "price      0.007019  0.803256  0.005638\n",
            "storage    0.006302  0.877188  0.005528\n",
            "class      0.005210  1.054947  0.005496\n",
            "speed      0.005360  0.995079  0.005333\n",
            "tablet     0.005360  0.989867  0.005305\n",
            "well       0.005643  0.909680  0.005133\n",
            "music      0.005018  0.977105  0.004903\n",
            "camera     0.004334  1.064069  0.004612\n",
            "product    0.004410  1.025854  0.004524\n",
            "micro      0.004401  1.027734  0.004523\n",
            "note       0.004259  1.061007  0.004519\n",
            "like       0.004334  1.035337  0.004488\n",
            "adapter    0.004143  1.059991  0.004391\n",
            "work       0.004043  1.068186  0.004318\n",
            "space      0.003818  1.079712  0.004122\n",
            "worked     0.003834  1.067153  0.004092\n",
            "files      0.003376  1.205714   0.00407\n",
            "problems   0.003851  1.051949  0.004051\n",
            "issues     0.003751  1.073387  0.004026\n",
            "video      0.003543  1.136341  0.004026\n",
            "microsd    0.003251  1.235069  0.004015\n",
            "used       0.003751  1.067153  0.004003\n",
            "new        0.003526  1.135133  0.004002\n",
            "data       0.003334  1.182233  0.003942\n",
            "time       0.003484  1.126769  0.003926\n",
            "read       0.003209  1.209993  0.003883\n",
            "format     0.003001  1.283195  0.003851\n",
            "problem    0.003218  1.175561  0.003782\n",
            "much       0.003359  1.124409  0.003777\n",
            "need       0.003334  1.132727  0.003777\n",
            "pictures   0.003076  1.179552  0.003628\n",
            "far        0.003193  1.133928   0.00362\n",
            "recommend  0.003268  1.102603  0.003603\n",
            "fine       0.003109  1.157409  0.003599\n",
            "put        0.002942  1.209993   0.00356\n"
          ]
        }
      ]
    },
    {
      "cell_type": "code",
      "source": [
        "# Determinar os 50 maiores termos com base nas contagens\n",
        "top_terms = tf_df.loc[\"TF\"].nlargest(50)\n",
        "\n",
        "# Exibir os 50 maiores termos e suas contagens\n",
        "print(\"Os 50 maiores termos e suas contagens (pós limpeza):\")\n",
        "print(top_terms)"
      ],
      "metadata": {
        "colab": {
          "base_uri": "https://localhost:8080/"
        },
        "id": "gp1zCKiDo_Eb",
        "outputId": "b737730e-5b77-4dfa-d20f-b9f7f255c3be"
      },
      "execution_count": null,
      "outputs": [
        {
          "output_type": "stream",
          "name": "stdout",
          "text": [
            "Os 50 maiores termos e suas contagens (pós limpeza):\n",
            "card         0.038369\n",
            "gb           0.014379\n",
            "phone        0.014045\n",
            "works        0.012995\n",
            "not          0.012595\n",
            "great        0.012045\n",
            "memory       0.011345\n",
            "sandisk      0.010720\n",
            "no           0.010511\n",
            "sd           0.009994\n",
            "galaxy       0.008527\n",
            "cards        0.007785\n",
            "fast         0.007560\n",
            "good         0.007427\n",
            "price        0.007019\n",
            "samsung      0.006902\n",
            "storage      0.006302\n",
            "well         0.005643\n",
            "speed        0.005360\n",
            "tablet       0.005360\n",
            "class        0.005210\n",
            "music        0.005018\n",
            "product      0.004410\n",
            "micro        0.004401\n",
            "camera       0.004334\n",
            "like         0.004334\n",
            "note         0.004259\n",
            "adapter      0.004143\n",
            "work         0.004043\n",
            "problems     0.003851\n",
            "worked       0.003834\n",
            "space        0.003818\n",
            "issues       0.003751\n",
            "used         0.003751\n",
            "video        0.003543\n",
            "new          0.003526\n",
            "time         0.003484\n",
            "files        0.003376\n",
            "much         0.003359\n",
            "data         0.003334\n",
            "need         0.003334\n",
            "recommend    0.003268\n",
            "microsd      0.003251\n",
            "problem      0.003218\n",
            "read         0.003209\n",
            "far          0.003193\n",
            "fine         0.003109\n",
            "pictures     0.003076\n",
            "format       0.003001\n",
            "never        0.002984\n",
            "Name: TF, dtype: float64\n"
          ]
        }
      ]
    },
    {
      "cell_type": "code",
      "source": [
        "import matplotlib.pyplot as plt\n",
        "from wordcloud import WordCloud\n",
        "\n",
        "# 50 termos mais frequentes e suas contagens\n",
        "top_terms = tf_df.loc[\"TF\"].nlargest(50)\n",
        "\n",
        "# Dicionário com os termos e suas frequências\n",
        "term_frequencies = dict(top_terms)\n",
        "\n",
        "# Nuvem de palavras\n",
        "wordcloud = WordCloud(max_font_size=50, background_color=\"black\").generate_from_frequencies(term_frequencies)\n",
        "\n",
        "# Exibir a imagem gerada\n",
        "plt.figure(figsize=(15, 7))\n",
        "plt.imshow(wordcloud, interpolation='bilinear')\n",
        "plt.title(\"Palavras mais frequentes\")\n",
        "plt.axis(\"off\")\n",
        "plt.show()"
      ],
      "metadata": {
        "colab": {
          "base_uri": "https://localhost:8080/",
          "height": 598
        },
        "id": "MKbOXHZnuael",
        "outputId": "6ea30587-75a6-462f-beb4-99d7d9453975"
      },
      "execution_count": null,
      "outputs": [
        {
          "output_type": "display_data",
          "data": {
            "text/plain": [
              "<Figure size 1500x700 with 1 Axes>"
            ],
            "image/png": "[encoded data removed]"
          },
          "metadata": {}
        }
      ]
    },
    {
      "cell_type": "markdown",
      "source": [
        "# ***4.Stemming e Lematização***\n"
      ],
      "metadata": {
        "id": "-OcQjcJ-wp3Q"
      }
    },
    {
      "cell_type": "markdown",
      "source": [
        "# **4.1.Stemming**"
      ],
      "metadata": {
        "id": "Rb4sKCXkPLG7"
      }
    },
    {
      "cell_type": "code",
      "source": [
        "#Stemming\n",
        "\n",
        "from nltk.stem import PorterStemmer\n",
        "\n",
        "# Baixar stop words e outros recursos necessários\n",
        "nltk.download('stopwords')\n",
        "nltk.download('punkt')\n",
        "\n",
        "# Definindo a função de pré-processamento\n",
        "def preprocess(text):\n",
        "    # Substitui quebras de linha por espaço\n",
        "    text = re.sub(r\"\\n\", \" \", text)\n",
        "    # Remove hyperlinks\n",
        "    text = re.sub(r'https?://[^\\s]+', ' ', text)\n",
        "    # Remove caracteres especiais\n",
        "    text = re.sub(r'[^a-zA-Z\\s]', '', text)\n",
        "    # Converte para minúsculas\n",
        "    text = text.lower()\n",
        "    # Remove espaços em branco extras\n",
        "    text = re.sub(r'\\s+', ' ', text)\n",
        "\n",
        "    return text.strip()\n",
        "\n",
        "def text_clean(data):\n",
        "    # Inicializa as stop words e o stemmer\n",
        "    stop_words = set(stopwords.words('english'))\n",
        "    stemmer = PorterStemmer()\n",
        "\n",
        "    # Adiciona palavras específicas para remoção\n",
        "    additional_stopwords = {'amazon'}\n",
        "\n",
        "    # Remove algumas palavras da lista de stop words\n",
        "    stop_words = stop_words - {'not', 'no'}\n",
        "    stop_words = stop_words.union(additional_stopwords)\n",
        "\n",
        "    cleaned_texts = []\n",
        "\n",
        "    for text in data:\n",
        "        # Pré-processar o texto\n",
        "        text = preprocess(text)\n",
        "\n",
        "        # Tokeniza o texto\n",
        "        tokens = word_tokenize(text)\n",
        "\n",
        "        # Remove stop words\n",
        "        tokens = [word for word in tokens if word not in stop_words]\n",
        "\n",
        "        # Remove palavras contextuais\n",
        "        con_words = ['buy', 'sell', 'bought', 'sold', 'ive', 'would', 'get', 'got', 'dont', 'one', 'using','use']\n",
        "        tokens = [word for word in tokens if word not in con_words]\n",
        "\n",
        "        # Aplica o stemming\n",
        "        stemmed_tokens = [stemmer.stem(word) for word in tokens]\n",
        "\n",
        "        # Junta os tokens em uma string\n",
        "        cleaned_text = ' '.join(stemmed_tokens)\n",
        "        cleaned_texts.append(cleaned_text)\n",
        "\n",
        "    return cleaned_texts\n",
        "\n",
        "# Limpeza dos textos\n",
        "cleaned_reviews = text_clean(train_X['reviewText'])\n",
        "\n",
        "# Exibição de textos limpos\n",
        "for idx, review in enumerate(cleaned_reviews[:10]):  # Exibir os primeiros 10\n",
        "    print(f\"========== Review {idx + 1} ==========\")\n",
        "    print(review)\n"
      ],
      "metadata": {
        "colab": {
          "base_uri": "https://localhost:8080/"
        },
        "id": "SO-6Z4L1Kv-P",
        "outputId": "8ef47144-5b6a-4127-f993-86733eb75020"
      },
      "execution_count": null,
      "outputs": [
        {
          "output_type": "stream",
          "name": "stderr",
          "text": [
            "[nltk_data] Downloading package stopwords to /root/nltk_data...\n",
            "[nltk_data]   Package stopwords is already up-to-date!\n",
            "[nltk_data] Downloading package punkt to /root/nltk_data...\n",
            "[nltk_data]   Package punkt is already up-to-date!\n"
          ]
        },
        {
          "output_type": "stream",
          "name": "stdout",
          "text": [
            "========== Review 1 ==========\n",
            "no issu\n",
            "========== Review 2 ==========\n",
            "purchas devic work advertis never much phone memori sinc download lot stuff no brainer\n",
            "========== Review 3 ==========\n",
            "work expect sprung higher capac think made bit cheesier earlier version paint look not clean\n",
            "========== Review 4 ==========\n",
            "think work greathad diff bran gb card went south monthsthi held pretti well sinc note updat month zero issu sinc transfer note note card reliabl solidch\n",
            "========== Review 5 ==========\n",
            "retail packag arriv legit orang envelop english version not asian like pictur show arriv quickli retail packag htc sv lg optimu card work order probabl best price youll nice sd card\n",
            "========== Review 6 ==========\n",
            "mini storag doesnt anyth els not suppos purchas add addit storag microsoft surfac pro tablet come gb suppos sandisk long stand reput speak\n",
            "========== Review 7 ==========\n",
            "phone never skip beat file transfer speedi not corrupt issu memori fade issu expect sandisk brand great card entrust preciou file slightli cheaper piec crap lose everyth forgiv not spend extra coupl buck trust product goe good qa\n",
            "========== Review 8 ==========\n",
            "hard believ afford digit becom gb devic quarter sie postag stamp scienc fiction less gener agoi pick portabl music didnt want schlep risk phone ipod work great sd card readersselect confid\n",
            "========== Review 9 ==========\n",
            "work htc rezound run short space gb sandisk order came fast no issu\n",
            "========== Review 10 ==========\n",
            "galaxi super fast card total happi not happi still type fill requir word though\n"
          ]
        }
      ]
    },
    {
      "cell_type": "code",
      "source": [
        "\n",
        "# Usar CountVectorizer para contar as palavras nos textos limpos\n",
        "vectorizer = CountVectorizer()\n",
        "X = vectorizer.fit_transform(cleaned_reviews)\n",
        "\n",
        "# Criação de um DataFrame para armazenar contagens e TF\n",
        "unique_tokens = vectorizer.get_feature_names_out()\n",
        "tf_df = pd.DataFrame(data=np.zeros((2, len(unique_tokens))), columns=unique_tokens, index=[\"N\", \"TF\"])\n",
        "\n",
        "# Conta a frequência de cada token\n",
        "tf_df.loc[\"N\"] = X.sum(axis=0).A1  # Somar as contagens diretamente\n",
        "\n",
        "# Calcula TF (Term Frequency)\n",
        "total_tokens = tf_df.loc[\"N\"].sum()  # Total de todas as contagens\n",
        "tf_df.loc[\"TF\"] = tf_df.loc[\"N\"] / total_tokens if total_tokens > 0 else 0\n",
        "\n",
        "# Exibição do DataFrame com as contagens e TF\n",
        "print(\"\\nDataFrame de N e TF:\")\n",
        "print(tf_df)\n",
        "\n",
        "# Calcular IDF\n",
        "total_documents = X.shape[0]  # Total de documentos\n",
        "idf_values = np.log10(total_documents / (X > 0).sum(axis=0))  # Usando a soma das ocorrências\n",
        "\n",
        "# Criação de um DataFrame para armazenar IDF\n",
        "idf_df = pd.DataFrame(idf_values.T, index=unique_tokens, columns=['IDF'])\n",
        "\n",
        "# Criação de um DataFrame para armazenar o TF-IDF\n",
        "tf_idf_df = pd.DataFrame(index=unique_tokens, columns=['TF-IDF'])\n",
        "\n",
        "# Calcular o TF-IDF\n",
        "for token in unique_tokens:\n",
        "    tf_idf_df.at[token, 'TF-IDF'] = tf_df.at[\"TF\", token] * idf_df.at[token, 'IDF']\n",
        "\n",
        "# Exibição do DataFrame de IDF\n",
        "print(\"\\nDataFrame de IDF:\")\n",
        "print(idf_df)\n",
        "\n",
        "# Exibição do DataFrame com os resultados de TF-IDF\n",
        "print(\"\\nDataFrame de TF-IDF:\")\n",
        "print(tf_idf_df)"
      ],
      "metadata": {
        "colab": {
          "base_uri": "https://localhost:8080/"
        },
        "id": "yZhRw7OhN0FD",
        "outputId": "8f291be7-57cf-44ea-8d05-51a5e03d1266"
      },
      "execution_count": null,
      "outputs": [
        {
          "output_type": "stream",
          "name": "stdout",
          "text": [
            "\n",
            "DataFrame de N e TF:\n",
            "          aa       aac       aba   abdroid       abil        abl  aboutgood  \\\n",
            "N   1.000000  1.000000  1.000000  1.000000  21.000000  198.00000   1.000000   \n",
            "TF  0.000008  0.000008  0.000008  0.000008   0.000175    0.00165   0.000008   \n",
            "\n",
            "      abouti  aboutthereher   aboutto  ...     zippi        zl      zone  \\\n",
            "N   1.000000       1.000000  1.000000  ...  1.000000  1.000000  7.000000   \n",
            "TF  0.000008       0.000008  0.000008  ...  0.000008  0.000008  0.000058   \n",
            "\n",
            "        zoom        zs       zte     ztpad      zumo      zune    zunehd  \n",
            "N   2.000000  1.000000  2.000000  1.000000  1.000000  2.000000  1.000000  \n",
            "TF  0.000017  0.000008  0.000017  0.000008  0.000008  0.000017  0.000008  \n",
            "\n",
            "[2 rows x 7449 columns]\n",
            "\n",
            "DataFrame de IDF:\n",
            "              IDF\n",
            "aa       3.691435\n",
            "aac      3.691435\n",
            "aba      3.691435\n",
            "abdroid  3.691435\n",
            "abil     2.369216\n",
            "...           ...\n",
            "zte      3.390405\n",
            "ztpad    3.691435\n",
            "zumo     3.691435\n",
            "zune     3.390405\n",
            "zunehd   3.691435\n",
            "\n",
            "[7449 rows x 1 columns]\n",
            "\n",
            "DataFrame de TF-IDF:\n",
            "           TF-IDF\n",
            "aa       0.000031\n",
            "aac      0.000031\n",
            "aba      0.000031\n",
            "abdroid  0.000031\n",
            "abil     0.000415\n",
            "...           ...\n",
            "zte      0.000057\n",
            "ztpad    0.000031\n",
            "zumo     0.000031\n",
            "zune     0.000057\n",
            "zunehd   0.000031\n",
            "\n",
            "[7449 rows x 1 columns]\n"
          ]
        }
      ]
    },
    {
      "cell_type": "code",
      "source": [
        "# 50 maiores termos com base em TF (Pós Stemming)\n",
        "top_terms2 = tf_df.loc[\"TF\"].nlargest(50)\n",
        "\n",
        "# Exibição dos 50 maiores termos de Frequência\n",
        "print(\"Os 50 maiores Termos de Frequência, pós stemming:\")\n",
        "print(top_terms2)"
      ],
      "metadata": {
        "colab": {
          "base_uri": "https://localhost:8080/"
        },
        "id": "f363A17DOfwJ",
        "outputId": "5dfde588-c29c-459a-e08c-b8d4f0e5a570"
      },
      "execution_count": null,
      "outputs": [
        {
          "output_type": "stream",
          "name": "stdout",
          "text": [
            "Os 50 maiores Termos de Frequência, pós stemming:\n",
            "card         0.046154\n",
            "work         0.023123\n",
            "phone        0.015913\n",
            "gb           0.014637\n",
            "not          0.012595\n",
            "great        0.012053\n",
            "memori       0.011486\n",
            "sandisk      0.010961\n",
            "no           0.010511\n",
            "sd           0.010078\n",
            "galaxi       0.008561\n",
            "price        0.007902\n",
            "speed        0.007702\n",
            "fast         0.007560\n",
            "good         0.007452\n",
            "problem      0.007069\n",
            "samsung      0.006969\n",
            "storag       0.006302\n",
            "tablet       0.006060\n",
            "video        0.005977\n",
            "need         0.005935\n",
            "product      0.005802\n",
            "format       0.005677\n",
            "well         0.005643\n",
            "camera       0.005335\n",
            "class        0.005251\n",
            "issu         0.005118\n",
            "music        0.005043\n",
            "devic        0.004868\n",
            "like         0.004735\n",
            "file         0.004526\n",
            "purchas      0.004501\n",
            "micro        0.004426\n",
            "transfer     0.004418\n",
            "adapt        0.004393\n",
            "read         0.004351\n",
            "time         0.004334\n",
            "note         0.004326\n",
            "recommend    0.004268\n",
            "use          0.004176\n",
            "say          0.003993\n",
            "write        0.003834\n",
            "space        0.003826\n",
            "go           0.003751\n",
            "new          0.003526\n",
            "pictur       0.003476\n",
            "lot          0.003359\n",
            "much         0.003359\n",
            "store        0.003359\n",
            "data         0.003334\n",
            "Name: TF, dtype: float64\n"
          ]
        }
      ]
    },
    {
      "cell_type": "markdown",
      "source": [
        "# **4.2.Lematização**"
      ],
      "metadata": {
        "id": "cDLp38HZPUV9"
      }
    },
    {
      "cell_type": "code",
      "source": [
        "\n",
        "from nltk.corpus import stopwords, wordnet\n",
        "from nltk.stem import WordNetLemmatizer\n",
        "\n",
        "# Função para mapear tags para o formato do WordNet\n",
        "def get_wordnet_pos(treebank_tag):\n",
        "    if treebank_tag.startswith('J'):\n",
        "        return wordnet.ADJ\n",
        "    elif treebank_tag.startswith('V'):\n",
        "        return wordnet.VERB\n",
        "    elif treebank_tag.startswith('N'):\n",
        "        return wordnet.NOUN\n",
        "    elif treebank_tag.startswith('R'):\n",
        "        return wordnet.ADV\n",
        "    else:\n",
        "        return wordnet.NOUN  # Default para substantivo\n",
        "\n",
        "# Definindo a função de pré-processamento\n",
        "def preprocess(text):\n",
        "    text = re.sub(r\"\\n\", \" \", text)\n",
        "    text = re.sub(r'https?://[^\\s]+', ' ', text)\n",
        "    text = re.sub(r'[^a-zA-Z\\s]', '', text)\n",
        "    text = text.lower()\n",
        "    text = re.sub(r'\\s+', ' ', text)\n",
        "\n",
        "    return text.strip()\n",
        "\n",
        "def text_clean(data):\n",
        "    stop_words = set(stopwords.words('english'))\n",
        "    lemmatizer = WordNetLemmatizer()\n",
        "    additional_stopwords = {'amazon'}\n",
        "    stop_words = stop_words - {'not', 'no'}\n",
        "    stop_words = stop_words.union(additional_stopwords)\n",
        "\n",
        "    cleaned_texts = []\n",
        "\n",
        "    for text in data:\n",
        "        text = preprocess(text)\n",
        "        tokens = word_tokenize(text)\n",
        "        tokens = [word for word in tokens if word not in stop_words]\n",
        "\n",
        "        con_words = ['buy', 'sell', 'bought', 'sold', 'ive', 'would', 'get', 'got', 'dont', 'one', 'using','use']\n",
        "        tokens = [word for word in tokens if word not in con_words]\n",
        "\n",
        "        # Obter as tags das palavras\n",
        "        pos_tags = nltk.pos_tag(tokens)\n",
        "\n",
        "        # Aplicação da lematização usando a tag correta\n",
        "        lemmatized_tokens = [\n",
        "            lemmatizer.lemmatize(word, get_wordnet_pos(pos)) for word, pos in pos_tags\n",
        "        ]\n",
        "\n",
        "        cleaned_text = ' '.join(lemmatized_tokens)\n",
        "        cleaned_texts.append(cleaned_text)\n",
        "\n",
        "    return cleaned_texts\n",
        "\n",
        "# Limpeza dos textos\n",
        "cleaned_reviews = text_clean(train_X['reviewText'])\n",
        "\n",
        "# Usar CountVectorizer para contar as palavras nos textos limpos\n",
        "vectorizer = CountVectorizer()\n",
        "X = vectorizer.fit_transform(cleaned_reviews)\n",
        "\n",
        "# Criação de um DataFrame para armazenar contagens e TF\n",
        "unique_tokens = vectorizer.get_feature_names_out()\n",
        "tf_df = pd.DataFrame(data=np.zeros((2, len(unique_tokens))), columns=unique_tokens, index=[\"N\", \"TF\"])\n",
        "\n",
        "# Conta a frequência de cada token\n",
        "tf_df.loc[\"N\"] = X.sum(axis=0).A1  # Somar as contagens diretamente\n",
        "\n",
        "# Calcula TF (Term Frequency)\n",
        "total_tokens = tf_df.loc[\"N\"].sum()  # Total de todas as contagens\n",
        "tf_df.loc[\"TF\"] = tf_df.loc[\"N\"] / total_tokens if total_tokens > 0 else 0\n",
        "\n",
        "# Exibir o DataFrame com as contagens e TF\n",
        "print(\"\\nDataFrame de N e TF:\")\n",
        "print(tf_df)\n",
        "\n",
        "# Calcular IDF\n",
        "total_documents = X.shape[0]  # Total de documentos\n",
        "idf_values = np.log10(total_documents / (X > 0).sum(axis=0))\n",
        "\n",
        "# Criação de um DataFrame para armazenar IDF\n",
        "idf_df = pd.DataFrame(idf_values.T, index=unique_tokens, columns=['IDF'])\n",
        "\n",
        "# Criação de um DataFrame para armazenar o TF-IDF\n",
        "tf_idf_df = pd.DataFrame(index=unique_tokens, columns=['TF-IDF'])\n",
        "\n",
        "# Calcular o TF-IDF\n",
        "for token in unique_tokens:\n",
        "    tf_idf_df.at[token, 'TF-IDF'] = tf_df.at[\"TF\", token] * idf_df.at[token, 'IDF']\n",
        "\n",
        "# Exibição do DataFrame de IDF\n",
        "print(\"\\nDataFrame de IDF:\")\n",
        "print(idf_df)\n",
        "\n",
        "# Exibição do DataFrame com os resultados de TF-IDF\n",
        "print(\"\\nDataFrame de TF-IDF:\")\n",
        "print(tf_idf_df)"
      ],
      "metadata": {
        "colab": {
          "base_uri": "https://localhost:8080/"
        },
        "id": "zoCaHTz-PrsT",
        "outputId": "9fdec1f4-c0c4-4a2f-f1c1-db7c34111eaf"
      },
      "execution_count": null,
      "outputs": [
        {
          "output_type": "stream",
          "name": "stdout",
          "text": [
            "\n",
            "DataFrame de N e TF:\n",
            "         aac       aas       aba   abdroid    ability        able  aboutgood  \\\n",
            "N   1.000000  1.000000  1.000000  1.000000  21.000000  198.000000   1.000000   \n",
            "TF  0.000008  0.000008  0.000008  0.000008   0.000175    0.001652   0.000008   \n",
            "\n",
            "      abouti  abouttherehere   aboutto  ...       zip     zippy        zl  \\\n",
            "N   1.000000        1.000000  1.000000  ...  9.000000  1.000000  1.000000   \n",
            "TF  0.000008        0.000008  0.000008  ...  0.000075  0.000008  0.000008   \n",
            "\n",
            "        zone      zoom       zte     ztpad      zumo      zune    zunehd  \n",
            "N   7.000000  2.000000  2.000000  1.000000  1.000000  2.000000  1.000000  \n",
            "TF  0.000058  0.000017  0.000017  0.000008  0.000008  0.000017  0.000008  \n",
            "\n",
            "[2 rows x 8399 columns]\n",
            "\n",
            "DataFrame de IDF:\n",
            "              IDF\n",
            "aac      3.691435\n",
            "aas      3.691435\n",
            "aba      3.691435\n",
            "abdroid  3.691435\n",
            "ability  2.369216\n",
            "...           ...\n",
            "zte      3.390405\n",
            "ztpad    3.691435\n",
            "zumo     3.691435\n",
            "zune     3.390405\n",
            "zunehd   3.691435\n",
            "\n",
            "[8399 rows x 1 columns]\n",
            "\n",
            "DataFrame de TF-IDF:\n",
            "           TF-IDF\n",
            "aac      0.000031\n",
            "aas      0.000031\n",
            "aba      0.000031\n",
            "abdroid  0.000031\n",
            "ability  0.000415\n",
            "...           ...\n",
            "zte      0.000057\n",
            "ztpad    0.000031\n",
            "zumo     0.000031\n",
            "zune     0.000057\n",
            "zunehd   0.000031\n",
            "\n",
            "[8399 rows x 1 columns]\n"
          ]
        }
      ]
    },
    {
      "cell_type": "code",
      "source": [
        "# 5o maiores termos com base nos Termos de Frequência (Lematização)\n",
        "top_terms3 = tf_df.loc[\"TF\"].nlargest(50)\n",
        "\n",
        "# Exibir os 5 maiores termos e suas contagens\n",
        "print(\"Os 50 maiores termos, pós Lematização, e suas contagens:\")\n",
        "print(top_terms3)"
      ],
      "metadata": {
        "colab": {
          "base_uri": "https://localhost:8080/"
        },
        "id": "1EkcWu7fQ-cG",
        "outputId": "37cc8085-d70a-4729-f043-4b3b83e973f3"
      },
      "execution_count": null,
      "outputs": [
        {
          "output_type": "stream",
          "name": "stdout",
          "text": [
            "Os 50 maiores termos, pós Lematização, e suas contagens:\n",
            "card         0.046206\n",
            "work         0.022924\n",
            "phone        0.015922\n",
            "gb           0.014529\n",
            "not          0.012609\n",
            "great        0.012167\n",
            "memory       0.011499\n",
            "sandisk      0.010732\n",
            "no           0.010523\n",
            "sd           0.010072\n",
            "galaxy       0.008545\n",
            "fast         0.008228\n",
            "good         0.007853\n",
            "price        0.007836\n",
            "speed        0.007711\n",
            "problem      0.007077\n",
            "samsung      0.006910\n",
            "well         0.006442\n",
            "storage      0.006309\n",
            "tablet       0.006000\n",
            "need         0.005858\n",
            "product      0.005766\n",
            "class        0.005249\n",
            "format       0.005199\n",
            "go           0.005174\n",
            "camera       0.005149\n",
            "issue        0.005124\n",
            "music        0.005040\n",
            "device       0.004873\n",
            "video        0.004873\n",
            "say          0.004865\n",
            "like         0.004540\n",
            "file         0.004515\n",
            "micro        0.004406\n",
            "adapter      0.004373\n",
            "transfer     0.004339\n",
            "note         0.004331\n",
            "purchase     0.004306\n",
            "time         0.004298\n",
            "read         0.004206\n",
            "take         0.004189\n",
            "recommend    0.004081\n",
            "come         0.004072\n",
            "write        0.003930\n",
            "space        0.003830\n",
            "use          0.003688\n",
            "new          0.003630\n",
            "picture      0.003480\n",
            "much         0.003363\n",
            "data         0.003338\n",
            "Name: TF, dtype: float64\n"
          ]
        }
      ]
    },
    {
      "cell_type": "markdown",
      "source": [
        "**Stemming e Lemanization nas palavras com maior Termo de Frequência**\n",
        "\n",
        "\n",
        "\n"
      ],
      "metadata": {
        "id": "R2yJ2d2qWmk1"
      }
    },
    {
      "cell_type": "code",
      "source": [
        "#Aplicação do Stemming e Lemanization nas 50 palavras com maior Termo de Frequência -TF\n",
        "\n",
        "# Lista de palavras\n",
        "palavras_frequentes = [\n",
        "    \"card\", \"gb\", \"phone\", \"works\", \"not\", \"great\", \"memory\",\n",
        "    \"sandisk\", \"no\", \"sd\", \"use\", \"galaxy\", \"cards\", \"fast\",\n",
        "    \"good\", \"price\", \"samsung\", \"storage\", \"well\", \"speed\",\n",
        "    \"tablet\", \"class\", \"music\", \"product\", \"micro\", \"camera\",\n",
        "    \"like\", \"note\", \"adapter\", \"work\", \"problems\", \"worked\",\n",
        "    \"space\", \"issues\", \"used\", \"video\", \"new\", \"time\", \"files\",\n",
        "    \"much\", \"data\", \"need\", \"recommend\", \"microsd\", \"problem\",\n",
        "    \"read\", \"far\", \"fine\", \"pictures\", \"format\"\n",
        "]\n",
        "\n",
        "# Inicializando o stemmer e lemmatizer\n",
        "stemmer = PorterStemmer()\n",
        "lemmatizer = WordNetLemmatizer()\n",
        "\n",
        "# Aplicando Stemming\n",
        "palavras_stemming = [stemmer.stem(palavra) for palavra in palavras_frequentes]\n",
        "\n",
        "# Aplicando Lematização\n",
        "palavras_lemmatizacao = [lemmatizer.lemmatize(palavra) for palavra in palavras_stemming]\n",
        "\n",
        "# Resultados\n",
        "print(\"Palavras Frequentes:\")\n",
        "print(palavras_frequentes )\n",
        "print(\"\\nPalavras após Stemming:\")\n",
        "print(palavras_stemming)\n",
        "print(\"\\nPalavras após Lematização:\")\n",
        "print(palavras_lemmatizacao)"
      ],
      "metadata": {
        "colab": {
          "base_uri": "https://localhost:8080/"
        },
        "id": "nWP51PLQD5uq",
        "outputId": "c046e4a5-c7aa-49f3-a2b0-0945c84366d2"
      },
      "execution_count": null,
      "outputs": [
        {
          "output_type": "stream",
          "name": "stdout",
          "text": [
            "Palavras Frequentes:\n",
            "['card', 'gb', 'phone', 'works', 'not', 'great', 'memory', 'sandisk', 'no', 'sd', 'use', 'galaxy', 'cards', 'fast', 'good', 'price', 'samsung', 'storage', 'well', 'speed', 'tablet', 'class', 'music', 'product', 'micro', 'camera', 'like', 'note', 'adapter', 'work', 'problems', 'worked', 'space', 'issues', 'used', 'video', 'new', 'time', 'files', 'much', 'data', 'need', 'recommend', 'microsd', 'problem', 'read', 'far', 'fine', 'pictures', 'format']\n",
            "\n",
            "Palavras após Stemming:\n",
            "['card', 'gb', 'phone', 'work', 'not', 'great', 'memori', 'sandisk', 'no', 'sd', 'use', 'galaxi', 'card', 'fast', 'good', 'price', 'samsung', 'storag', 'well', 'speed', 'tablet', 'class', 'music', 'product', 'micro', 'camera', 'like', 'note', 'adapt', 'work', 'problem', 'work', 'space', 'issu', 'use', 'video', 'new', 'time', 'file', 'much', 'data', 'need', 'recommend', 'microsd', 'problem', 'read', 'far', 'fine', 'pictur', 'format']\n",
            "\n",
            "Palavras após Lematização:\n",
            "['card', 'gb', 'phone', 'work', 'not', 'great', 'memori', 'sandisk', 'no', 'sd', 'use', 'galaxi', 'card', 'fast', 'good', 'price', 'samsung', 'storag', 'well', 'speed', 'tablet', 'class', 'music', 'product', 'micro', 'camera', 'like', 'note', 'adapt', 'work', 'problem', 'work', 'space', 'issu', 'use', 'video', 'new', 'time', 'file', 'much', 'data', 'need', 'recommend', 'microsd', 'problem', 'read', 'far', 'fine', 'pictur', 'format']\n"
          ]
        }
      ]
    },
    {
      "cell_type": "markdown",
      "source": [
        "**CONCLUSÃO:**\n",
        "\n",
        "A maioria das palavras desse dataframe são substantivos e adjetivos sem flexões, logo não ocorreram grandes mudanças de posicionamento após a lematização ou stemming. Um exemplo disso pode ser observado acima, através da amostra dos 50 termos com maior TF."
      ],
      "metadata": {
        "id": "rXBPinxGFEGQ"
      }
    },
    {
      "cell_type": "markdown",
      "source": [
        "# **5. Classificação - K Nearest Neighbors**"
      ],
      "metadata": {
        "id": "wPlJEu3Qwzgv"
      }
    },
    {
      "cell_type": "markdown",
      "source": [
        "# **Divisão treino-teste**"
      ],
      "metadata": {
        "id": "UTgzu-MyG5bL"
      }
    },
    {
      "cell_type": "code",
      "source": [
        "from sklearn.feature_extraction.text import TfidfVectorizer\n",
        "from sklearn.model_selection import train_test_split\n",
        "from sklearn.neighbors import KNeighborsClassifier\n",
        "\n",
        "# Supondo que 'data' seja o DataFrame com as colunas 'review_limpo' e 'overall'\n",
        "X = data['review_limpo']  # Textos limpos\n",
        "y = data['overall']        # Rótulos\n",
        "\n",
        "# Transformar textos em valores numéricos\n",
        "vectorizer = TfidfVectorizer()\n",
        "X_transformed = vectorizer.fit_transform(X)\n",
        "\n",
        "# Dividir os dados em conjuntos de treinamento e teste\n",
        "X_train, X_test, y_train, y_test = train_test_split(X_transformed, y, test_size=0.25, random_state=42)\n",
        "\n"
      ],
      "metadata": {
        "id": "toClweOuVSeq"
      },
      "execution_count": null,
      "outputs": []
    },
    {
      "cell_type": "markdown",
      "source": [
        "**Dados de treino**\n",
        "\n",
        "**Features**"
      ],
      "metadata": {
        "id": "ut8H_eAiRPP6"
      }
    },
    {
      "cell_type": "code",
      "source": [
        "X_train"
      ],
      "metadata": {
        "colab": {
          "base_uri": "https://localhost:8080/"
        },
        "id": "x1iaLheRROYB",
        "outputId": "c37ec7bf-bd49-481b-aef4-26d88ceb7249"
      },
      "execution_count": null,
      "outputs": [
        {
          "output_type": "execute_result",
          "data": {
            "text/plain": [
              "<3685x9663 sparse matrix of type '<class 'numpy.float64'>'\n",
              "\twith 79255 stored elements in Compressed Sparse Row format>"
            ]
          },
          "metadata": {},
          "execution_count": 377
        }
      ]
    },
    {
      "cell_type": "markdown",
      "source": [
        "**Target**"
      ],
      "metadata": {
        "id": "k7NXr8GEReST"
      }
    },
    {
      "cell_type": "code",
      "source": [
        "y_train"
      ],
      "metadata": {
        "colab": {
          "base_uri": "https://localhost:8080/",
          "height": 458
        },
        "id": "FTLyMBztRdiv",
        "outputId": "c21495a8-6515-4a25-f39f-c4c4d2f0425d"
      },
      "execution_count": null,
      "outputs": [
        {
          "output_type": "execute_result",
          "data": {
            "text/plain": [
              "3319    5.0\n",
              "2819    5.0\n",
              "1813    1.0\n",
              "1478    5.0\n",
              "2630    5.0\n",
              "       ... \n",
              "4427    5.0\n",
              "467     5.0\n",
              "3093    5.0\n",
              "3773    5.0\n",
              "861     4.0\n",
              "Name: overall, Length: 3685, dtype: float64"
            ],
            "text/html": [
              "<div>\n",
              "<style scoped>\n",
              "    .dataframe tbody tr th:only-of-type {\n",
              "        vertical-align: middle;\n",
              "    }\n",
              "\n",
              "    .dataframe tbody tr th {\n",
              "        vertical-align: top;\n",
              "    }\n",
              "\n",
              "    .dataframe thead th {\n",
              "        text-align: right;\n",
              "    }\n",
              "</style>\n",
              "<table border=\"1\" class=\"dataframe\">\n",
              "  <thead>\n",
              "    <tr style=\"text-align: right;\">\n",
              "      <th></th>\n",
              "      <th>overall</th>\n",
              "    </tr>\n",
              "  </thead>\n",
              "  <tbody>\n",
              "    <tr>\n",
              "      <th>3319</th>\n",
              "      <td>5.0</td>\n",
              "    </tr>\n",
              "    <tr>\n",
              "      <th>2819</th>\n",
              "      <td>5.0</td>\n",
              "    </tr>\n",
              "    <tr>\n",
              "      <th>1813</th>\n",
              "      <td>1.0</td>\n",
              "    </tr>\n",
              "    <tr>\n",
              "      <th>1478</th>\n",
              "      <td>5.0</td>\n",
              "    </tr>\n",
              "    <tr>\n",
              "      <th>2630</th>\n",
              "      <td>5.0</td>\n",
              "    </tr>\n",
              "    <tr>\n",
              "      <th>...</th>\n",
              "      <td>...</td>\n",
              "    </tr>\n",
              "    <tr>\n",
              "      <th>4427</th>\n",
              "      <td>5.0</td>\n",
              "    </tr>\n",
              "    <tr>\n",
              "      <th>467</th>\n",
              "      <td>5.0</td>\n",
              "    </tr>\n",
              "    <tr>\n",
              "      <th>3093</th>\n",
              "      <td>5.0</td>\n",
              "    </tr>\n",
              "    <tr>\n",
              "      <th>3773</th>\n",
              "      <td>5.0</td>\n",
              "    </tr>\n",
              "    <tr>\n",
              "      <th>861</th>\n",
              "      <td>4.0</td>\n",
              "    </tr>\n",
              "  </tbody>\n",
              "</table>\n",
              "<p>3685 rows × 1 columns</p>\n",
              "</div><br><label><b>dtype:</b> float64</label>"
            ]
          },
          "metadata": {},
          "execution_count": 378
        }
      ]
    },
    {
      "cell_type": "markdown",
      "source": [
        "**Dados de teste**\n",
        "\n",
        "**Features**"
      ],
      "metadata": {
        "id": "eEmkmJfkccr0"
      }
    },
    {
      "cell_type": "code",
      "source": [
        "X_test"
      ],
      "metadata": {
        "id": "O3X0xU6z5yUX",
        "colab": {
          "base_uri": "https://localhost:8080/"
        },
        "outputId": "d8de1b01-e2da-477a-9d2d-22f642711398"
      },
      "execution_count": null,
      "outputs": [
        {
          "output_type": "execute_result",
          "data": {
            "text/plain": [
              "<1229x9663 sparse matrix of type '<class 'numpy.float64'>'\n",
              "\twith 25977 stored elements in Compressed Sparse Row format>"
            ]
          },
          "metadata": {},
          "execution_count": 379
        }
      ]
    },
    {
      "cell_type": "markdown",
      "source": [
        "**Target**"
      ],
      "metadata": {
        "id": "QVdeuCxocxQR"
      }
    },
    {
      "cell_type": "code",
      "source": [
        "y_test"
      ],
      "metadata": {
        "id": "yegwaeaO5yUf",
        "colab": {
          "base_uri": "https://localhost:8080/",
          "height": 458
        },
        "outputId": "20970f8a-ccac-45cc-d2b0-6f43d9c306ad"
      },
      "execution_count": null,
      "outputs": [
        {
          "output_type": "execute_result",
          "data": {
            "text/plain": [
              "2347    5.0\n",
              "4344    1.0\n",
              "692     5.0\n",
              "3910    5.0\n",
              "2488    4.0\n",
              "       ... \n",
              "3823    5.0\n",
              "2568    5.0\n",
              "3843    4.0\n",
              "623     2.0\n",
              "4852    5.0\n",
              "Name: overall, Length: 1229, dtype: float64"
            ],
            "text/html": [
              "<div>\n",
              "<style scoped>\n",
              "    .dataframe tbody tr th:only-of-type {\n",
              "        vertical-align: middle;\n",
              "    }\n",
              "\n",
              "    .dataframe tbody tr th {\n",
              "        vertical-align: top;\n",
              "    }\n",
              "\n",
              "    .dataframe thead th {\n",
              "        text-align: right;\n",
              "    }\n",
              "</style>\n",
              "<table border=\"1\" class=\"dataframe\">\n",
              "  <thead>\n",
              "    <tr style=\"text-align: right;\">\n",
              "      <th></th>\n",
              "      <th>overall</th>\n",
              "    </tr>\n",
              "  </thead>\n",
              "  <tbody>\n",
              "    <tr>\n",
              "      <th>2347</th>\n",
              "      <td>5.0</td>\n",
              "    </tr>\n",
              "    <tr>\n",
              "      <th>4344</th>\n",
              "      <td>1.0</td>\n",
              "    </tr>\n",
              "    <tr>\n",
              "      <th>692</th>\n",
              "      <td>5.0</td>\n",
              "    </tr>\n",
              "    <tr>\n",
              "      <th>3910</th>\n",
              "      <td>5.0</td>\n",
              "    </tr>\n",
              "    <tr>\n",
              "      <th>2488</th>\n",
              "      <td>4.0</td>\n",
              "    </tr>\n",
              "    <tr>\n",
              "      <th>...</th>\n",
              "      <td>...</td>\n",
              "    </tr>\n",
              "    <tr>\n",
              "      <th>3823</th>\n",
              "      <td>5.0</td>\n",
              "    </tr>\n",
              "    <tr>\n",
              "      <th>2568</th>\n",
              "      <td>5.0</td>\n",
              "    </tr>\n",
              "    <tr>\n",
              "      <th>3843</th>\n",
              "      <td>4.0</td>\n",
              "    </tr>\n",
              "    <tr>\n",
              "      <th>623</th>\n",
              "      <td>2.0</td>\n",
              "    </tr>\n",
              "    <tr>\n",
              "      <th>4852</th>\n",
              "      <td>5.0</td>\n",
              "    </tr>\n",
              "  </tbody>\n",
              "</table>\n",
              "<p>1229 rows × 1 columns</p>\n",
              "</div><br><label><b>dtype:</b> float64</label>"
            ]
          },
          "metadata": {},
          "execution_count": 380
        }
      ]
    },
    {
      "cell_type": "markdown",
      "source": [
        "**KNN**"
      ],
      "metadata": {
        "id": "69QM6ddNjZwC"
      }
    },
    {
      "cell_type": "code",
      "source": [
        "from sklearn.neighbors import KNeighborsClassifier\n",
        "knn = KNeighborsClassifier(n_neighbors=1)"
      ],
      "metadata": {
        "id": "lsyMiLIEefnJ"
      },
      "execution_count": null,
      "outputs": []
    },
    {
      "cell_type": "code",
      "source": [
        "# Treinar o modelo KNN\n",
        "knn = KNeighborsClassifier()\n",
        "knn.fit(X_train, y_train)"
      ],
      "metadata": {
        "colab": {
          "base_uri": "https://localhost:8080/",
          "height": 80
        },
        "id": "0zl5MPYQSZ0o",
        "outputId": "ab626dcd-b16d-4007-a897-971215b0d8ff"
      },
      "execution_count": null,
      "outputs": [
        {
          "output_type": "execute_result",
          "data": {
            "text/plain": [
              "KNeighborsClassifier()"
            ],
            "text/html": [
              "<style>#sk-container-id-6 {\n",
              "  /* Definition of color scheme common for light and dark mode */\n",
              "  --sklearn-color-text: black;\n",
              "  --sklearn-color-line: gray;\n",
              "  /* Definition of color scheme for unfitted estimators */\n",
              "  --sklearn-color-unfitted-level-0: #fff5e6;\n",
              "  --sklearn-color-unfitted-level-1: #f6e4d2;\n",
              "  --sklearn-color-unfitted-level-2: #ffe0b3;\n",
              "  --sklearn-color-unfitted-level-3: chocolate;\n",
              "  /* Definition of color scheme for fitted estimators */\n",
              "  --sklearn-color-fitted-level-0: #f0f8ff;\n",
              "  --sklearn-color-fitted-level-1: #d4ebff;\n",
              "  --sklearn-color-fitted-level-2: #b3dbfd;\n",
              "  --sklearn-color-fitted-level-3: cornflowerblue;\n",
              "\n",
              "  /* Specific color for light theme */\n",
              "  --sklearn-color-text-on-default-background: var(--sg-text-color, var(--theme-code-foreground, var(--jp-content-font-color1, black)));\n",
              "  --sklearn-color-background: var(--sg-background-color, var(--theme-background, var(--jp-layout-color0, white)));\n",
              "  --sklearn-color-border-box: var(--sg-text-color, var(--theme-code-foreground, var(--jp-content-font-color1, black)));\n",
              "  --sklearn-color-icon: #696969;\n",
              "\n",
              "  @media (prefers-color-scheme: dark) {\n",
              "    /* Redefinition of color scheme for dark theme */\n",
              "    --sklearn-color-text-on-default-background: var(--sg-text-color, var(--theme-code-foreground, var(--jp-content-font-color1, white)));\n",
              "    --sklearn-color-background: var(--sg-background-color, var(--theme-background, var(--jp-layout-color0, #111)));\n",
              "    --sklearn-color-border-box: var(--sg-text-color, var(--theme-code-foreground, var(--jp-content-font-color1, white)));\n",
              "    --sklearn-color-icon: #878787;\n",
              "  }\n",
              "}\n",
              "\n",
              "#sk-container-id-6 {\n",
              "  color: var(--sklearn-color-text);\n",
              "}\n",
              "\n",
              "#sk-container-id-6 pre {\n",
              "  padding: 0;\n",
              "}\n",
              "\n",
              "#sk-container-id-6 input.sk-hidden--visually {\n",
              "  border: 0;\n",
              "  clip: rect(1px 1px 1px 1px);\n",
              "  clip: rect(1px, 1px, 1px, 1px);\n",
              "  height: 1px;\n",
              "  margin: -1px;\n",
              "  overflow: hidden;\n",
              "  padding: 0;\n",
              "  position: absolute;\n",
              "  width: 1px;\n",
              "}\n",
              "\n",
              "#sk-container-id-6 div.sk-dashed-wrapped {\n",
              "  border: 1px dashed var(--sklearn-color-line);\n",
              "  margin: 0 0.4em 0.5em 0.4em;\n",
              "  box-sizing: border-box;\n",
              "  padding-bottom: 0.4em;\n",
              "  background-color: var(--sklearn-color-background);\n",
              "}\n",
              "\n",
              "#sk-container-id-6 div.sk-container {\n",
              "  /* jupyter's `normalize.less` sets `[hidden] { display: none; }`\n",
              "     but bootstrap.min.css set `[hidden] { display: none !important; }`\n",
              "     so we also need the `!important` here to be able to override the\n",
              "     default hidden behavior on the sphinx rendered scikit-learn.org.\n",
              "     See: https://github.com/scikit-learn/scikit-learn/issues/21755 */\n",
              "  display: inline-block !important;\n",
              "  position: relative;\n",
              "}\n",
              "\n",
              "#sk-container-id-6 div.sk-text-repr-fallback {\n",
              "  display: none;\n",
              "}\n",
              "\n",
              "div.sk-parallel-item,\n",
              "div.sk-serial,\n",
              "div.sk-item {\n",
              "  /* draw centered vertical line to link estimators */\n",
              "  background-image: linear-gradient(var(--sklearn-color-text-on-default-background), var(--sklearn-color-text-on-default-background));\n",
              "  background-size: 2px 100%;\n",
              "  background-repeat: no-repeat;\n",
              "  background-position: center center;\n",
              "}\n",
              "\n",
              "/* Parallel-specific style estimator block */\n",
              "\n",
              "#sk-container-id-6 div.sk-parallel-item::after {\n",
              "  content: \"\";\n",
              "  width: 100%;\n",
              "  border-bottom: 2px solid var(--sklearn-color-text-on-default-background);\n",
              "  flex-grow: 1;\n",
              "}\n",
              "\n",
              "#sk-container-id-6 div.sk-parallel {\n",
              "  display: flex;\n",
              "  align-items: stretch;\n",
              "  justify-content: center;\n",
              "  background-color: var(--sklearn-color-background);\n",
              "  position: relative;\n",
              "}\n",
              "\n",
              "#sk-container-id-6 div.sk-parallel-item {\n",
              "  display: flex;\n",
              "  flex-direction: column;\n",
              "}\n",
              "\n",
              "#sk-container-id-6 div.sk-parallel-item:first-child::after {\n",
              "  align-self: flex-end;\n",
              "  width: 50%;\n",
              "}\n",
              "\n",
              "#sk-container-id-6 div.sk-parallel-item:last-child::after {\n",
              "  align-self: flex-start;\n",
              "  width: 50%;\n",
              "}\n",
              "\n",
              "#sk-container-id-6 div.sk-parallel-item:only-child::after {\n",
              "  width: 0;\n",
              "}\n",
              "\n",
              "/* Serial-specific style estimator block */\n",
              "\n",
              "#sk-container-id-6 div.sk-serial {\n",
              "  display: flex;\n",
              "  flex-direction: column;\n",
              "  align-items: center;\n",
              "  background-color: var(--sklearn-color-background);\n",
              "  padding-right: 1em;\n",
              "  padding-left: 1em;\n",
              "}\n",
              "\n",
              "\n",
              "/* Toggleable style: style used for estimator/Pipeline/ColumnTransformer box that is\n",
              "clickable and can be expanded/collapsed.\n",
              "- Pipeline and ColumnTransformer use this feature and define the default style\n",
              "- Estimators will overwrite some part of the style using the `sk-estimator` class\n",
              "*/\n",
              "\n",
              "/* Pipeline and ColumnTransformer style (default) */\n",
              "\n",
              "#sk-container-id-6 div.sk-toggleable {\n",
              "  /* Default theme specific background. It is overwritten whether we have a\n",
              "  specific estimator or a Pipeline/ColumnTransformer */\n",
              "  background-color: var(--sklearn-color-background);\n",
              "}\n",
              "\n",
              "/* Toggleable label */\n",
              "#sk-container-id-6 label.sk-toggleable__label {\n",
              "  cursor: pointer;\n",
              "  display: block;\n",
              "  width: 100%;\n",
              "  margin-bottom: 0;\n",
              "  padding: 0.5em;\n",
              "  box-sizing: border-box;\n",
              "  text-align: center;\n",
              "}\n",
              "\n",
              "#sk-container-id-6 label.sk-toggleable__label-arrow:before {\n",
              "  /* Arrow on the left of the label */\n",
              "  content: \"▸\";\n",
              "  float: left;\n",
              "  margin-right: 0.25em;\n",
              "  color: var(--sklearn-color-icon);\n",
              "}\n",
              "\n",
              "#sk-container-id-6 label.sk-toggleable__label-arrow:hover:before {\n",
              "  color: var(--sklearn-color-text);\n",
              "}\n",
              "\n",
              "/* Toggleable content - dropdown */\n",
              "\n",
              "#sk-container-id-6 div.sk-toggleable__content {\n",
              "  max-height: 0;\n",
              "  max-width: 0;\n",
              "  overflow: hidden;\n",
              "  text-align: left;\n",
              "  /* unfitted */\n",
              "  background-color: var(--sklearn-color-unfitted-level-0);\n",
              "}\n",
              "\n",
              "#sk-container-id-6 div.sk-toggleable__content.fitted {\n",
              "  /* fitted */\n",
              "  background-color: var(--sklearn-color-fitted-level-0);\n",
              "}\n",
              "\n",
              "#sk-container-id-6 div.sk-toggleable__content pre {\n",
              "  margin: 0.2em;\n",
              "  border-radius: 0.25em;\n",
              "  color: var(--sklearn-color-text);\n",
              "  /* unfitted */\n",
              "  background-color: var(--sklearn-color-unfitted-level-0);\n",
              "}\n",
              "\n",
              "#sk-container-id-6 div.sk-toggleable__content.fitted pre {\n",
              "  /* unfitted */\n",
              "  background-color: var(--sklearn-color-fitted-level-0);\n",
              "}\n",
              "\n",
              "#sk-container-id-6 input.sk-toggleable__control:checked~div.sk-toggleable__content {\n",
              "  /* Expand drop-down */\n",
              "  max-height: 200px;\n",
              "  max-width: 100%;\n",
              "  overflow: auto;\n",
              "}\n",
              "\n",
              "#sk-container-id-6 input.sk-toggleable__control:checked~label.sk-toggleable__label-arrow:before {\n",
              "  content: \"▾\";\n",
              "}\n",
              "\n",
              "/* Pipeline/ColumnTransformer-specific style */\n",
              "\n",
              "#sk-container-id-6 div.sk-label input.sk-toggleable__control:checked~label.sk-toggleable__label {\n",
              "  color: var(--sklearn-color-text);\n",
              "  background-color: var(--sklearn-color-unfitted-level-2);\n",
              "}\n",
              "\n",
              "#sk-container-id-6 div.sk-label.fitted input.sk-toggleable__control:checked~label.sk-toggleable__label {\n",
              "  background-color: var(--sklearn-color-fitted-level-2);\n",
              "}\n",
              "\n",
              "/* Estimator-specific style */\n",
              "\n",
              "/* Colorize estimator box */\n",
              "#sk-container-id-6 div.sk-estimator input.sk-toggleable__control:checked~label.sk-toggleable__label {\n",
              "  /* unfitted */\n",
              "  background-color: var(--sklearn-color-unfitted-level-2);\n",
              "}\n",
              "\n",
              "#sk-container-id-6 div.sk-estimator.fitted input.sk-toggleable__control:checked~label.sk-toggleable__label {\n",
              "  /* fitted */\n",
              "  background-color: var(--sklearn-color-fitted-level-2);\n",
              "}\n",
              "\n",
              "#sk-container-id-6 div.sk-label label.sk-toggleable__label,\n",
              "#sk-container-id-6 div.sk-label label {\n",
              "  /* The background is the default theme color */\n",
              "  color: var(--sklearn-color-text-on-default-background);\n",
              "}\n",
              "\n",
              "/* On hover, darken the color of the background */\n",
              "#sk-container-id-6 div.sk-label:hover label.sk-toggleable__label {\n",
              "  color: var(--sklearn-color-text);\n",
              "  background-color: var(--sklearn-color-unfitted-level-2);\n",
              "}\n",
              "\n",
              "/* Label box, darken color on hover, fitted */\n",
              "#sk-container-id-6 div.sk-label.fitted:hover label.sk-toggleable__label.fitted {\n",
              "  color: var(--sklearn-color-text);\n",
              "  background-color: var(--sklearn-color-fitted-level-2);\n",
              "}\n",
              "\n",
              "/* Estimator label */\n",
              "\n",
              "#sk-container-id-6 div.sk-label label {\n",
              "  font-family: monospace;\n",
              "  font-weight: bold;\n",
              "  display: inline-block;\n",
              "  line-height: 1.2em;\n",
              "}\n",
              "\n",
              "#sk-container-id-6 div.sk-label-container {\n",
              "  text-align: center;\n",
              "}\n",
              "\n",
              "/* Estimator-specific */\n",
              "#sk-container-id-6 div.sk-estimator {\n",
              "  font-family: monospace;\n",
              "  border: 1px dotted var(--sklearn-color-border-box);\n",
              "  border-radius: 0.25em;\n",
              "  box-sizing: border-box;\n",
              "  margin-bottom: 0.5em;\n",
              "  /* unfitted */\n",
              "  background-color: var(--sklearn-color-unfitted-level-0);\n",
              "}\n",
              "\n",
              "#sk-container-id-6 div.sk-estimator.fitted {\n",
              "  /* fitted */\n",
              "  background-color: var(--sklearn-color-fitted-level-0);\n",
              "}\n",
              "\n",
              "/* on hover */\n",
              "#sk-container-id-6 div.sk-estimator:hover {\n",
              "  /* unfitted */\n",
              "  background-color: var(--sklearn-color-unfitted-level-2);\n",
              "}\n",
              "\n",
              "#sk-container-id-6 div.sk-estimator.fitted:hover {\n",
              "  /* fitted */\n",
              "  background-color: var(--sklearn-color-fitted-level-2);\n",
              "}\n",
              "\n",
              "/* Specification for estimator info (e.g. \"i\" and \"?\") */\n",
              "\n",
              "/* Common style for \"i\" and \"?\" */\n",
              "\n",
              ".sk-estimator-doc-link,\n",
              "a:link.sk-estimator-doc-link,\n",
              "a:visited.sk-estimator-doc-link {\n",
              "  float: right;\n",
              "  font-size: smaller;\n",
              "  line-height: 1em;\n",
              "  font-family: monospace;\n",
              "  background-color: var(--sklearn-color-background);\n",
              "  border-radius: 1em;\n",
              "  height: 1em;\n",
              "  width: 1em;\n",
              "  text-decoration: none !important;\n",
              "  margin-left: 1ex;\n",
              "  /* unfitted */\n",
              "  border: var(--sklearn-color-unfitted-level-1) 1pt solid;\n",
              "  color: var(--sklearn-color-unfitted-level-1);\n",
              "}\n",
              "\n",
              ".sk-estimator-doc-link.fitted,\n",
              "a:link.sk-estimator-doc-link.fitted,\n",
              "a:visited.sk-estimator-doc-link.fitted {\n",
              "  /* fitted */\n",
              "  border: var(--sklearn-color-fitted-level-1) 1pt solid;\n",
              "  color: var(--sklearn-color-fitted-level-1);\n",
              "}\n",
              "\n",
              "/* On hover */\n",
              "div.sk-estimator:hover .sk-estimator-doc-link:hover,\n",
              ".sk-estimator-doc-link:hover,\n",
              "div.sk-label-container:hover .sk-estimator-doc-link:hover,\n",
              ".sk-estimator-doc-link:hover {\n",
              "  /* unfitted */\n",
              "  background-color: var(--sklearn-color-unfitted-level-3);\n",
              "  color: var(--sklearn-color-background);\n",
              "  text-decoration: none;\n",
              "}\n",
              "\n",
              "div.sk-estimator.fitted:hover .sk-estimator-doc-link.fitted:hover,\n",
              ".sk-estimator-doc-link.fitted:hover,\n",
              "div.sk-label-container:hover .sk-estimator-doc-link.fitted:hover,\n",
              ".sk-estimator-doc-link.fitted:hover {\n",
              "  /* fitted */\n",
              "  background-color: var(--sklearn-color-fitted-level-3);\n",
              "  color: var(--sklearn-color-background);\n",
              "  text-decoration: none;\n",
              "}\n",
              "\n",
              "/* Span, style for the box shown on hovering the info icon */\n",
              ".sk-estimator-doc-link span {\n",
              "  display: none;\n",
              "  z-index: 9999;\n",
              "  position: relative;\n",
              "  font-weight: normal;\n",
              "  right: .2ex;\n",
              "  padding: .5ex;\n",
              "  margin: .5ex;\n",
              "  width: min-content;\n",
              "  min-width: 20ex;\n",
              "  max-width: 50ex;\n",
              "  color: var(--sklearn-color-text);\n",
              "  box-shadow: 2pt 2pt 4pt #999;\n",
              "  /* unfitted */\n",
              "  background: var(--sklearn-color-unfitted-level-0);\n",
              "  border: .5pt solid var(--sklearn-color-unfitted-level-3);\n",
              "}\n",
              "\n",
              ".sk-estimator-doc-link.fitted span {\n",
              "  /* fitted */\n",
              "  background: var(--sklearn-color-fitted-level-0);\n",
              "  border: var(--sklearn-color-fitted-level-3);\n",
              "}\n",
              "\n",
              ".sk-estimator-doc-link:hover span {\n",
              "  display: block;\n",
              "}\n",
              "\n",
              "/* \"?\"-specific style due to the `<a>` HTML tag */\n",
              "\n",
              "#sk-container-id-6 a.estimator_doc_link {\n",
              "  float: right;\n",
              "  font-size: 1rem;\n",
              "  line-height: 1em;\n",
              "  font-family: monospace;\n",
              "  background-color: var(--sklearn-color-background);\n",
              "  border-radius: 1rem;\n",
              "  height: 1rem;\n",
              "  width: 1rem;\n",
              "  text-decoration: none;\n",
              "  /* unfitted */\n",
              "  color: var(--sklearn-color-unfitted-level-1);\n",
              "  border: var(--sklearn-color-unfitted-level-1) 1pt solid;\n",
              "}\n",
              "\n",
              "#sk-container-id-6 a.estimator_doc_link.fitted {\n",
              "  /* fitted */\n",
              "  border: var(--sklearn-color-fitted-level-1) 1pt solid;\n",
              "  color: var(--sklearn-color-fitted-level-1);\n",
              "}\n",
              "\n",
              "/* On hover */\n",
              "#sk-container-id-6 a.estimator_doc_link:hover {\n",
              "  /* unfitted */\n",
              "  background-color: var(--sklearn-color-unfitted-level-3);\n",
              "  color: var(--sklearn-color-background);\n",
              "  text-decoration: none;\n",
              "}\n",
              "\n",
              "#sk-container-id-6 a.estimator_doc_link.fitted:hover {\n",
              "  /* fitted */\n",
              "  background-color: var(--sklearn-color-fitted-level-3);\n",
              "}\n",
              "</style><div id=\"sk-container-id-6\" class=\"sk-top-container\"><div class=\"sk-text-repr-fallback\"><pre>KNeighborsClassifier()</pre><b>In a Jupyter environment, please rerun this cell to show the HTML representation or trust the notebook. <br />On GitHub, the HTML representation is unable to render, please try loading this page with nbviewer.org.</b></div><div class=\"sk-container\" hidden><div class=\"sk-item\"><div class=\"sk-estimator fitted sk-toggleable\"><input class=\"sk-toggleable__control sk-hidden--visually\" id=\"sk-estimator-id-6\" type=\"checkbox\" checked><label for=\"sk-estimator-id-6\" class=\"sk-toggleable__label fitted sk-toggleable__label-arrow fitted\">&nbsp;&nbsp;KNeighborsClassifier<a class=\"sk-estimator-doc-link fitted\" rel=\"noreferrer\" target=\"_blank\" href=\"https://scikit-learn.org/1.5/modules/generated/sklearn.neighbors.KNeighborsClassifier.html\">?<span>Documentation for KNeighborsClassifier</span></a><span class=\"sk-estimator-doc-link fitted\">i<span>Fitted</span></span></label><div class=\"sk-toggleable__content fitted\"><pre>KNeighborsClassifier()</pre></div> </div></div></div></div>"
            ]
          },
          "metadata": {},
          "execution_count": 382
        }
      ]
    },
    {
      "cell_type": "markdown",
      "source": [
        "**Previsões e Avaliações**"
      ],
      "metadata": {
        "id": "kwkYWb6IW4O4"
      }
    },
    {
      "cell_type": "code",
      "source": [
        "y_pred = knn.predict(X_test)\n",
        "print(y_pred)"
      ],
      "metadata": {
        "colab": {
          "base_uri": "https://localhost:8080/"
        },
        "id": "UDrNDMSLW3zU",
        "outputId": "886650cf-28df-4e62-e6bf-76c7d6a2c25e"
      },
      "execution_count": null,
      "outputs": [
        {
          "output_type": "stream",
          "name": "stdout",
          "text": [
            "[4. 1. 5. ... 5. 1. 5.]\n"
          ]
        }
      ]
    },
    {
      "cell_type": "code",
      "source": [
        "accuracy = knn.score(X_test, y_test)\n",
        "print(f'Acurácia do modelo: {accuracy:.2f}')"
      ],
      "metadata": {
        "colab": {
          "base_uri": "https://localhost:8080/"
        },
        "id": "sIUuHMg6XLun",
        "outputId": "5ee0a8b8-772c-4518-fdf9-6b27e5621bb0"
      },
      "execution_count": null,
      "outputs": [
        {
          "output_type": "stream",
          "name": "stdout",
          "text": [
            "Acurácia do modelo: 0.79\n"
          ]
        }
      ]
    },
    {
      "cell_type": "markdown",
      "source": [
        "**Matriz de Confusão e Relatório de Classificação**"
      ],
      "metadata": {
        "id": "xzYeq2NEXTt0"
      }
    },
    {
      "cell_type": "code",
      "source": [
        "from sklearn.metrics import classification_report,confusion_matrix, ConfusionMatrixDisplay, accuracy_score"
      ],
      "metadata": {
        "id": "UkgdA2BCXUvk"
      },
      "execution_count": null,
      "outputs": []
    },
    {
      "cell_type": "code",
      "source": [
        "plt.figure(figsize = (16,12))\n",
        "cm = confusion_matrix(y_test, y_pred)\n",
        "cmd = ConfusionMatrixDisplay(cm, display_labels=y_test.unique())\n",
        "cmd.plot()\n",
        "plt.title(\"Matriz de confusão dos dados de teste vs inferência do modelo\")\n",
        "plt.show()"
      ],
      "metadata": {
        "colab": {
          "base_uri": "https://localhost:8080/",
          "height": 490
        },
        "id": "lYzWyWFBXegz",
        "outputId": "6962ec44-f70b-46dc-b34e-25d5359ab910"
      },
      "execution_count": null,
      "outputs": [
        {
          "output_type": "display_data",
          "data": {
            "text/plain": [
              "<Figure size 1600x1200 with 0 Axes>"
            ]
          },
          "metadata": {}
        },
        {
          "output_type": "display_data",
          "data": {
            "text/plain": [
              "<Figure size 640x480 with 2 Axes>"
            ],
            "image/png": "[encoded data removed]"
          },
          "metadata": {}
        }
      ]
    },
    {
      "cell_type": "markdown",
      "source": [
        "**Classification Report**\n",
        "\n",
        "**Dados de teste**"
      ],
      "metadata": {
        "id": "DTarZBIzYEAw"
      }
    },
    {
      "cell_type": "code",
      "source": [
        "report = classification_report(y_test, y_pred)\n",
        "print(report)"
      ],
      "metadata": {
        "colab": {
          "base_uri": "https://localhost:8080/"
        },
        "id": "gA3uscOXYLiG",
        "outputId": "59727f30-9aae-4d2f-978f-47144765f5c4"
      },
      "execution_count": null,
      "outputs": [
        {
          "output_type": "stream",
          "name": "stdout",
          "text": [
            "              precision    recall  f1-score   support\n",
            "\n",
            "         1.0       0.43      0.22      0.29        55\n",
            "         2.0       0.50      0.10      0.17        20\n",
            "         3.0       0.00      0.00      0.00        37\n",
            "         4.0       0.26      0.07      0.11       138\n",
            "         5.0       0.82      0.97      0.89       979\n",
            "\n",
            "    accuracy                           0.79      1229\n",
            "   macro avg       0.40      0.27      0.29      1229\n",
            "weighted avg       0.71      0.79      0.74      1229\n",
            "\n"
          ]
        }
      ]
    },
    {
      "cell_type": "markdown",
      "source": [
        "\n",
        "A acurácia geral é relativamente boa (79%), mas a avaliação por classe sugere que há um desbalanceamento no desempenho do modelo. A razão pode ser causada pela pequena quantidade de dados para treinamento nas classes 1, 2, 3 e 4.\n",
        "\n",
        "A classe 5.0 parece ser bem prevista (alta precisão, revocação e F1-Score), enquanto outras classes, especialmente 3.0, apresentam métricas muito baixas, indicando que o modelo pode ter dificuldade em identificá-las corretamente.\n"
      ],
      "metadata": {
        "id": "34p1FmlBb-xx"
      }
    },
    {
      "cell_type": "markdown",
      "source": [
        "**Score do modelo utilizando os dados de teste.**"
      ],
      "metadata": {
        "id": "iHS6khnDYtfd"
      }
    },
    {
      "cell_type": "code",
      "source": [
        "knn.score(X=X_test, y=y_test)"
      ],
      "metadata": {
        "colab": {
          "base_uri": "https://localhost:8080/"
        },
        "id": "yH8rr-1cYwu3",
        "outputId": "2dec6ed4-fe46-4776-883a-17319d53c469"
      },
      "execution_count": null,
      "outputs": [
        {
          "output_type": "execute_result",
          "data": {
            "text/plain": [
              "0.7925142392188771"
            ]
          },
          "metadata": {},
          "execution_count": 388
        }
      ]
    },
    {
      "cell_type": "markdown",
      "source": [
        "**Curva ROC**"
      ],
      "metadata": {
        "id": "Si0zGyIrfHdF"
      }
    },
    {
      "cell_type": "code",
      "source": [
        "from sklearn.preprocessing import LabelBinarizer\n",
        "from sklearn.metrics import roc_curve, auc\n",
        "from sklearn.metrics import RocCurveDisplay"
      ],
      "metadata": {
        "id": "6zu-jn68fXkV"
      },
      "execution_count": null,
      "outputs": []
    },
    {
      "cell_type": "code",
      "source": [
        "label_binarizer = LabelBinarizer().fit(df['overall'])"
      ],
      "metadata": {
        "id": "T_bQZ1Rsfeq-"
      },
      "execution_count": null,
      "outputs": []
    },
    {
      "cell_type": "code",
      "source": [
        "y_onehot_test = label_binarizer.transform(y_test)\n",
        "y_onehot_test.shape  # (n_samples, n_classes)"
      ],
      "metadata": {
        "colab": {
          "base_uri": "https://localhost:8080/"
        },
        "id": "QpuTbz5Afi1A",
        "outputId": "894215bb-e56f-4f7e-b828-710bd78d7218"
      },
      "execution_count": null,
      "outputs": [
        {
          "output_type": "execute_result",
          "data": {
            "text/plain": [
              "(1229, 5)"
            ]
          },
          "metadata": {},
          "execution_count": 391
        }
      ]
    },
    {
      "cell_type": "markdown",
      "source": [
        "Selecionando a qualidade de número 5 pois foi o maior valor obtido pelo modelo."
      ],
      "metadata": {
        "id": "o2uvd3jkfm6A"
      }
    },
    {
      "cell_type": "code",
      "source": [
        "class_of_interest = 5\n",
        "class_id = np.flatnonzero(label_binarizer.classes_ == class_of_interest)[0]\n",
        "class_id"
      ],
      "metadata": {
        "colab": {
          "base_uri": "https://localhost:8080/"
        },
        "id": "7AD_7mDQfqS2",
        "outputId": "e59951e5-57dc-4be1-a471-1bc32a16dd4a"
      },
      "execution_count": null,
      "outputs": [
        {
          "output_type": "execute_result",
          "data": {
            "text/plain": [
              "4"
            ]
          },
          "metadata": {},
          "execution_count": 392
        }
      ]
    },
    {
      "cell_type": "markdown",
      "source": [
        "**Calculando as probabilidades dos dados de teste para fazer o cálculo da curva ROC.**"
      ],
      "metadata": {
        "id": "S2eQlERhfu3a"
      }
    },
    {
      "cell_type": "code",
      "source": [
        "y_scores = knn.predict_proba(X_test)"
      ],
      "metadata": {
        "id": "7sBkZnPDf5dz"
      },
      "execution_count": null,
      "outputs": []
    },
    {
      "cell_type": "code",
      "source": [
        "def plot_curva_ROC_one_vs_rest(y_test, y_scores):\n",
        "\n",
        "  RocCurveDisplay.from_predictions(\n",
        "      y_onehot_test[:, class_id],\n",
        "      y_scores[:, class_id],\n",
        "      name=f\"{class_of_interest} vs as demais classes\",\n",
        "  )\n",
        "  plt.plot([0, 1], [0, 1], \"k--\", label=\"valor de threashold (AUC = 0.5)\")\n",
        "  plt.axis(\"square\")\n",
        "  plt.xlabel(\"Taxa de Falso Positivo\")\n",
        "  plt.ylabel(\"Taxa de Verdadeira Positivo\")\n",
        "  plt.title(\"One-vs-Resto curva ROC\")\n",
        "  plt.legend()\n",
        "  plt.show()"
      ],
      "metadata": {
        "id": "zhY1y7q0f8zR"
      },
      "execution_count": null,
      "outputs": []
    },
    {
      "cell_type": "code",
      "source": [
        "plot_curva_ROC_one_vs_rest(y_test, y_scores)"
      ],
      "metadata": {
        "colab": {
          "base_uri": "https://localhost:8080/",
          "height": 472
        },
        "id": "mrky6eYSgAB4",
        "outputId": "f30cb06d-5bd7-4509-fce3-d2a2d4c49a70"
      },
      "execution_count": null,
      "outputs": [
        {
          "output_type": "display_data",
          "data": {
            "text/plain": [
              "<Figure size 640x480 with 1 Axes>"
            ],
            "image/png": "[encoded data removed]"
          },
          "metadata": {}
        }
      ]
    },
    {
      "cell_type": "markdown",
      "source": [
        "**Escolhendo o valor K**"
      ],
      "metadata": {
        "id": "0o_CYubqgEN7"
      }
    },
    {
      "cell_type": "code",
      "source": [
        "from sklearn.neighbors import KNeighborsRegressor\n",
        "from math import sqrt\n",
        "from sklearn.metrics import mean_squared_error\n",
        "\n",
        "def train_modelo(X_train, X_test, y_train, k=1):\n",
        "  print(f\"Treinando o k-NN com k={k}\")\n",
        "\n",
        "  # Criação da instância do modelo KNN com n_neighbors=k\n",
        "  # knn = KNeighborsClassifier(n_neighbors=k)\n",
        "  knn = KNeighborsRegressor(n_neighbors=k)\n",
        "\n",
        "  # Ajuste do modelo aos dados de treinamento\n",
        "  knn.fit(X_train, y_train)\n",
        "\n",
        "  # Previsões nos dados de teste\n",
        "  pred_i = knn.predict(X_test)\n",
        "\n",
        "  return pred_i"
      ],
      "metadata": {
        "id": "Ouh17c3pgM4I"
      },
      "execution_count": null,
      "outputs": []
    },
    {
      "cell_type": "code",
      "source": [
        "error_rate = []\n",
        "\n",
        "for i in range(1,41):\n",
        "    pred_i = train_modelo(X_train, X_test, y_train, i)\n",
        "    #calculo e armazenamento dos valores de erro para cada modelo treinado\n",
        "    error = sqrt(mean_squared_error(y_test,pred_i))\n",
        "    error_rate.append(error)"
      ],
      "metadata": {
        "colab": {
          "base_uri": "https://localhost:8080/"
        },
        "id": "wFPTuvSTgR-j",
        "outputId": "bb26ee38-cae3-4f05-cc88-2ad67a1b2c5e"
      },
      "execution_count": null,
      "outputs": [
        {
          "output_type": "stream",
          "name": "stdout",
          "text": [
            "Treinando o k-NN com k=1\n",
            "Treinando o k-NN com k=2\n",
            "Treinando o k-NN com k=3\n",
            "Treinando o k-NN com k=4\n",
            "Treinando o k-NN com k=5\n",
            "Treinando o k-NN com k=6\n",
            "Treinando o k-NN com k=7\n",
            "Treinando o k-NN com k=8\n",
            "Treinando o k-NN com k=9\n",
            "Treinando o k-NN com k=10\n",
            "Treinando o k-NN com k=11\n",
            "Treinando o k-NN com k=12\n",
            "Treinando o k-NN com k=13\n",
            "Treinando o k-NN com k=14\n",
            "Treinando o k-NN com k=15\n",
            "Treinando o k-NN com k=16\n",
            "Treinando o k-NN com k=17\n",
            "Treinando o k-NN com k=18\n",
            "Treinando o k-NN com k=19\n",
            "Treinando o k-NN com k=20\n",
            "Treinando o k-NN com k=21\n",
            "Treinando o k-NN com k=22\n",
            "Treinando o k-NN com k=23\n",
            "Treinando o k-NN com k=24\n",
            "Treinando o k-NN com k=25\n",
            "Treinando o k-NN com k=26\n",
            "Treinando o k-NN com k=27\n",
            "Treinando o k-NN com k=28\n",
            "Treinando o k-NN com k=29\n",
            "Treinando o k-NN com k=30\n",
            "Treinando o k-NN com k=31\n",
            "Treinando o k-NN com k=32\n",
            "Treinando o k-NN com k=33\n",
            "Treinando o k-NN com k=34\n",
            "Treinando o k-NN com k=35\n",
            "Treinando o k-NN com k=36\n",
            "Treinando o k-NN com k=37\n",
            "Treinando o k-NN com k=38\n",
            "Treinando o k-NN com k=39\n",
            "Treinando o k-NN com k=40\n"
          ]
        }
      ]
    },
    {
      "cell_type": "code",
      "source": [
        "plt.figure(figsize=(10,6))\n",
        "plt.plot(range(1,41), error_rate, color='blue', linestyle='dashed', marker='o',\n",
        "         markerfacecolor='red', markersize=10)\n",
        "plt.title('Error Rate vs. K Value')\n",
        "plt.xlabel('K')\n",
        "plt.ylabel('Error Rate')\n",
        "plt.show()"
      ],
      "metadata": {
        "colab": {
          "base_uri": "https://localhost:8080/",
          "height": 564
        },
        "id": "VCbZ0cOggX4d",
        "outputId": "5c9ab487-9121-4c63-d13f-edcd93bcc21d"
      },
      "execution_count": null,
      "outputs": [
        {
          "output_type": "display_data",
          "data": {
            "text/plain": [
              "<Figure size 1000x600 with 1 Axes>"
            ],
            "image/png": "[encoded data removed]"
          },
          "metadata": {}
        }
      ]
    },
    {
      "cell_type": "code",
      "source": [
        "# Função para treinar o modelo k-NN e fazer previsões\n",
        "def train_modelo(X_train_scaled, X_test_scaled, y_train, n_neighbors):\n",
        "    model = KNeighborsClassifier(n_neighbors=n_neighbors)\n",
        "    model.fit(X_train_scaled, y_train)\n",
        "    y_pred = model.predict(X_test)\n",
        "    return y_pred\n",
        "\n",
        "# Listas para armazenar resultados\n",
        "k_values = range(1, 41)\n",
        "res_score = []\n",
        "\n",
        "for k in k_values:\n",
        "    pred_i = train_modelo(X_train, X_test, y_train, k)\n",
        "\n",
        "    #calcule e armazene os valores de score para cada modelo treinado\n",
        "    score = accuracy_score(y_test, pred_i)  # Calcule a acurácia\n",
        "    res_score.append(score)  # Armazene o valor de acurácia\n",
        "    # Imprimir a lista de acurácias após o loop\n",
        "print(\"Acurácias para cada valor de k:\", res_score)"
      ],
      "metadata": {
        "colab": {
          "base_uri": "https://localhost:8080/"
        },
        "id": "LHaeRudZgfGY",
        "outputId": "e2ef7838-81f2-4392-c018-131cdc92f3d0"
      },
      "execution_count": null,
      "outputs": [
        {
          "output_type": "stream",
          "name": "stdout",
          "text": [
            "Acurácias para cada valor de k: [0.724979658258747, 0.6395443449959316, 0.7664768104149715, 0.7672904800650936, 0.7925142392188771, 0.7949552481692432, 0.7990235964198535, 0.8014646053702197, 0.8014646053702197, 0.8014646053702197, 0.8014646053702197, 0.8006509357200976, 0.8022782750203418, 0.8030919446704637, 0.8030919446704637, 0.8022782750203418, 0.8030919446704637, 0.8030919446704637, 0.8022782750203418, 0.7998372660699756, 0.8006509357200976, 0.8014646053702197, 0.8006509357200976, 0.8006509357200976, 0.7998372660699756, 0.7990235964198535, 0.7990235964198535, 0.7982099267697315, 0.7998372660699756, 0.7982099267697315, 0.7973962571196095, 0.7973962571196095, 0.7973962571196095, 0.7973962571196095, 0.7973962571196095, 0.7973962571196095, 0.7973962571196095, 0.7982099267697315, 0.7982099267697315, 0.7973962571196095]\n"
          ]
        }
      ]
    },
    {
      "cell_type": "markdown",
      "source": [
        "# Treine seu modelo novamente com novo valor K"
      ],
      "metadata": {
        "id": "f42Bude5gnqD"
      }
    },
    {
      "cell_type": "code",
      "source": [
        "# k=5\n",
        "# Treine o modelo com k=5\n",
        "knn = KNeighborsClassifier(n_neighbors=5)\n",
        "knn.fit(X_train, y_train)\n",
        "y_pred_3 = knn.predict(X_test)\n",
        "\n",
        "print(classification_report(y_test,y_pred_3, zero_division=0))"
      ],
      "metadata": {
        "colab": {
          "base_uri": "https://localhost:8080/"
        },
        "id": "gaSvQj7Wghay",
        "outputId": "a5bfc402-8028-4eb0-920a-1546b6af031f"
      },
      "execution_count": null,
      "outputs": [
        {
          "output_type": "stream",
          "name": "stdout",
          "text": [
            "              precision    recall  f1-score   support\n",
            "\n",
            "         1.0       0.43      0.22      0.29        55\n",
            "         2.0       0.50      0.10      0.17        20\n",
            "         3.0       0.00      0.00      0.00        37\n",
            "         4.0       0.26      0.07      0.11       138\n",
            "         5.0       0.82      0.97      0.89       979\n",
            "\n",
            "    accuracy                           0.79      1229\n",
            "   macro avg       0.40      0.27      0.29      1229\n",
            "weighted avg       0.71      0.79      0.74      1229\n",
            "\n"
          ]
        }
      ]
    },
    {
      "cell_type": "code",
      "source": [
        "# Prevendo as probabilidades no conjunto de teste\n",
        "y_pred_proba_3 = knn.predict_proba(X_test)\n",
        "\n",
        "# Exibindo as probabilidades\n",
        "print(y_pred_proba_3)"
      ],
      "metadata": {
        "colab": {
          "base_uri": "https://localhost:8080/"
        },
        "id": "4H4tr1L8g3J9",
        "outputId": "3b3171eb-2e9d-4ce7-96f8-b23ea7a7fb93"
      },
      "execution_count": null,
      "outputs": [
        {
          "output_type": "stream",
          "name": "stdout",
          "text": [
            "[[0.  0.  0.  0.6 0.4]\n",
            " [0.4 0.  0.2 0.2 0.2]\n",
            " [0.  0.  0.  0.2 0.8]\n",
            " ...\n",
            " [0.  0.  0.  0.2 0.8]\n",
            " [0.4 0.  0.  0.4 0.2]\n",
            " [0.  0.  0.  0.2 0.8]]\n"
          ]
        }
      ]
    },
    {
      "cell_type": "code",
      "source": [
        "# Treine o modelo com k=11\n",
        "knn = KNeighborsClassifier(n_neighbors=11)\n",
        "knn.fit(X_train, y_train)\n",
        "y_pred_11 = knn.predict(X_test)\n",
        "\n",
        "print(classification_report(y_test,y_pred_11, zero_division=0))"
      ],
      "metadata": {
        "colab": {
          "base_uri": "https://localhost:8080/"
        },
        "id": "o9nbjLw8g8Fu",
        "outputId": "446526f1-ee30-4e94-9a94-4bf93eca1444"
      },
      "execution_count": null,
      "outputs": [
        {
          "output_type": "stream",
          "name": "stdout",
          "text": [
            "              precision    recall  f1-score   support\n",
            "\n",
            "         1.0       0.48      0.20      0.28        55\n",
            "         2.0       0.00      0.00      0.00        20\n",
            "         3.0       0.00      0.00      0.00        37\n",
            "         4.0       0.00      0.00      0.00       138\n",
            "         5.0       0.81      0.99      0.89       979\n",
            "\n",
            "    accuracy                           0.80      1229\n",
            "   macro avg       0.26      0.24      0.24      1229\n",
            "weighted avg       0.67      0.80      0.72      1229\n",
            "\n"
          ]
        }
      ]
    },
    {
      "cell_type": "code",
      "source": [
        "# Prevendo as probabilidades no conjunto de teste\n",
        "y_pred_proba_11 = knn.predict_proba(X_test)\n",
        "\n",
        "# Exibindo as probabilidades\n",
        "print(y_pred_proba_11)"
      ],
      "metadata": {
        "colab": {
          "base_uri": "https://localhost:8080/"
        },
        "id": "wavA75tmhBK8",
        "outputId": "9147e7fd-fdb7-48d1-e357-92df04354c59"
      },
      "execution_count": null,
      "outputs": [
        {
          "output_type": "stream",
          "name": "stdout",
          "text": [
            "[[0.         0.         0.         0.27272727 0.72727273]\n",
            " [0.36363636 0.         0.09090909 0.36363636 0.18181818]\n",
            " [0.         0.         0.         0.18181818 0.81818182]\n",
            " ...\n",
            " [0.         0.         0.         0.27272727 0.72727273]\n",
            " [0.27272727 0.         0.09090909 0.27272727 0.36363636]\n",
            " [0.         0.         0.         0.18181818 0.81818182]]\n"
          ]
        }
      ]
    },
    {
      "cell_type": "markdown",
      "source": [
        "A Mudança no valor de K (de 5 para 11) não resultaram em melhorias nas métricas para a maioria das classes, apenas 0.1 na acurácia geral. O modelo ainda enfrenta dificuldades em classificar adequadamente algumas classes (especialmente a 3.0).\n",
        "\n",
        " Assim, em contextos como esse, é importante considerar outras técnicas, como ajuste de hiperparâmetros, tratamento de classes desbalanceadas, ou mesmo testar outros algoritmos, para melhorar a performance do modelo.\n",
        "\n",
        " Alguns tratamentos de classes desbalanceadas são apagar dados das classes predominantes, apagar dados de forma estratificada das classes predominantes, gerar dados sintéticos ou capturar dados de outros datasets semelhantes para implementação.\n",
        "\n"
      ],
      "metadata": {
        "id": "bMyNkYMIhpD7"
      }
    },
    {
      "cell_type": "markdown",
      "source": [
        "# **Conclusão**"
      ],
      "metadata": {
        "id": "k38mZJbfhPsX"
      }
    },
    {
      "cell_type": "markdown",
      "source": [
        "\n",
        "O presente trabalho teve o objetivo principal de realizar uma análise de sentimento e treinar um modelo de classificação (KNN). Nesse contexto, foi realizada a análise exploratória dos dados para compreensão inicial, limpeza, transformações e tratamento dos dados.\n",
        "\n",
        "O dataframe utilizado possui a classificação de avaliações e comentários de produtos na Amazon. Inicialmente, possuiam 12 colunas, com 4.915 linhas, exceto reviewText e reviewrName. Dessa forma, foi removida a NaN da coluna'reviewText'. Também foi eliminada a coluna \"reviewername\" para salvaguardar os dados do consumidor.\n",
        "\n",
        "Os dados foram carregados, as bibliotecas necessárias foram importadas, os dados explorados e transformados.\n",
        "\n",
        "Outra característica do dataset é que os dados apresentam elementos únicos nas colunas helpful_yes, helpful_no, total_vote e score_pos_neg_diff. O overall, score_average_rating e dispersão dos dados apresentaram predominância de um elemento. E os dados numéricos que percorreram todo o conjunto foi day_diff e index (nome dado posteriormente).\n",
        "\n",
        "A análise de sentimento foi feita nas seguintes colunas: Overall (labell) e ReviewTex. Inicialmente, foram coletados e analisados os dados, bem como apresentadas medidas como TF, IDF e TF_IDF. Foi observada uma quantidade grande de lixo, de modo que foi essencial realizar a limpeza dos dados da coluna ReviewText.\n",
        "\n",
        "Após esse tratamento, novamente foram implementadas as medidas TF, IDF e TF_IDF e plotado um gráfico de nuvem para observar os sentimentos das pessoas em relação aos produtos. Foram visualizados muitos itens de consumo, bem como sentimentos como great, good, fast, problems, speed, worked e outros. Confirma-se, portanto, a informação anterior que a maioria dos sentimentos eram positivos (score 5).\n",
        "\n",
        "Também foi treinado um modelo de classificação KNN. Ocorreu a divisão dos dados em treino e teste. A acurácia inicial do modelo foi 0.79. Foram aplicadas a matriz de confusão e o relatório de classificação, com resultados para precisão, recall, f1-score e support.\n",
        "\n",
        "Também foi realizada análise via curva ROC e para isso ocorreram transformações binárias. A análise selecionou o número 5 pois foi o maior valor obtido pelo modelo, tido como o de maior qualidade.\n",
        "\n",
        "O método do cotovelo foi utilizado para escolher um bom valor K e treinar o modelo, com K = 5 e K = 11. A Mudança no valor de K (de 5 para 11) não resultou em melhorias nas métricas para a maioria das classes, apenas 0.1 na acurácia geral (79% para 80%). Concluiu-se que o modelo enfrentava dificuldades em classificar adequadamente algumas classes (especialmente a 3.0).\n",
        "\n",
        "A acurácia geral é relativamente boa (79%), mas a avaliação por classe sugeriu que houvesse um desbalanceamento no desempenho do modelo. A razão pode ser causada pela pequena quantidade de dados para treinamento nas classes 1, 2, 3 e 4. A classe 5.0, por sua vez, é bem prevista, com alta precisão, revocação e F1-Score.\n",
        "\n",
        "Enfim, em contextos como esse, é importante considerar outras técnicas, como ajuste de hiperparâmetros, tratamento de classes desbalanceadas, ou mesmo testar outros algoritmos para melhorar a performance do modelo.\n",
        "\n",
        "Alguns tratamentos para classes desbalanceadas são indispensáveis como apagar dados das classes predominantes, apagar dados de forma estratificada das classes predominantes, gerar dados sintéticos ou capturar dados de outros datasets semelhantes para implementação.\n",
        "\n"
      ],
      "metadata": {
        "id": "V59JjD_8hJ3K"
      }
    }
  ]
}