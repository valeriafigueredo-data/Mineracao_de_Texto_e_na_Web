{
 "cells": [
  {
   "cell_type": "code",
   "execution_count": null,
   "metadata": {},
   "outputs": [],
   "source": [
    "Cesar School\n",
    "Discente:Valéria Figueredo\n",
    "\n",
    "Trabalho realizado com selenium para extração de dados (Web Scraping) em site com conteúdo Javascript\n",
    "\n"
   ]
  },
  {
   "cell_type": "code",
   "execution_count": 62,
   "metadata": {},
   "outputs": [
    {
     "name": "stdout",
     "output_type": "stream",
     "text": [
      "Requirement already satisfied: selenium in c:\\users\\valer\\appdata\\local\\programs\\python\\python312\\lib\\site-packages (4.25.0)\n",
      "Requirement already satisfied: urllib3<3,>=1.26 in c:\\users\\valer\\appdata\\local\\programs\\python\\python312\\lib\\site-packages (from urllib3[socks]<3,>=1.26->selenium) (2.2.3)\n",
      "Requirement already satisfied: trio~=0.17 in c:\\users\\valer\\appdata\\local\\programs\\python\\python312\\lib\\site-packages (from selenium) (0.26.2)\n",
      "Requirement already satisfied: trio-websocket~=0.9 in c:\\users\\valer\\appdata\\local\\programs\\python\\python312\\lib\\site-packages (from selenium) (0.11.1)\n",
      "Requirement already satisfied: certifi>=2021.10.8 in c:\\users\\valer\\appdata\\local\\programs\\python\\python312\\lib\\site-packages (from selenium) (2024.8.30)\n",
      "Requirement already satisfied: typing_extensions~=4.9 in c:\\users\\valer\\appdata\\local\\programs\\python\\python312\\lib\\site-packages (from selenium) (4.12.2)\n",
      "Requirement already satisfied: websocket-client~=1.8 in c:\\users\\valer\\appdata\\local\\programs\\python\\python312\\lib\\site-packages (from selenium) (1.8.0)\n",
      "Requirement already satisfied: attrs>=23.2.0 in c:\\users\\valer\\appdata\\local\\programs\\python\\python312\\lib\\site-packages (from trio~=0.17->selenium) (24.2.0)\n",
      "Requirement already satisfied: sortedcontainers in c:\\users\\valer\\appdata\\local\\programs\\python\\python312\\lib\\site-packages (from trio~=0.17->selenium) (2.4.0)\n",
      "Requirement already satisfied: idna in c:\\users\\valer\\appdata\\local\\programs\\python\\python312\\lib\\site-packages (from trio~=0.17->selenium) (3.10)\n",
      "Requirement already satisfied: outcome in c:\\users\\valer\\appdata\\local\\programs\\python\\python312\\lib\\site-packages (from trio~=0.17->selenium) (1.3.0.post0)\n",
      "Requirement already satisfied: sniffio>=1.3.0 in c:\\users\\valer\\appdata\\local\\programs\\python\\python312\\lib\\site-packages (from trio~=0.17->selenium) (1.3.1)\n",
      "Requirement already satisfied: cffi>=1.14 in c:\\users\\valer\\appdata\\local\\programs\\python\\python312\\lib\\site-packages (from trio~=0.17->selenium) (1.17.1)\n",
      "Requirement already satisfied: wsproto>=0.14 in c:\\users\\valer\\appdata\\local\\programs\\python\\python312\\lib\\site-packages (from trio-websocket~=0.9->selenium) (1.2.0)\n",
      "Requirement already satisfied: pysocks!=1.5.7,<2.0,>=1.5.6 in c:\\users\\valer\\appdata\\local\\programs\\python\\python312\\lib\\site-packages (from urllib3[socks]<3,>=1.26->selenium) (1.7.1)\n",
      "Requirement already satisfied: pycparser in c:\\users\\valer\\appdata\\local\\programs\\python\\python312\\lib\\site-packages (from cffi>=1.14->trio~=0.17->selenium) (2.22)\n",
      "Requirement already satisfied: h11<1,>=0.9.0 in c:\\users\\valer\\appdata\\local\\programs\\python\\python312\\lib\\site-packages (from wsproto>=0.14->trio-websocket~=0.9->selenium) (0.14.0)\n"
     ]
    }
   ],
   "source": [
    "!pip install selenium"
   ]
  },
  {
   "cell_type": "code",
   "execution_count": 63,
   "metadata": {},
   "outputs": [],
   "source": [
    "from selenium import webdriver\n",
    "from selenium.webdriver.common.by import By\n",
    "from selenium.webdriver.support.ui import WebDriverWait\n",
    "from selenium.webdriver.support import expected_conditions as EC\n",
    "\n",
    "# Inicializa o driver\n",
    "driver = webdriver.Chrome()\n"
   ]
  },
  {
   "cell_type": "code",
   "execution_count": 64,
   "metadata": {},
   "outputs": [
    {
     "name": "stdout",
     "output_type": "stream",
     "text": [
      "\n",
      "        O CESAR é um Instituto de pesquisa sem fins lucrativos fundado em 20 de maio por Silvio Meira, Fábio Silva e Ismar Kaufman em PE.\n",
      "        Segundo os dados coletados, Eduardo Peixoto (CEO)\n",
      "Karla Godoy (COO) são os chefes da organização que tem 600+ (2019) [1].\n",
      "        O CESAR possui cursos de Ciência da Computação, Design, Engenharia de Software,Design de Artefatos Digitais, Engenharia de Software.\n",
      "        Para mais detalhes dessa instituição incrível, acesse http://www.cesar.org.br\n",
      "        \n"
     ]
    }
   ],
   "source": [
    "from selenium import webdriver\n",
    "from selenium.webdriver.common.by import By\n",
    "from selenium.webdriver.common.keys import Keys\n",
    "from selenium.webdriver.support.ui import WebDriverWait\n",
    "from selenium.webdriver.support import expected_conditions as EC\n",
    "\n",
    "# Inicializa o driver\n",
    "driver = webdriver.Chrome()\n",
    "\n",
    "try:\n",
    "    driver.get('https://pt.wikipedia.org/')\n",
    "    \n",
    "    # Clica no ícone da lupa para revelar a barra de busca\n",
    "    lupa_icon = WebDriverWait(driver, 40).until(\n",
    "        EC.element_to_be_clickable((By.XPATH, '//*[@id=\"p-search\"]/a/span[1]'))\n",
    "    )\n",
    "    lupa_icon.click()\n",
    "\n",
    "    # Encontra a barra de busca e pesquisa por \"cesar\"\n",
    "    search_box = WebDriverWait(driver, 40).until(\n",
    "        EC.visibility_of_element_located((By.NAME, 'search'))\n",
    "    )\n",
    "    search_box.send_keys(\"cesar\" + Keys.RETURN)\n",
    "\n",
    "    # Aguarda a página carregar e clica no link do CESAR\n",
    "    cesar_link = WebDriverWait(driver, 40).until(\n",
    "        EC.element_to_be_clickable((By.LINK_TEXT, \"Centro de Estudos e Sistemas Avançados do Recife\"))\n",
    "    )\n",
    "    cesar_link.click()\n",
    "\n",
    "    \n",
    "    # Coleta os dados necessários\n",
    "    tipo = driver.find_element(By.XPATH, '//*[@id=\"mw-content-text\"]/div[1]/table[1]/tbody/tr[3]/td[2]').text\n",
    "\n",
    "    # data de fundação\n",
    "    data_fundacao = driver.find_element(By.XPATH, '//*[@id=\"mw-content-text\"]/div[1]/table[1]/tbody/tr[4]/td[2]/a[1]').text\n",
    "\n",
    "\n",
    "    # fundador\n",
    "    fundador = driver.find_element(By.XPATH, '//*[@id=\"mw-content-text\"]/div[1]/table[1]/tbody/tr[6]/td[2]').text\n",
    "   \n",
    "    #local\n",
    "    local_fundacao = driver.find_element(By.XPATH, '//*[@id=\"mw-content-text\"]/div[1]/table[1]/tbody/tr[5]/td[2]/a[2]').text\n",
    " \n",
    "    #ceo\n",
    "    ceos = driver.find_element(By.XPATH, '//*[@id=\"mw-content-text\"]/div[1]/table[1]/tbody/tr[7]/td[2]').text\n",
    "    \n",
    "\n",
    "    # Numero Funcionário\n",
    "    numero_funcionarios = driver.find_element(By.XPATH, '//*[@id=\"mw-content-text\"]/div[1]/table[1]/tbody/tr[8]/td[2]').text\n",
    "\n",
    "    #Graduação\n",
    "    graduacao_01 = driver.find_elements(By.XPATH, '//*[@id=\"mw-content-text\"]/div[1]/table[2]/tbody/tr[3]/td[1]')[0].text\n",
    "    graduacao_02 = driver.find_elements(By.XPATH, '//*[@id=\"mw-content-text\"]/div[1]/table[2]/tbody/tr[4]/td[1]')[0].text\n",
    "\n",
    "\n",
    "    #Mestrado\n",
    "    metrado_01 = driver.find_elements(By.XPATH, '//*[@id=\"mw-content-text\"]/div[1]/table[2]/tbody/tr[6]/td[1]')[0].text\n",
    "    mestrado_01 = driver.find_elements(By.XPATH, '//*[@id=\"mw-content-text\"]/div[1]/table[2]/tbody/tr[7]/td[1]')[0].text\n",
    "   \n",
    "    #Doutorado\n",
    "    doutorado_01 = driver.find_element(By.XPATH, '//*[@id=\"mw-content-text\"]/div[1]/table[2]/tbody/tr[9]/td[1]').text\n",
    "\n",
    "    site = driver.find_element(By.XPATH, '//*[@id=\"mw-content-text\"]/div[1]/table[1]/tbody/tr[9]/td[2]/a').text\n",
    "\n",
    "     # Exibe os dados coletados\n",
    "    print(f\"\"\"\n",
    "        O CESAR é um {tipo} fundado em {data_fundacao} por {fundador} em {local_fundacao}.\n",
    "        Segundo os dados coletados, {ceos} são os chefes da organização que tem {numero_funcionarios}.\n",
    "        O CESAR possui cursos de {graduacao_01}, {graduacao_02}, {metrado_01},{mestrado_01}, {doutorado_01}.\n",
    "        Para mais detalhes dessa instituição incrível, acesse {site}\n",
    "        \"\"\")\n",
    "\n",
    "except Exception as e:\n",
    "    import traceback\n",
    "    print(\"Erro ao coletar dados:\")\n",
    "    traceback.print_exc()\n",
    "\n",
    "finally:\n",
    "    driver.quit()\n",
    "    \n"
   ]
  }
 ],
 "metadata": {
  "kernelspec": {
   "display_name": "Python 3",
   "language": "python",
   "name": "python3"
  },
  "language_info": {
   "codemirror_mode": {
    "name": "ipython",
    "version": 3
   },
   "file_extension": ".py",
   "mimetype": "text/x-python",
   "name": "python",
   "nbconvert_exporter": "python",
   "pygments_lexer": "ipython3",
   "version": "3.12.4"
  }
 },
 "nbformat": 4,
 "nbformat_minor": 2
}
